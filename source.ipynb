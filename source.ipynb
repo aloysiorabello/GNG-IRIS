{
  "nbformat": 4,
  "nbformat_minor": 0,
  "metadata": {
    "colab": {
      "name": "projeto03.ipynb",
      "provenance": []
    },
    "kernelspec": {
      "name": "python3",
      "display_name": "Python 3"
    }
  },
  "cells": [
    {
      "cell_type": "code",
      "metadata": {
        "id": "weGa-tVTs0cj"
      },
      "source": [
        "from sklearn import datasets\r\n",
        "import numpy as np\r\n",
        "import pandas as pd\r\n",
        "import matplotlib.pyplot as plt\r\n",
        "import seaborn as sns\r\n",
        "\r\n",
        "from matplotlib import animation\r\n",
        "from IPython.display import HTML\r\n",
        "from tqdm import tqdm_notebook as tqdm\r\n",
        "from sklearn import preprocessing"
      ],
      "execution_count": 36,
      "outputs": []
    },
    {
      "cell_type": "code",
      "metadata": {
        "colab": {
          "base_uri": "https://localhost:8080/"
        },
        "id": "gAoXZRRcs47A",
        "outputId": "a3daf8ee-af2d-49a8-93ab-9d5e375603b2"
      },
      "source": [
        "!pip install neupy\r\n",
        "\r\n",
        "from neupy import utils\r\n",
        "from neupy import algorithms, utils"
      ],
      "execution_count": 37,
      "outputs": [
        {
          "output_type": "stream",
          "text": [
            "Requirement already satisfied: neupy in /usr/local/lib/python3.6/dist-packages (0.8.2)\n",
            "Requirement already satisfied: h5py in /usr/local/lib/python3.6/dist-packages (from neupy) (2.10.0)\n",
            "Requirement already satisfied: scipy>=0.19.0 in /usr/local/lib/python3.6/dist-packages (from neupy) (1.4.1)\n",
            "Requirement already satisfied: tensorflow<1.14.0,>=1.10.1 in /usr/local/lib/python3.6/dist-packages (from neupy) (1.13.2)\n",
            "Requirement already satisfied: progressbar2==3.34.3 in /usr/local/lib/python3.6/dist-packages (from neupy) (3.34.3)\n",
            "Requirement already satisfied: numpy>=1.13.3 in /usr/local/lib/python3.6/dist-packages (from neupy) (1.19.4)\n",
            "Requirement already satisfied: graphviz==0.5.1 in /usr/local/lib/python3.6/dist-packages (from neupy) (0.5.1)\n",
            "Requirement already satisfied: matplotlib>=1.5.1 in /usr/local/lib/python3.6/dist-packages (from neupy) (3.2.2)\n",
            "Requirement already satisfied: six in /usr/local/lib/python3.6/dist-packages (from h5py->neupy) (1.15.0)\n",
            "Requirement already satisfied: wheel>=0.26 in /usr/local/lib/python3.6/dist-packages (from tensorflow<1.14.0,>=1.10.1->neupy) (0.36.2)\n",
            "Requirement already satisfied: astor>=0.6.0 in /usr/local/lib/python3.6/dist-packages (from tensorflow<1.14.0,>=1.10.1->neupy) (0.8.1)\n",
            "Requirement already satisfied: gast>=0.2.0 in /usr/local/lib/python3.6/dist-packages (from tensorflow<1.14.0,>=1.10.1->neupy) (0.3.3)\n",
            "Requirement already satisfied: keras-applications>=1.0.6 in /usr/local/lib/python3.6/dist-packages (from tensorflow<1.14.0,>=1.10.1->neupy) (1.0.8)\n",
            "Requirement already satisfied: tensorboard<1.14.0,>=1.13.0 in /usr/local/lib/python3.6/dist-packages (from tensorflow<1.14.0,>=1.10.1->neupy) (1.13.1)\n",
            "Requirement already satisfied: keras-preprocessing>=1.0.5 in /usr/local/lib/python3.6/dist-packages (from tensorflow<1.14.0,>=1.10.1->neupy) (1.1.2)\n",
            "Requirement already satisfied: termcolor>=1.1.0 in /usr/local/lib/python3.6/dist-packages (from tensorflow<1.14.0,>=1.10.1->neupy) (1.1.0)\n",
            "Requirement already satisfied: protobuf>=3.6.1 in /usr/local/lib/python3.6/dist-packages (from tensorflow<1.14.0,>=1.10.1->neupy) (3.12.4)\n",
            "Requirement already satisfied: grpcio>=1.8.6 in /usr/local/lib/python3.6/dist-packages (from tensorflow<1.14.0,>=1.10.1->neupy) (1.32.0)\n",
            "Requirement already satisfied: absl-py>=0.1.6 in /usr/local/lib/python3.6/dist-packages (from tensorflow<1.14.0,>=1.10.1->neupy) (0.10.0)\n",
            "Requirement already satisfied: tensorflow-estimator<1.14.0rc0,>=1.13.0 in /usr/local/lib/python3.6/dist-packages (from tensorflow<1.14.0,>=1.10.1->neupy) (1.13.0)\n",
            "Requirement already satisfied: python-utils>=2.1.0 in /usr/local/lib/python3.6/dist-packages (from progressbar2==3.34.3->neupy) (2.4.0)\n",
            "Requirement already satisfied: kiwisolver>=1.0.1 in /usr/local/lib/python3.6/dist-packages (from matplotlib>=1.5.1->neupy) (1.3.1)\n",
            "Requirement already satisfied: cycler>=0.10 in /usr/local/lib/python3.6/dist-packages (from matplotlib>=1.5.1->neupy) (0.10.0)\n",
            "Requirement already satisfied: pyparsing!=2.0.4,!=2.1.2,!=2.1.6,>=2.0.1 in /usr/local/lib/python3.6/dist-packages (from matplotlib>=1.5.1->neupy) (2.4.7)\n",
            "Requirement already satisfied: python-dateutil>=2.1 in /usr/local/lib/python3.6/dist-packages (from matplotlib>=1.5.1->neupy) (2.8.1)\n",
            "Requirement already satisfied: werkzeug>=0.11.15 in /usr/local/lib/python3.6/dist-packages (from tensorboard<1.14.0,>=1.13.0->tensorflow<1.14.0,>=1.10.1->neupy) (1.0.1)\n",
            "Requirement already satisfied: markdown>=2.6.8 in /usr/local/lib/python3.6/dist-packages (from tensorboard<1.14.0,>=1.13.0->tensorflow<1.14.0,>=1.10.1->neupy) (3.3.3)\n",
            "Requirement already satisfied: setuptools in /usr/local/lib/python3.6/dist-packages (from protobuf>=3.6.1->tensorflow<1.14.0,>=1.10.1->neupy) (51.0.0)\n",
            "Requirement already satisfied: mock>=2.0.0 in /usr/local/lib/python3.6/dist-packages (from tensorflow-estimator<1.14.0rc0,>=1.13.0->tensorflow<1.14.0,>=1.10.1->neupy) (4.0.3)\n",
            "Requirement already satisfied: importlib-metadata; python_version < \"3.8\" in /usr/local/lib/python3.6/dist-packages (from markdown>=2.6.8->tensorboard<1.14.0,>=1.13.0->tensorflow<1.14.0,>=1.10.1->neupy) (3.3.0)\n",
            "Requirement already satisfied: typing-extensions>=3.6.4; python_version < \"3.8\" in /usr/local/lib/python3.6/dist-packages (from importlib-metadata; python_version < \"3.8\"->markdown>=2.6.8->tensorboard<1.14.0,>=1.13.0->tensorflow<1.14.0,>=1.10.1->neupy) (3.7.4.3)\n",
            "Requirement already satisfied: zipp>=0.5 in /usr/local/lib/python3.6/dist-packages (from importlib-metadata; python_version < \"3.8\"->markdown>=2.6.8->tensorboard<1.14.0,>=1.13.0->tensorflow<1.14.0,>=1.10.1->neupy) (3.4.0)\n"
          ],
          "name": "stdout"
        }
      ]
    },
    {
      "cell_type": "code",
      "metadata": {
        "id": "FF1e5c85tE6y"
      },
      "source": [
        "iris = datasets.load_iris()\r\n",
        "data = iris.data\r\n",
        "features = iris.feature_names\r\n",
        "iris_target = iris.target\r\n",
        "classes = iris.target_names"
      ],
      "execution_count": 38,
      "outputs": []
    },
    {
      "cell_type": "code",
      "metadata": {
        "id": "pKPIxO1WtHqf"
      },
      "source": [
        "df_iris = pd.DataFrame(data, columns=features)\r\n",
        "df_iris[\"class_id\"] = iris_target\r\n",
        "\r\n",
        "df_iris.loc[df_iris[\"class_id\"]==0, 'class'] = str(classes[0])\r\n",
        "df_iris.loc[df_iris[\"class_id\"]==1, 'class'] = str(classes[1])\r\n",
        "df_iris.loc[df_iris[\"class_id\"]==2, 'class'] = str(classes[2])"
      ],
      "execution_count": 39,
      "outputs": []
    },
    {
      "cell_type": "code",
      "metadata": {
        "colab": {
          "base_uri": "https://localhost:8080/",
          "height": 1000
        },
        "id": "5aieSDTatK_i",
        "outputId": "37023ebb-0457-4b26-cda3-6f3367b26e0c"
      },
      "source": [
        "sns.set(style=\"ticks\")\r\n",
        "sns.pairplot(df_iris, hue=\"class\")"
      ],
      "execution_count": 40,
      "outputs": [
        {
          "output_type": "stream",
          "text": [
            "/usr/local/lib/python3.6/dist-packages/seaborn/distributions.py:305: UserWarning: Dataset has 0 variance; skipping density estimate.\n",
            "  warnings.warn(msg, UserWarning)\n",
            "/usr/local/lib/python3.6/dist-packages/seaborn/distributions.py:305: UserWarning: Dataset has 0 variance; skipping density estimate.\n",
            "  warnings.warn(msg, UserWarning)\n",
            "/usr/local/lib/python3.6/dist-packages/seaborn/distributions.py:305: UserWarning: Dataset has 0 variance; skipping density estimate.\n",
            "  warnings.warn(msg, UserWarning)\n"
          ],
          "name": "stderr"
        },
        {
          "output_type": "execute_result",
          "data": {
            "text/plain": [
              "<seaborn.axisgrid.PairGrid at 0x7f228b3244e0>"
            ]
          },
          "metadata": {
            "tags": []
          },
          "execution_count": 40
        },
        {
          "output_type": "display_data",
          "data": {
            "image/png": "[encoded data removed]",
            "text/plain": [
              "<Figure size 993.85x900 with 30 Axes>"
            ]
          },
          "metadata": {
            "tags": []
          }
        }
      ]
    },
    {
      "cell_type": "code",
      "metadata": {
        "colab": {
          "base_uri": "https://localhost:8080/",
          "height": 204
        },
        "id": "4C84EbdDtLAl",
        "outputId": "33ffb0c0-7d4f-40f7-d88a-439d9dda95c4"
      },
      "source": [
        "df_iris.head()"
      ],
      "execution_count": 41,
      "outputs": [
        {
          "output_type": "execute_result",
          "data": {
            "text/html": [
              "<div>\n",
              "<style scoped>\n",
              "    .dataframe tbody tr th:only-of-type {\n",
              "        vertical-align: middle;\n",
              "    }\n",
              "\n",
              "    .dataframe tbody tr th {\n",
              "        vertical-align: top;\n",
              "    }\n",
              "\n",
              "    .dataframe thead th {\n",
              "        text-align: right;\n",
              "    }\n",
              "</style>\n",
              "<table border=\"1\" class=\"dataframe\">\n",
              "  <thead>\n",
              "    <tr style=\"text-align: right;\">\n",
              "      <th></th>\n",
              "      <th>sepal length (cm)</th>\n",
              "      <th>sepal width (cm)</th>\n",
              "      <th>petal length (cm)</th>\n",
              "      <th>petal width (cm)</th>\n",
              "      <th>class_id</th>\n",
              "      <th>class</th>\n",
              "    </tr>\n",
              "  </thead>\n",
              "  <tbody>\n",
              "    <tr>\n",
              "      <th>0</th>\n",
              "      <td>5.1</td>\n",
              "      <td>3.5</td>\n",
              "      <td>1.4</td>\n",
              "      <td>0.2</td>\n",
              "      <td>0</td>\n",
              "      <td>setosa</td>\n",
              "    </tr>\n",
              "    <tr>\n",
              "      <th>1</th>\n",
              "      <td>4.9</td>\n",
              "      <td>3.0</td>\n",
              "      <td>1.4</td>\n",
              "      <td>0.2</td>\n",
              "      <td>0</td>\n",
              "      <td>setosa</td>\n",
              "    </tr>\n",
              "    <tr>\n",
              "      <th>2</th>\n",
              "      <td>4.7</td>\n",
              "      <td>3.2</td>\n",
              "      <td>1.3</td>\n",
              "      <td>0.2</td>\n",
              "      <td>0</td>\n",
              "      <td>setosa</td>\n",
              "    </tr>\n",
              "    <tr>\n",
              "      <th>3</th>\n",
              "      <td>4.6</td>\n",
              "      <td>3.1</td>\n",
              "      <td>1.5</td>\n",
              "      <td>0.2</td>\n",
              "      <td>0</td>\n",
              "      <td>setosa</td>\n",
              "    </tr>\n",
              "    <tr>\n",
              "      <th>4</th>\n",
              "      <td>5.0</td>\n",
              "      <td>3.6</td>\n",
              "      <td>1.4</td>\n",
              "      <td>0.2</td>\n",
              "      <td>0</td>\n",
              "      <td>setosa</td>\n",
              "    </tr>\n",
              "  </tbody>\n",
              "</table>\n",
              "</div>"
            ],
            "text/plain": [
              "   sepal length (cm)  sepal width (cm)  ...  class_id   class\n",
              "0                5.1               3.5  ...         0  setosa\n",
              "1                4.9               3.0  ...         0  setosa\n",
              "2                4.7               3.2  ...         0  setosa\n",
              "3                4.6               3.1  ...         0  setosa\n",
              "4                5.0               3.6  ...         0  setosa\n",
              "\n",
              "[5 rows x 6 columns]"
            ]
          },
          "metadata": {
            "tags": []
          },
          "execution_count": 41
        }
      ]
    },
    {
      "cell_type": "code",
      "metadata": {
        "colab": {
          "base_uri": "https://localhost:8080/",
          "height": 297
        },
        "id": "qnlUaqRytWfj",
        "outputId": "668bfe9b-8510-4ff1-fc3a-f0a50d2cdf2b"
      },
      "source": [
        "iris_x = df_iris.filter(['sepal length (cm)', 'sepal width (cm)','petal length (cm)', 'petal width (cm)'])\r\n",
        "species = {'setosa': 0,'versicolor': 1,'virginica': 2}\r\n",
        "iris_class = df_iris['class'].map(species)\r\n",
        "iris_class = iris_class.to_numpy()\r\n",
        "\r\n",
        "iris_x = preprocessing.scale(iris_x)\r\n",
        "iris_x = pd.DataFrame(iris_x, columns = ['sepal length (cm)', 'sepal width (cm)','petal length (cm)', 'petal width (cm)'])\r\n",
        "\r\n",
        "iris_x.describe()"
      ],
      "execution_count": 42,
      "outputs": [
        {
          "output_type": "execute_result",
          "data": {
            "text/html": [
              "<div>\n",
              "<style scoped>\n",
              "    .dataframe tbody tr th:only-of-type {\n",
              "        vertical-align: middle;\n",
              "    }\n",
              "\n",
              "    .dataframe tbody tr th {\n",
              "        vertical-align: top;\n",
              "    }\n",
              "\n",
              "    .dataframe thead th {\n",
              "        text-align: right;\n",
              "    }\n",
              "</style>\n",
              "<table border=\"1\" class=\"dataframe\">\n",
              "  <thead>\n",
              "    <tr style=\"text-align: right;\">\n",
              "      <th></th>\n",
              "      <th>sepal length (cm)</th>\n",
              "      <th>sepal width (cm)</th>\n",
              "      <th>petal length (cm)</th>\n",
              "      <th>petal width (cm)</th>\n",
              "    </tr>\n",
              "  </thead>\n",
              "  <tbody>\n",
              "    <tr>\n",
              "      <th>count</th>\n",
              "      <td>1.500000e+02</td>\n",
              "      <td>1.500000e+02</td>\n",
              "      <td>1.500000e+02</td>\n",
              "      <td>1.500000e+02</td>\n",
              "    </tr>\n",
              "    <tr>\n",
              "      <th>mean</th>\n",
              "      <td>-2.775558e-16</td>\n",
              "      <td>-9.695948e-16</td>\n",
              "      <td>-8.652338e-16</td>\n",
              "      <td>-4.662937e-16</td>\n",
              "    </tr>\n",
              "    <tr>\n",
              "      <th>std</th>\n",
              "      <td>1.003350e+00</td>\n",
              "      <td>1.003350e+00</td>\n",
              "      <td>1.003350e+00</td>\n",
              "      <td>1.003350e+00</td>\n",
              "    </tr>\n",
              "    <tr>\n",
              "      <th>min</th>\n",
              "      <td>-1.870024e+00</td>\n",
              "      <td>-2.433947e+00</td>\n",
              "      <td>-1.567576e+00</td>\n",
              "      <td>-1.447076e+00</td>\n",
              "    </tr>\n",
              "    <tr>\n",
              "      <th>25%</th>\n",
              "      <td>-9.006812e-01</td>\n",
              "      <td>-5.923730e-01</td>\n",
              "      <td>-1.226552e+00</td>\n",
              "      <td>-1.183812e+00</td>\n",
              "    </tr>\n",
              "    <tr>\n",
              "      <th>50%</th>\n",
              "      <td>-5.250608e-02</td>\n",
              "      <td>-1.319795e-01</td>\n",
              "      <td>3.364776e-01</td>\n",
              "      <td>1.325097e-01</td>\n",
              "    </tr>\n",
              "    <tr>\n",
              "      <th>75%</th>\n",
              "      <td>6.745011e-01</td>\n",
              "      <td>5.586108e-01</td>\n",
              "      <td>7.627583e-01</td>\n",
              "      <td>7.906707e-01</td>\n",
              "    </tr>\n",
              "    <tr>\n",
              "      <th>max</th>\n",
              "      <td>2.492019e+00</td>\n",
              "      <td>3.090775e+00</td>\n",
              "      <td>1.785832e+00</td>\n",
              "      <td>1.712096e+00</td>\n",
              "    </tr>\n",
              "  </tbody>\n",
              "</table>\n",
              "</div>"
            ],
            "text/plain": [
              "       sepal length (cm)  sepal width (cm)  petal length (cm)  petal width (cm)\n",
              "count       1.500000e+02      1.500000e+02       1.500000e+02      1.500000e+02\n",
              "mean       -2.775558e-16     -9.695948e-16      -8.652338e-16     -4.662937e-16\n",
              "std         1.003350e+00      1.003350e+00       1.003350e+00      1.003350e+00\n",
              "min        -1.870024e+00     -2.433947e+00      -1.567576e+00     -1.447076e+00\n",
              "25%        -9.006812e-01     -5.923730e-01      -1.226552e+00     -1.183812e+00\n",
              "50%        -5.250608e-02     -1.319795e-01       3.364776e-01      1.325097e-01\n",
              "75%         6.745011e-01      5.586108e-01       7.627583e-01      7.906707e-01\n",
              "max         2.492019e+00      3.090775e+00       1.785832e+00      1.712096e+00"
            ]
          },
          "metadata": {
            "tags": []
          },
          "execution_count": 42
        }
      ]
    },
    {
      "cell_type": "code",
      "metadata": {
        "id": "-qfsB0X6tbcJ"
      },
      "source": [
        "def create_gng(n_features, n_start_nodes, epsilon_b, epsilon_n, max_age, lambda_, beta, alpha, max_nodes, verbose = True):\r\n",
        "    \"\"\"\r\n",
        "    Parâmetros\r\n",
        "    ----------\r\n",
        "        n_inputs : Número de classes no conjunto de dados\r\n",
        "        n_start_nodes : Número de neurônios inicializados\r\n",
        "        step (epsilon_b) : move o nó vencedor em epsilon_b vezes\r\n",
        "        neighbour_step (epsilon_n) : move os nós vizinhos do nó vencedor epsilon_n vezes\r\n",
        "        max_edge_age : remove arestas mais antigas que max_edge_age  \r\n",
        "        n_iter_before_neuron_added (lambda) : a cada lambda iteração um novo nó é adicionado\r\n",
        "        error_decay_rate (beta) : taxa de deicamento para todo nó\r\n",
        "        after_split_error_decay_rate (alpha) : decaimento de erro após a inserção de novo nó\r\n",
        "        max_nodes : Número máximo de nós a serem adicionados    \r\n",
        "    \"\"\"\r\n",
        "    \r\n",
        "    return algorithms.GrowingNeuralGas(\r\n",
        "        n_inputs=n_features,\r\n",
        "        n_start_nodes=n_start_nodes,\r\n",
        "\r\n",
        "        shuffle_data=True,\r\n",
        "        verbose=verbose,\r\n",
        "\r\n",
        "        step=epsilon_b,\r\n",
        "        neighbour_step=epsilon_n,\r\n",
        "\r\n",
        "        max_edge_age=max_age,\r\n",
        "        max_nodes=max_nodes,\r\n",
        "\r\n",
        "        n_iter_before_neuron_added=lambda_,\r\n",
        "        after_split_error_decay_rate=alpha,\r\n",
        "        error_decay_rate=beta,\r\n",
        "        min_distance_for_update=0.01,\r\n",
        "    )"
      ],
      "execution_count": 43,
      "outputs": []
    },
    {
      "cell_type": "code",
      "metadata": {
        "id": "WJZJnMt3tfUK"
      },
      "source": [
        "def create_model(model_df, list_gng_models, list_modes = [] ):\r\n",
        "\r\n",
        "    for index in range(len(list_gng_models)):\r\n",
        "            dict_info = pd.DataFrame.from_dict({'quantisation_error': list_gng_models[index].errors.train,\r\n",
        "                                        'iterations': [i for i in range(1, len(list_gng_models[index].errors.train)+1)],\r\n",
        "                                        'mode': [list_modes[index] for i in range(1, len(list_gng_models[index].errors.train)+1)],\r\n",
        "                                        'error_min':[min(list_gng_models[index].errors.train) for i in range(1, len(list_gng_models[index].errors.train)+1)]\r\n",
        "                                        })\r\n",
        "            model_df = model_df.append(dict_info)\r\n",
        "    return(model_df)"
      ],
      "execution_count": 44,
      "outputs": []
    },
    {
      "cell_type": "code",
      "metadata": {
        "colab": {
          "base_uri": "https://localhost:8080/"
        },
        "id": "41mjvdt2tkPA",
        "outputId": "f69db2f4-070d-4784-ac13-015160398f45"
      },
      "source": [
        "# Modelo 01\r\n",
        "gng_model1 = create_gng(n_features = len(iris_x.columns),\r\n",
        "                         n_start_nodes = 2,\r\n",
        "                         epsilon_b = 10e-2,\r\n",
        "                         epsilon_n = 10e-4,\r\n",
        "                         max_age = 90,\r\n",
        "                         lambda_ = 50,\r\n",
        "                         beta = 0.005,\r\n",
        "                         alpha = 0.5,\r\n",
        "                         max_nodes = 500,\r\n",
        "                         verbose=True)\r\n",
        "\r\n",
        "gng_model1.train(iris_x, epochs=200)"
      ],
      "execution_count": 45,
      "outputs": [
        {
          "output_type": "stream",
          "text": [
            "\n",
            "Main information\n",
            "\n",
            "[ALGORITHM] GrowingNeuralGas\n",
            "\r\n",
            "[OPTION] after_split_error_decay_rate = 0.5\n",
            "[OPTION] error_decay_rate = 0.005\n",
            "[OPTION] max_edge_age = 90\n",
            "[OPTION] max_nodes = 500\n",
            "[OPTION] min_distance_for_update = 0.01\n",
            "[OPTION] n_inputs = 4\n",
            "[OPTION] n_iter_before_neuron_added = 50\n",
            "[OPTION] n_start_nodes = 2\n",
            "[OPTION] neighbour_step = 0.001\n",
            "[OPTION] show_epoch = 1\n",
            "[OPTION] shuffle_data = True\n",
            "[OPTION] signals = None\n",
            "[OPTION] step = 0.1\n",
            "[OPTION] verbose = True\n",
            "\r\n",
            "#1 : [8 ms] train: 1.252453\n",
            "#2 : [8 ms] train: 0.772827\n",
            "#3 : [9 ms] train: 0.639590\n",
            "#4 : [10 ms] train: 0.597779\n",
            "#5 : [21 ms] train: 0.522302\n",
            "#6 : [16 ms] train: 0.481771\n",
            "#7 : [17 ms] train: 0.444483\n",
            "#8 : [16 ms] train: 0.418742\n",
            "#9 : [13 ms] train: 0.397494\n",
            "#10 : [13 ms] train: 0.382063\n",
            "#11 : [13 ms] train: 0.364695\n",
            "#12 : [14 ms] train: 0.347564\n",
            "#13 : [15 ms] train: 0.334573\n",
            "#14 : [13 ms] train: 0.326867\n"
          ],
          "name": "stdout"
        },
        {
          "output_type": "stream",
          "text": [
            "\r                                                                               \r\r                                                                               \r\r                                                                               \r\r                                                                               \r\r                                                                               \r\r                                                                               \r\r                                                                               \r\r                                                                               \r\r                                                                               \r\r                                                                               \r\r                                                                               \r\r                                                                               \r\r                                                                               \r\r                                                                               \r\r                                                                               \r"
          ],
          "name": "stderr"
        },
        {
          "output_type": "stream",
          "text": [
            "#15 : [17 ms] train: 0.318659\n",
            "#16 : [17 ms] train: 0.308860\n",
            "#17 : [14 ms] train: 0.297662\n",
            "#18 : [14 ms] train: 0.288754\n",
            "#19 : [15 ms] train: 0.280151\n",
            "#20 : [15 ms] train: 0.271293\n",
            "#21 : [15 ms] train: 0.262885\n",
            "#22 : [16 ms] train: 0.254415\n",
            "#23 : [17 ms] train: 0.245155\n",
            "#24 : [16 ms] train: 0.236866\n",
            "#25 : [16 ms] train: 0.230497\n",
            "#26 : [17 ms] train: 0.224368\n",
            "#27 : [18 ms] train: 0.219104\n"
          ],
          "name": "stdout"
        },
        {
          "output_type": "stream",
          "text": [
            "\r                                                                               \r\r                                                                               \r\r                                                                               \r\r                                                                               \r\r                                                                               \r\r                                                                               \r\r                                                                               \r\r                                                                               \r\r                                                                               \r\r                                                                               \r\r                                                                               \r\r                                                                               \r\r                                                                               \r"
          ],
          "name": "stderr"
        },
        {
          "output_type": "stream",
          "text": [
            "#28 : [23 ms] train: 0.215135\n",
            "#29 : [23 ms] train: 0.209711\n",
            "#30 : [19 ms] train: 0.204363\n",
            "#31 : [18 ms] train: 0.199801\n",
            "#32 : [19 ms] train: 0.194775\n",
            "#33 : [20 ms] train: 0.189340\n",
            "#34 : [19 ms] train: 0.184980\n",
            "#35 : [19 ms] train: 0.178195\n",
            "#36 : [20 ms] train: 0.173831\n",
            "#37 : [20 ms] train: 0.168874\n",
            "#38 : [20 ms] train: 0.163998\n"
          ],
          "name": "stdout"
        },
        {
          "output_type": "stream",
          "text": [
            ""
          ],
          "name": "stderr"
        },
        {
          "output_type": "stream",
          "text": [
            "#39 : [30 ms] train: 0.159956\n",
            "#40 : [27 ms] train: 0.156019\n",
            "#41 : [23 ms] train: 0.151943\n",
            "#42 : [22 ms] train: 0.147968\n",
            "#43 : [23 ms] train: 0.144408\n",
            "#44 : [23 ms] train: 0.140261\n",
            "#45 : [23 ms] train: 0.137547\n",
            "#46 : [23 ms] train: 0.134292\n",
            "#47 : [24 ms] train: 0.131364\n"
          ],
          "name": "stdout"
        },
        {
          "output_type": "stream",
          "text": [
            "\r                                                                               \r\r                                                                               \r\r                                                                               \r\r                                                                               \r\r                                                                               \r\r                                                                               \r\r                                                                               \r\r                                                                               \r"
          ],
          "name": "stderr"
        },
        {
          "output_type": "stream",
          "text": [
            "#48 : [39 ms] train: 0.129040\n",
            "#49 : [23 ms] train: 0.126561\n",
            "#50 : [24 ms] train: 0.124086\n",
            "#51 : [23 ms] train: 0.121998\n",
            "#52 : [24 ms] train: 0.119875\n",
            "#53 : [24 ms] train: 0.117474\n",
            "#54 : [26 ms] train: 0.114513\n",
            "#55 : [27 ms] train: 0.112420\n"
          ],
          "name": "stdout"
        },
        {
          "output_type": "stream",
          "text": [
            "\r                                                                               \r\r                                                                               \r\r                                                                               \r\r                                                                               \r\r                                                                               \r\r                                                                               \r\r                                                                               \r\r                                                                               \r"
          ],
          "name": "stderr"
        },
        {
          "output_type": "stream",
          "text": [
            "#56 : [39 ms] train: 0.110240\n",
            "#57 : [26 ms] train: 0.108227\n",
            "#58 : [32 ms] train: 0.105577\n",
            "#59 : [26 ms] train: 0.102917\n",
            "#60 : [27 ms] train: 0.099780\n",
            "#61 : [26 ms] train: 0.096570\n",
            "#62 : [26 ms] train: 0.093726\n",
            "#63 : [26 ms] train: 0.091266\n"
          ],
          "name": "stdout"
        },
        {
          "output_type": "stream",
          "text": [
            "\r                                                                               \r\r                                                                               \r\r                                                                               \r\r                                                                               \r\r                                                                               \r\r                                                                               \r\r                                                                               \r"
          ],
          "name": "stderr"
        },
        {
          "output_type": "stream",
          "text": [
            "#64 : [37 ms] train: 0.088955\n",
            "#65 : [29 ms] train: 0.086438\n",
            "#66 : [28 ms] train: 0.084092\n",
            "#67 : [27 ms] train: 0.082119\n",
            "#68 : [28 ms] train: 0.079709\n",
            "#69 : [30 ms] train: 0.077355\n",
            "#70 : [28 ms] train: 0.074836\n"
          ],
          "name": "stdout"
        },
        {
          "output_type": "stream",
          "text": [
            "\r                                                                               \r\r                                                                               \r\r                                                                               \r\r                                                                               \r\r                                                                               \r\r                                                                               \r\r                                                                               \r"
          ],
          "name": "stderr"
        },
        {
          "output_type": "stream",
          "text": [
            "#71 : [41 ms] train: 0.071906\n",
            "#72 : [44 ms] train: 0.069154\n",
            "#73 : [35 ms] train: 0.066402\n",
            "#74 : [30 ms] train: 0.064261\n",
            "#75 : [30 ms] train: 0.062210\n",
            "#76 : [30 ms] train: 0.060417\n",
            "#77 : [30 ms] train: 0.058746\n"
          ],
          "name": "stdout"
        },
        {
          "output_type": "stream",
          "text": [
            "\r                                                                               \r\r                                                                               \r\r                                                                               \r\r                                                                               \r\r                                                                               \r\r                                                                               \r\r                                                                               \r"
          ],
          "name": "stderr"
        },
        {
          "output_type": "stream",
          "text": [
            "#78 : [36 ms] train: 0.057133\n",
            "#79 : [30 ms] train: 0.055154\n",
            "#80 : [33 ms] train: 0.053110\n",
            "#81 : [31 ms] train: 0.050925\n",
            "#82 : [31 ms] train: 0.048738\n",
            "#83 : [31 ms] train: 0.046904\n",
            "#84 : [31 ms] train: 0.045227\n"
          ],
          "name": "stdout"
        },
        {
          "output_type": "stream",
          "text": [
            "\r                                                                               \r\r                                                                               \r\r                                                                               \r\r                                                                               \r\r                                                                               \r\r                                                                               \r"
          ],
          "name": "stderr"
        },
        {
          "output_type": "stream",
          "text": [
            "#85 : [38 ms] train: 0.043672\n",
            "#86 : [33 ms] train: 0.042258\n",
            "#87 : [32 ms] train: 0.040860\n",
            "#88 : [45 ms] train: 0.039234\n",
            "#89 : [33 ms] train: 0.037758\n",
            "#90 : [34 ms] train: 0.036407\n"
          ],
          "name": "stdout"
        },
        {
          "output_type": "stream",
          "text": [
            "\r                                                                               \r\r                                                                               \r\r                                                                               \r\r                                                                               \r\r                                                                               \r\r                                                                               \r"
          ],
          "name": "stderr"
        },
        {
          "output_type": "stream",
          "text": [
            "#91 : [39 ms] train: 0.035198\n",
            "#92 : [35 ms] train: 0.034081\n",
            "#93 : [35 ms] train: 0.032996\n",
            "#94 : [35 ms] train: 0.031814\n",
            "#95 : [35 ms] train: 0.030779\n",
            "#96 : [39 ms] train: 0.029848\n"
          ],
          "name": "stdout"
        },
        {
          "output_type": "stream",
          "text": [
            "\r                                                                               \r\r                                                                               \r\r                                                                               \r\r                                                                               \r\r                                                                               \r\r                                                                               \r"
          ],
          "name": "stderr"
        },
        {
          "output_type": "stream",
          "text": [
            "#97 : [45 ms] train: 0.029026\n",
            "#98 : [38 ms] train: 0.028030\n",
            "#99 : [37 ms] train: 0.026994\n",
            "#100 : [36 ms] train: 0.026144\n",
            "#101 : [36 ms] train: 0.025039\n",
            "#102 : [37 ms] train: 0.024141\n"
          ],
          "name": "stdout"
        },
        {
          "output_type": "stream",
          "text": [
            "\r                                                                               \r\r                                                                               \r\r                                                                               \r\r                                                                               \r\r                                                                               \r\r                                                                               \r"
          ],
          "name": "stderr"
        },
        {
          "output_type": "stream",
          "text": [
            "#103 : [46 ms] train: 0.023352\n",
            "#104 : [38 ms] train: 0.022642\n",
            "#105 : [38 ms] train: 0.021983\n",
            "#106 : [37 ms] train: 0.021431\n",
            "#107 : [37 ms] train: 0.020871\n",
            "#108 : [39 ms] train: 0.020412\n"
          ],
          "name": "stdout"
        },
        {
          "output_type": "stream",
          "text": [
            "\r                                                                               \r\r                                                                               \r\r                                                                               \r\r                                                                               \r\r                                                                               \r"
          ],
          "name": "stderr"
        },
        {
          "output_type": "stream",
          "text": [
            "#109 : [46 ms] train: 0.019807\n",
            "#110 : [48 ms] train: 0.019266\n",
            "#111 : [46 ms] train: 0.018785\n",
            "#112 : [38 ms] train: 0.018356\n",
            "#113 : [38 ms] train: 0.017965\n"
          ],
          "name": "stdout"
        },
        {
          "output_type": "stream",
          "text": [
            "\r                                                                               \r\r                                                                               \r\r                                                                               \r\r                                                                               \r\r                                                                               \r"
          ],
          "name": "stderr"
        },
        {
          "output_type": "stream",
          "text": [
            "#114 : [52 ms] train: 0.017616\n",
            "#115 : [38 ms] train: 0.017235\n",
            "#116 : [38 ms] train: 0.016788\n",
            "#117 : [40 ms] train: 0.016282\n",
            "#118 : [45 ms] train: 0.015712\n"
          ],
          "name": "stdout"
        },
        {
          "output_type": "stream",
          "text": [
            "\r                                                                               \r\r                                                                               \r\r                                                                               \r\r                                                                               \r\r                                                                               \r"
          ],
          "name": "stderr"
        },
        {
          "output_type": "stream",
          "text": [
            "#119 : [44 ms] train: 0.015157\n",
            "#120 : [44 ms] train: 0.014459\n",
            "#121 : [39 ms] train: 0.013828\n",
            "#122 : [42 ms] train: 0.013258\n",
            "#123 : [40 ms] train: 0.012741\n"
          ],
          "name": "stdout"
        },
        {
          "output_type": "stream",
          "text": [
            "\r                                                                               \r\r                                                                               \r\r                                                                               \r\r                                                                               \r\r                                                                               \r\r                                                                               \r"
          ],
          "name": "stderr"
        },
        {
          "output_type": "stream",
          "text": [
            "#124 : [51 ms] train: 0.012282\n",
            "#125 : [39 ms] train: 0.011735\n",
            "#126 : [38 ms] train: 0.011143\n",
            "#127 : [39 ms] train: 0.010460\n",
            "#128 : [41 ms] train: 0.009793\n",
            "#129 : [38 ms] train: 0.009186\n"
          ],
          "name": "stdout"
        },
        {
          "output_type": "stream",
          "text": [
            "\r                                                                               \r\r                                                                               \r\r                                                                               \r\r                                                                               \r\r                                                                               \r\r                                                                               \r"
          ],
          "name": "stderr"
        },
        {
          "output_type": "stream",
          "text": [
            "#130 : [49 ms] train: 0.008642\n",
            "#131 : [38 ms] train: 0.008148\n",
            "#132 : [39 ms] train: 0.007419\n",
            "#133 : [38 ms] train: 0.006897\n",
            "#134 : [38 ms] train: 0.006421\n",
            "#135 : [38 ms] train: 0.005991\n"
          ],
          "name": "stdout"
        },
        {
          "output_type": "stream",
          "text": [
            "\r                                                                               \r\r                                                                               \r\r                                                                               \r\r                                                                               \r\r                                                                               \r"
          ],
          "name": "stderr"
        },
        {
          "output_type": "stream",
          "text": [
            "#136 : [45 ms] train: 0.005601\n",
            "#137 : [45 ms] train: 0.005254\n",
            "#138 : [46 ms] train: 0.004938\n",
            "#139 : [37 ms] train: 0.004481\n",
            "#140 : [37 ms] train: 0.004138\n"
          ],
          "name": "stdout"
        },
        {
          "output_type": "stream",
          "text": [
            "\r                                                                               \r\r                                                                               \r\r                                                                               \r\r                                                                               \r\r                                                                               \r\r                                                                               \r"
          ],
          "name": "stderr"
        },
        {
          "output_type": "stream",
          "text": [
            "#141 : [38 ms] train: 0.003648\n",
            "#142 : [41 ms] train: 0.003307\n",
            "#143 : [37 ms] train: 0.002994\n",
            "#144 : [39 ms] train: 0.002715\n",
            "#145 : [42 ms] train: 0.002462\n",
            "#146 : [38 ms] train: 0.002235\n"
          ],
          "name": "stdout"
        },
        {
          "output_type": "stream",
          "text": [
            "\r                                                                               \r\r                                                                               \r\r                                                                               \r\r                                                                               \r\r                                                                               \r\r                                                                               \r"
          ],
          "name": "stderr"
        },
        {
          "output_type": "stream",
          "text": [
            "#147 : [46 ms] train: 0.002031\n",
            "#148 : [36 ms] train: 0.001847\n",
            "#149 : [38 ms] train: 0.001681\n",
            "#150 : [35 ms] train: 0.001532\n",
            "#151 : [36 ms] train: 0.001398\n",
            "#152 : [42 ms] train: 0.001276\n"
          ],
          "name": "stdout"
        },
        {
          "output_type": "stream",
          "text": [
            "\r                                                                               \r\r                                                                               \r\r                                                                               \r\r                                                                               \r\r                                                                               \r\r                                                                               \r"
          ],
          "name": "stderr"
        },
        {
          "output_type": "stream",
          "text": [
            "#153 : [48 ms] train: 0.001169\n",
            "#154 : [37 ms] train: 0.001066\n",
            "#155 : [36 ms] train: 0.000975\n",
            "#156 : [37 ms] train: 0.000892\n",
            "#157 : [36 ms] train: 0.000816\n",
            "#158 : [37 ms] train: 0.000750\n"
          ],
          "name": "stdout"
        },
        {
          "output_type": "stream",
          "text": [
            "\r                                                                               \r\r                                                                               \r\r                                                                               \r\r                                                                               \r\r                                                                               \r\r                                                                               \r"
          ],
          "name": "stderr"
        },
        {
          "output_type": "stream",
          "text": [
            "#159 : [41 ms] train: 0.000688\n",
            "#160 : [39 ms] train: 0.000635\n",
            "#161 : [35 ms] train: 0.000586\n",
            "#162 : [36 ms] train: 0.000542\n",
            "#163 : [35 ms] train: 0.000503\n",
            "#164 : [42 ms] train: 0.000468\n"
          ],
          "name": "stdout"
        },
        {
          "output_type": "stream",
          "text": [
            "\r                                                                               \r\r                                                                               \r\r                                                                               \r\r                                                                               \r\r                                                                               \r\r                                                                               \r"
          ],
          "name": "stderr"
        },
        {
          "output_type": "stream",
          "text": [
            "#165 : [40 ms] train: 0.000436\n",
            "#166 : [34 ms] train: 0.000408\n",
            "#167 : [34 ms] train: 0.000382\n",
            "#168 : [34 ms] train: 0.000360\n",
            "#169 : [37 ms] train: 0.000340\n",
            "#170 : [36 ms] train: 0.000322\n"
          ],
          "name": "stdout"
        },
        {
          "output_type": "stream",
          "text": [
            "\r                                                                               \r\r                                                                               \r\r                                                                               \r\r                                                                               \r\r                                                                               \r\r                                                                               \r"
          ],
          "name": "stderr"
        },
        {
          "output_type": "stream",
          "text": [
            "#171 : [41 ms] train: 0.000306\n",
            "#172 : [33 ms] train: 0.000291\n",
            "#173 : [35 ms] train: 0.000278\n",
            "#174 : [33 ms] train: 0.000267\n",
            "#175 : [35 ms] train: 0.000257\n",
            "#176 : [34 ms] train: 0.000248\n"
          ],
          "name": "stdout"
        },
        {
          "output_type": "stream",
          "text": [
            "\r                                                                               \r\r                                                                               \r\r                                                                               \r\r                                                                               \r\r                                                                               \r\r                                                                               \r"
          ],
          "name": "stderr"
        },
        {
          "output_type": "stream",
          "text": [
            "#177 : [44 ms] train: 0.000240\n",
            "#178 : [36 ms] train: 0.000232\n",
            "#179 : [35 ms] train: 0.000226\n",
            "#180 : [34 ms] train: 0.000217\n",
            "#181 : [33 ms] train: 0.000208\n",
            "#182 : [33 ms] train: 0.000199\n"
          ],
          "name": "stdout"
        },
        {
          "output_type": "stream",
          "text": [
            "\r                                                                               \r\r                                                                               \r\r                                                                               \r\r                                                                               \r\r                                                                               \r\r                                                                               \r"
          ],
          "name": "stderr"
        },
        {
          "output_type": "stream",
          "text": [
            "#183 : [39 ms] train: 0.000191\n",
            "#184 : [35 ms] train: 0.000185\n",
            "#185 : [34 ms] train: 0.000179\n",
            "#186 : [33 ms] train: 0.000173\n",
            "#187 : [34 ms] train: 0.000169\n",
            "#188 : [33 ms] train: 0.000164\n"
          ],
          "name": "stdout"
        },
        {
          "output_type": "stream",
          "text": [
            "\r                                                                               \r\r                                                                               \r\r                                                                               \r\r                                                                               \r\r                                                                               \r\r                                                                               \r"
          ],
          "name": "stderr"
        },
        {
          "output_type": "stream",
          "text": [
            "#189 : [38 ms] train: 0.000161\n",
            "#190 : [35 ms] train: 0.000157\n",
            "#191 : [33 ms] train: 0.000154\n",
            "#192 : [40 ms] train: 0.000151\n",
            "#193 : [37 ms] train: 0.000149\n",
            "#194 : [33 ms] train: 0.000146\n",
            "#195 : [39 ms] train: 0.000142\n",
            "#196 : [33 ms] train: 0.000139\n",
            "#197 : [32 ms] train: 0.000136\n",
            "#198 : [33 ms] train: 0.000134\n",
            "#199 : [33 ms] train: 0.000131\n",
            "#200 : [34 ms] train: 0.000126\n"
          ],
          "name": "stdout"
        },
        {
          "output_type": "stream",
          "text": [
            "\r                                                                               \r\r                                                                               \r\r                                                                               \r\r                                                                               \r\r                                                                               \r\r                                                                               \r"
          ],
          "name": "stderr"
        }
      ]
    },
    {
      "cell_type": "code",
      "metadata": {
        "colab": {
          "base_uri": "https://localhost:8080/"
        },
        "id": "OdPZMGqgtrAY",
        "outputId": "7205d4cc-e155-46b0-887f-4a814ce76a35"
      },
      "source": [
        "# Modelo 02\r\n",
        "gng_model2 = create_gng(n_features=len(iris_x.columns),\r\n",
        "                           n_start_nodes=2,\r\n",
        "                           epsilon_b=0.05,\r\n",
        "                           epsilon_n=0.0006,\r\n",
        "                           max_age=100,\r\n",
        "                           lambda_=200,\r\n",
        "                           beta=0.05,\r\n",
        "                           alpha=0.5,\r\n",
        "                           max_nodes=300,\r\n",
        "                           verbose=True)\r\n",
        "\r\n",
        "gng_model2.train(iris_x, epochs=2000)"
      ],
      "execution_count": 46,
      "outputs": [
        {
          "output_type": "stream",
          "text": [
            "\r                                                                               \r\r                                                                               \r\r                                                                               \r"
          ],
          "name": "stderr"
        },
        {
          "output_type": "stream",
          "text": [
            "\n",
            "Main information\n",
            "\n",
            "[ALGORITHM] GrowingNeuralGas\n",
            "\r\n",
            "[OPTION] after_split_error_decay_rate = 0.5\n",
            "[OPTION] error_decay_rate = 0.05\n",
            "[OPTION] max_edge_age = 100\n",
            "[OPTION] max_nodes = 300\n",
            "[OPTION] min_distance_for_update = 0.01\n",
            "[OPTION] n_inputs = 4\n",
            "[OPTION] n_iter_before_neuron_added = 200\n",
            "[OPTION] n_start_nodes = 2\n",
            "[OPTION] neighbour_step = 0.0006\n",
            "[OPTION] show_epoch = 1\n",
            "[OPTION] shuffle_data = True\n",
            "[OPTION] signals = None\n",
            "[OPTION] step = 0.05\n",
            "[OPTION] verbose = True\n",
            "\r\n",
            "#1 : [11 ms] train: 1.105324\n",
            "#2 : [13 ms] train: 0.991351\n",
            "#3 : [15 ms] train: 0.891023\n",
            "#4 : [17 ms] train: 0.869053\n",
            "#5 : [10 ms] train: 0.759641\n",
            "#6 : [7 ms] train: 0.700584\n",
            "#7 : [7 ms] train: 0.666618\n",
            "#8 : [8 ms] train: 0.667755\n",
            "#9 : [8 ms] train: 0.625616\n",
            "#10 : [8 ms] train: 0.610346\n",
            "#11 : [10 ms] train: 0.596538\n",
            "#12 : [12 ms] train: 0.583392\n",
            "#13 : [16 ms] train: 0.575826\n",
            "#14 : [20 ms] train: 0.561045\n",
            "#15 : [13 ms] train: 0.545899\n",
            "#16 : [11 ms] train: 0.532394\n",
            "#17 : [10 ms] train: 0.518698\n",
            "#18 : [10 ms] train: 0.501997\n",
            "#19 : [10 ms] train: 0.491460\n",
            "#20 : [12 ms] train: 0.478973\n"
          ],
          "name": "stdout"
        },
        {
          "output_type": "stream",
          "text": [
            ""
          ],
          "name": "stderr"
        },
        {
          "output_type": "stream",
          "text": [
            "#21 : [18 ms] train: 0.464496\n"
          ],
          "name": "stdout"
        },
        {
          "output_type": "stream",
          "text": [
            "\r                                                                               \r\r                                                                               \r\r                                                                               \r\r                                                                               \r\r                                                                               \r\r                                                                               \r\r                                                                               \r\r                                                                               \r\r                                                                               \r\r                                                                               \r\r                                                                               \r\r                                                                               \r\r                                                                               \r\r                                                                               \r\r                                                                               \r\r                                                                               \r\r                                                                               \r"
          ],
          "name": "stderr"
        },
        {
          "output_type": "stream",
          "text": [
            "#22 : [20 ms] train: 0.454832\n",
            "#23 : [18 ms] train: 0.444376\n",
            "#24 : [10 ms] train: 0.436160\n",
            "#25 : [11 ms] train: 0.431803\n",
            "#26 : [11 ms] train: 0.422241\n",
            "#27 : [13 ms] train: 0.415570\n",
            "#28 : [10 ms] train: 0.409760\n",
            "#29 : [10 ms] train: 0.402268\n",
            "#30 : [10 ms] train: 0.395901\n",
            "#31 : [10 ms] train: 0.387086\n",
            "#32 : [10 ms] train: 0.375096\n",
            "#33 : [10 ms] train: 0.369326\n",
            "#34 : [10 ms] train: 0.362852\n",
            "#35 : [13 ms] train: 0.358354\n",
            "#36 : [13 ms] train: 0.356356\n",
            "#37 : [12 ms] train: 0.353177\n",
            "#38 : [15 ms] train: 0.349180\n"
          ],
          "name": "stdout"
        },
        {
          "output_type": "stream",
          "text": [
            "\r                                                                               \r"
          ],
          "name": "stderr"
        },
        {
          "output_type": "stream",
          "text": [
            "#39 : [23 ms] train: 0.345793\n"
          ],
          "name": "stdout"
        },
        {
          "output_type": "stream",
          "text": [
            "\r                                                                               \r\r                                                                               \r\r                                                                               \r\r                                                                               \r\r                                                                               \r\r                                                                               \r\r                                                                               \r\r                                                                               \r\r                                                                               \r\r                                                                               \r\r                                                                               \r\r                                                                               \r\r                                                                               \r\r                                                                               \r"
          ],
          "name": "stderr"
        },
        {
          "output_type": "stream",
          "text": [
            "#40 : [22 ms] train: 0.340350\n",
            "#41 : [12 ms] train: 0.335376\n",
            "#42 : [17 ms] train: 0.330962\n",
            "#43 : [12 ms] train: 0.327777\n",
            "#44 : [13 ms] train: 0.323947\n",
            "#45 : [13 ms] train: 0.320749\n",
            "#46 : [17 ms] train: 0.319374\n",
            "#47 : [13 ms] train: 0.314816\n",
            "#48 : [12 ms] train: 0.313145\n",
            "#49 : [12 ms] train: 0.311145\n",
            "#50 : [14 ms] train: 0.309227\n",
            "#51 : [12 ms] train: 0.307208\n",
            "#52 : [15 ms] train: 0.303577\n",
            "#53 : [15 ms] train: 0.298812\n"
          ],
          "name": "stdout"
        },
        {
          "output_type": "stream",
          "text": [
            "\r                                                                               \r\r                                                                               \r\r                                                                               \r\r                                                                               \r\r                                                                               \r\r                                                                               \r\r                                                                               \r\r                                                                               \r\r                                                                               \r\r                                                                               \r\r                                                                               \r\r                                                                               \r\r                                                                               \r\r                                                                               \r\r                                                                               \r"
          ],
          "name": "stderr"
        },
        {
          "output_type": "stream",
          "text": [
            "#54 : [22 ms] train: 0.296012\n",
            "#55 : [17 ms] train: 0.292549\n",
            "#56 : [15 ms] train: 0.290098\n",
            "#57 : [13 ms] train: 0.287148\n",
            "#58 : [14 ms] train: 0.284295\n",
            "#59 : [16 ms] train: 0.282566\n",
            "#60 : [14 ms] train: 0.279661\n",
            "#61 : [13 ms] train: 0.276518\n",
            "#62 : [14 ms] train: 0.274432\n",
            "#63 : [14 ms] train: 0.272892\n",
            "#64 : [13 ms] train: 0.271253\n",
            "#65 : [14 ms] train: 0.269848\n",
            "#66 : [12 ms] train: 0.268124\n",
            "#67 : [13 ms] train: 0.267511\n",
            "#68 : [13 ms] train: 0.266063\n"
          ],
          "name": "stdout"
        },
        {
          "output_type": "stream",
          "text": [
            "\r                                                                               \r\r                                                                               \r\r                                                                               \r\r                                                                               \r\r                                                                               \r\r                                                                               \r\r                                                                               \r\r                                                                               \r\r                                                                               \r\r                                                                               \r\r                                                                               \r\r                                                                               \r\r                                                                               \r\r                                                                               \r"
          ],
          "name": "stderr"
        },
        {
          "output_type": "stream",
          "text": [
            "#69 : [20 ms] train: 0.263585\n",
            "#70 : [14 ms] train: 0.260806\n",
            "#71 : [13 ms] train: 0.258080\n",
            "#72 : [14 ms] train: 0.254497\n",
            "#73 : [13 ms] train: 0.253053\n",
            "#74 : [13 ms] train: 0.251129\n",
            "#75 : [13 ms] train: 0.246783\n",
            "#76 : [14 ms] train: 0.242651\n",
            "#77 : [15 ms] train: 0.239382\n",
            "#78 : [14 ms] train: 0.236807\n",
            "#79 : [14 ms] train: 0.234817\n",
            "#80 : [17 ms] train: 0.232128\n",
            "#81 : [16 ms] train: 0.229015\n",
            "#82 : [15 ms] train: 0.226843\n"
          ],
          "name": "stdout"
        },
        {
          "output_type": "stream",
          "text": [
            "\r                                                                               \r\r                                                                               \r\r                                                                               \r\r                                                                               \r\r                                                                               \r\r                                                                               \r\r                                                                               \r\r                                                                               \r\r                                                                               \r\r                                                                               \r\r                                                                               \r\r                                                                               \r\r                                                                               \r\r                                                                               \r"
          ],
          "name": "stderr"
        },
        {
          "output_type": "stream",
          "text": [
            "#83 : [19 ms] train: 0.224067\n",
            "#84 : [16 ms] train: 0.221494\n",
            "#85 : [15 ms] train: 0.218209\n",
            "#86 : [14 ms] train: 0.215434\n",
            "#87 : [15 ms] train: 0.213116\n",
            "#88 : [15 ms] train: 0.211248\n",
            "#89 : [15 ms] train: 0.209730\n",
            "#90 : [15 ms] train: 0.208253\n",
            "#91 : [15 ms] train: 0.204446\n",
            "#92 : [15 ms] train: 0.202854\n",
            "#93 : [15 ms] train: 0.200891\n",
            "#94 : [15 ms] train: 0.199257\n",
            "#95 : [15 ms] train: 0.197582\n",
            "#96 : [15 ms] train: 0.195866\n"
          ],
          "name": "stdout"
        },
        {
          "output_type": "stream",
          "text": [
            "\r                                                                               \r\r                                                                               \r\r                                                                               \r\r                                                                               \r\r                                                                               \r\r                                                                               \r\r                                                                               \r\r                                                                               \r\r                                                                               \r\r                                                                               \r\r                                                                               \r\r                                                                               \r"
          ],
          "name": "stderr"
        },
        {
          "output_type": "stream",
          "text": [
            "#97 : [24 ms] train: 0.194330\n",
            "#98 : [20 ms] train: 0.191677\n",
            "#99 : [18 ms] train: 0.190466\n",
            "#100 : [17 ms] train: 0.188872\n",
            "#101 : [17 ms] train: 0.187846\n",
            "#102 : [19 ms] train: 0.186708\n",
            "#103 : [17 ms] train: 0.184796\n",
            "#104 : [16 ms] train: 0.184001\n",
            "#105 : [16 ms] train: 0.182875\n",
            "#106 : [16 ms] train: 0.181794\n",
            "#107 : [16 ms] train: 0.180537\n",
            "#108 : [16 ms] train: 0.179664\n"
          ],
          "name": "stdout"
        },
        {
          "output_type": "stream",
          "text": [
            "\r                                                                               \r\r                                                                               \r\r                                                                               \r\r                                                                               \r\r                                                                               \r\r                                                                               \r\r                                                                               \r\r                                                                               \r\r                                                                               \r\r                                                                               \r\r                                                                               \r\r                                                                               \r"
          ],
          "name": "stderr"
        },
        {
          "output_type": "stream",
          "text": [
            "#109 : [25 ms] train: 0.178061\n",
            "#110 : [17 ms] train: 0.177016\n",
            "#111 : [17 ms] train: 0.175498\n",
            "#112 : [18 ms] train: 0.174292\n",
            "#113 : [19 ms] train: 0.173408\n",
            "#114 : [17 ms] train: 0.172240\n",
            "#115 : [16 ms] train: 0.170854\n",
            "#116 : [17 ms] train: 0.169509\n",
            "#117 : [16 ms] train: 0.168567\n",
            "#118 : [17 ms] train: 0.166898\n",
            "#119 : [24 ms] train: 0.165883\n",
            "#120 : [17 ms] train: 0.165083\n"
          ],
          "name": "stdout"
        },
        {
          "output_type": "stream",
          "text": [
            "\r                                                                               \r\r                                                                               \r\r                                                                               \r\r                                                                               \r\r                                                                               \r\r                                                                               \r\r                                                                               \r\r                                                                               \r\r                                                                               \r\r                                                                               \r\r                                                                               \r\r                                                                               \r"
          ],
          "name": "stderr"
        },
        {
          "output_type": "stream",
          "text": [
            "#121 : [24 ms] train: 0.163724\n",
            "#122 : [16 ms] train: 0.162622\n",
            "#123 : [17 ms] train: 0.161818\n",
            "#124 : [17 ms] train: 0.160889\n",
            "#125 : [17 ms] train: 0.160438\n",
            "#126 : [19 ms] train: 0.159469\n",
            "#127 : [20 ms] train: 0.158026\n",
            "#128 : [20 ms] train: 0.157756\n",
            "#129 : [18 ms] train: 0.156377\n",
            "#130 : [17 ms] train: 0.155429\n",
            "#131 : [17 ms] train: 0.154785\n",
            "#132 : [17 ms] train: 0.153851\n"
          ],
          "name": "stdout"
        },
        {
          "output_type": "stream",
          "text": [
            "\r                                                                               \r\r                                                                               \r\r                                                                               \r\r                                                                               \r\r                                                                               \r\r                                                                               \r\r                                                                               \r\r                                                                               \r\r                                                                               \r\r                                                                               \r\r                                                                               \r"
          ],
          "name": "stderr"
        },
        {
          "output_type": "stream",
          "text": [
            "#133 : [24 ms] train: 0.153149\n",
            "#134 : [19 ms] train: 0.151916\n",
            "#135 : [18 ms] train: 0.151107\n",
            "#136 : [18 ms] train: 0.150181\n",
            "#137 : [17 ms] train: 0.149706\n",
            "#138 : [18 ms] train: 0.149262\n",
            "#139 : [20 ms] train: 0.148367\n",
            "#140 : [20 ms] train: 0.147323\n",
            "#141 : [18 ms] train: 0.146274\n",
            "#142 : [18 ms] train: 0.145415\n",
            "#143 : [19 ms] train: 0.144318\n"
          ],
          "name": "stdout"
        },
        {
          "output_type": "stream",
          "text": [
            "\r                                                                               \r\r                                                                               \r\r                                                                               \r\r                                                                               \r\r                                                                               \r\r                                                                               \r\r                                                                               \r\r                                                                               \r\r                                                                               \r\r                                                                               \r\r                                                                               \r"
          ],
          "name": "stderr"
        },
        {
          "output_type": "stream",
          "text": [
            "#144 : [25 ms] train: 0.142954\n",
            "#145 : [19 ms] train: 0.141983\n",
            "#146 : [18 ms] train: 0.140884\n",
            "#147 : [18 ms] train: 0.139893\n",
            "#148 : [18 ms] train: 0.138664\n",
            "#149 : [18 ms] train: 0.137279\n",
            "#150 : [19 ms] train: 0.136275\n",
            "#151 : [18 ms] train: 0.134611\n",
            "#152 : [20 ms] train: 0.133906\n",
            "#153 : [21 ms] train: 0.132947\n",
            "#154 : [19 ms] train: 0.131577\n"
          ],
          "name": "stdout"
        },
        {
          "output_type": "stream",
          "text": [
            "\r                                                                               \r\r                                                                               \r\r                                                                               \r\r                                                                               \r\r                                                                               \r\r                                                                               \r\r                                                                               \r\r                                                                               \r\r                                                                               \r\r                                                                               \r\r                                                                               \r"
          ],
          "name": "stderr"
        },
        {
          "output_type": "stream",
          "text": [
            "#155 : [26 ms] train: 0.130923\n",
            "#156 : [20 ms] train: 0.129884\n",
            "#157 : [19 ms] train: 0.128901\n",
            "#158 : [19 ms] train: 0.127810\n",
            "#159 : [19 ms] train: 0.127086\n",
            "#160 : [19 ms] train: 0.126014\n",
            "#161 : [19 ms] train: 0.125099\n",
            "#162 : [19 ms] train: 0.124123\n",
            "#163 : [20 ms] train: 0.122956\n",
            "#164 : [21 ms] train: 0.121849\n",
            "#165 : [21 ms] train: 0.120890\n"
          ],
          "name": "stdout"
        },
        {
          "output_type": "stream",
          "text": [
            "\r                                                                               \r\r                                                                               \r\r                                                                               \r\r                                                                               \r\r                                                                               \r\r                                                                               \r\r                                                                               \r\r                                                                               \r\r                                                                               \r\r                                                                               \r"
          ],
          "name": "stderr"
        },
        {
          "output_type": "stream",
          "text": [
            "#166 : [30 ms] train: 0.119978\n",
            "#167 : [20 ms] train: 0.118866\n",
            "#168 : [20 ms] train: 0.118241\n",
            "#169 : [21 ms] train: 0.117648\n",
            "#170 : [28 ms] train: 0.116035\n",
            "#171 : [21 ms] train: 0.115334\n",
            "#172 : [20 ms] train: 0.114546\n",
            "#173 : [21 ms] train: 0.113858\n",
            "#174 : [20 ms] train: 0.113278\n",
            "#175 : [21 ms] train: 0.112806\n"
          ],
          "name": "stdout"
        },
        {
          "output_type": "stream",
          "text": [
            "\r                                                                               \r\r                                                                               \r\r                                                                               \r\r                                                                               \r\r                                                                               \r\r                                                                               \r\r                                                                               \r\r                                                                               \r\r                                                                               \r"
          ],
          "name": "stderr"
        },
        {
          "output_type": "stream",
          "text": [
            "#176 : [28 ms] train: 0.112144\n",
            "#177 : [23 ms] train: 0.111119\n",
            "#178 : [28 ms] train: 0.109980\n",
            "#179 : [26 ms] train: 0.109607\n",
            "#180 : [25 ms] train: 0.108935\n",
            "#181 : [21 ms] train: 0.108165\n",
            "#182 : [24 ms] train: 0.108154\n",
            "#183 : [21 ms] train: 0.107184\n",
            "#184 : [21 ms] train: 0.106748\n"
          ],
          "name": "stdout"
        },
        {
          "output_type": "stream",
          "text": [
            "\r                                                                               \r\r                                                                               \r\r                                                                               \r\r                                                                               \r\r                                                                               \r\r                                                                               \r\r                                                                               \r\r                                                                               \r\r                                                                               \r\r                                                                               \r"
          ],
          "name": "stderr"
        },
        {
          "output_type": "stream",
          "text": [
            "#185 : [29 ms] train: 0.106242\n",
            "#186 : [21 ms] train: 0.105891\n",
            "#187 : [23 ms] train: 0.105084\n",
            "#188 : [22 ms] train: 0.104309\n",
            "#189 : [21 ms] train: 0.103176\n",
            "#190 : [22 ms] train: 0.102168\n",
            "#191 : [22 ms] train: 0.101207\n",
            "#192 : [22 ms] train: 0.100161\n",
            "#193 : [22 ms] train: 0.098007\n",
            "#194 : [21 ms] train: 0.097115\n"
          ],
          "name": "stdout"
        },
        {
          "output_type": "stream",
          "text": [
            "\r                                                                               \r\r                                                                               \r\r                                                                               \r\r                                                                               \r\r                                                                               \r\r                                                                               \r\r                                                                               \r\r                                                                               \r\r                                                                               \r"
          ],
          "name": "stderr"
        },
        {
          "output_type": "stream",
          "text": [
            "#195 : [29 ms] train: 0.096206\n",
            "#196 : [23 ms] train: 0.095410\n",
            "#197 : [23 ms] train: 0.094643\n",
            "#198 : [24 ms] train: 0.093967\n",
            "#199 : [25 ms] train: 0.093270\n",
            "#200 : [22 ms] train: 0.092582\n",
            "#201 : [22 ms] train: 0.091856\n",
            "#202 : [23 ms] train: 0.091110\n",
            "#203 : [23 ms] train: 0.090638\n"
          ],
          "name": "stdout"
        },
        {
          "output_type": "stream",
          "text": [
            "\r                                                                               \r\r                                                                               \r\r                                                                               \r\r                                                                               \r\r                                                                               \r\r                                                                               \r\r                                                                               \r\r                                                                               \r\r                                                                               \r"
          ],
          "name": "stderr"
        },
        {
          "output_type": "stream",
          "text": [
            "#204 : [32 ms] train: 0.090046\n",
            "#205 : [25 ms] train: 0.089569\n",
            "#206 : [22 ms] train: 0.088939\n",
            "#207 : [23 ms] train: 0.088514\n",
            "#208 : [24 ms] train: 0.088161\n",
            "#209 : [22 ms] train: 0.087737\n",
            "#210 : [23 ms] train: 0.087307\n",
            "#211 : [26 ms] train: 0.086525\n",
            "#212 : [24 ms] train: 0.085963\n"
          ],
          "name": "stdout"
        },
        {
          "output_type": "stream",
          "text": [
            "\r                                                                               \r\r                                                                               \r\r                                                                               \r\r                                                                               \r\r                                                                               \r\r                                                                               \r\r                                                                               \r\r                                                                               \r\r                                                                               \r"
          ],
          "name": "stderr"
        },
        {
          "output_type": "stream",
          "text": [
            "#213 : [38 ms] train: 0.085476\n",
            "#214 : [24 ms] train: 0.085022\n",
            "#215 : [23 ms] train: 0.084490\n",
            "#216 : [23 ms] train: 0.084000\n",
            "#217 : [24 ms] train: 0.083312\n",
            "#218 : [26 ms] train: 0.082744\n",
            "#219 : [25 ms] train: 0.082165\n",
            "#220 : [24 ms] train: 0.081463\n",
            "#221 : [24 ms] train: 0.080916\n"
          ],
          "name": "stdout"
        },
        {
          "output_type": "stream",
          "text": [
            "\r                                                                               \r\r                                                                               \r\r                                                                               \r\r                                                                               \r\r                                                                               \r\r                                                                               \r\r                                                                               \r\r                                                                               \r"
          ],
          "name": "stderr"
        },
        {
          "output_type": "stream",
          "text": [
            "#222 : [30 ms] train: 0.080422\n",
            "#223 : [27 ms] train: 0.079970\n",
            "#224 : [27 ms] train: 0.079196\n",
            "#225 : [24 ms] train: 0.078627\n",
            "#226 : [24 ms] train: 0.077324\n",
            "#227 : [24 ms] train: 0.076810\n",
            "#228 : [24 ms] train: 0.076354\n",
            "#229 : [24 ms] train: 0.075886\n"
          ],
          "name": "stdout"
        },
        {
          "output_type": "stream",
          "text": [
            "\r                                                                               \r\r                                                                               \r\r                                                                               \r\r                                                                               \r\r                                                                               \r\r                                                                               \r\r                                                                               \r\r                                                                               \r"
          ],
          "name": "stderr"
        },
        {
          "output_type": "stream",
          "text": [
            "#230 : [28 ms] train: 0.075493\n",
            "#231 : [28 ms] train: 0.074968\n",
            "#232 : [24 ms] train: 0.074405\n",
            "#233 : [28 ms] train: 0.073767\n",
            "#234 : [26 ms] train: 0.073182\n",
            "#235 : [25 ms] train: 0.072599\n",
            "#236 : [25 ms] train: 0.072061\n",
            "#237 : [27 ms] train: 0.071421\n"
          ],
          "name": "stdout"
        },
        {
          "output_type": "stream",
          "text": [
            "\r                                                                               \r\r                                                                               \r\r                                                                               \r\r                                                                               \r\r                                                                               \r\r                                                                               \r\r                                                                               \r\r                                                                               \r"
          ],
          "name": "stderr"
        },
        {
          "output_type": "stream",
          "text": [
            "#238 : [34 ms] train: 0.070809\n",
            "#239 : [27 ms] train: 0.070240\n",
            "#240 : [26 ms] train: 0.069707\n",
            "#241 : [26 ms] train: 0.069151\n",
            "#242 : [26 ms] train: 0.068609\n",
            "#243 : [26 ms] train: 0.067999\n",
            "#244 : [28 ms] train: 0.067346\n",
            "#245 : [30 ms] train: 0.066564\n"
          ],
          "name": "stdout"
        },
        {
          "output_type": "stream",
          "text": [
            "\r                                                                               \r\r                                                                               \r\r                                                                               \r\r                                                                               \r\r                                                                               \r\r                                                                               \r\r                                                                               \r\r                                                                               \r"
          ],
          "name": "stderr"
        },
        {
          "output_type": "stream",
          "text": [
            "#246 : [36 ms] train: 0.065829\n",
            "#247 : [27 ms] train: 0.065198\n",
            "#248 : [25 ms] train: 0.064484\n",
            "#249 : [25 ms] train: 0.063757\n",
            "#250 : [29 ms] train: 0.063017\n",
            "#251 : [33 ms] train: 0.062348\n",
            "#252 : [30 ms] train: 0.061757\n",
            "#253 : [25 ms] train: 0.061132\n"
          ],
          "name": "stdout"
        },
        {
          "output_type": "stream",
          "text": [
            "\r                                                                               \r\r                                                                               \r\r                                                                               \r\r                                                                               \r\r                                                                               \r\r                                                                               \r\r                                                                               \r\r                                                                               \r"
          ],
          "name": "stderr"
        },
        {
          "output_type": "stream",
          "text": [
            "#254 : [32 ms] train: 0.060604\n",
            "#255 : [25 ms] train: 0.060063\n",
            "#256 : [25 ms] train: 0.059566\n",
            "#257 : [26 ms] train: 0.059147\n",
            "#258 : [28 ms] train: 0.058731\n",
            "#259 : [26 ms] train: 0.058264\n",
            "#260 : [27 ms] train: 0.057863\n",
            "#261 : [28 ms] train: 0.057523\n"
          ],
          "name": "stdout"
        },
        {
          "output_type": "stream",
          "text": [
            "\r                                                                               \r\r                                                                               \r\r                                                                               \r\r                                                                               \r\r                                                                               \r\r                                                                               \r\r                                                                               \r\r                                                                               \r"
          ],
          "name": "stderr"
        },
        {
          "output_type": "stream",
          "text": [
            "#262 : [36 ms] train: 0.057160\n",
            "#263 : [26 ms] train: 0.056844\n",
            "#264 : [26 ms] train: 0.056533\n",
            "#265 : [26 ms] train: 0.056164\n",
            "#266 : [27 ms] train: 0.055841\n",
            "#267 : [27 ms] train: 0.055522\n",
            "#268 : [26 ms] train: 0.055099\n",
            "#269 : [26 ms] train: 0.054739\n"
          ],
          "name": "stdout"
        },
        {
          "output_type": "stream",
          "text": [
            "\r                                                                               \r\r                                                                               \r\r                                                                               \r\r                                                                               \r\r                                                                               \r\r                                                                               \r\r                                                                               \r\r                                                                               \r"
          ],
          "name": "stderr"
        },
        {
          "output_type": "stream",
          "text": [
            "#270 : [36 ms] train: 0.054383\n",
            "#271 : [31 ms] train: 0.054046\n",
            "#272 : [29 ms] train: 0.053768\n",
            "#273 : [25 ms] train: 0.053111\n",
            "#274 : [25 ms] train: 0.052708\n",
            "#275 : [27 ms] train: 0.052345\n",
            "#276 : [26 ms] train: 0.051842\n",
            "#277 : [26 ms] train: 0.051465\n"
          ],
          "name": "stdout"
        },
        {
          "output_type": "stream",
          "text": [
            "\r                                                                               \r\r                                                                               \r\r                                                                               \r\r                                                                               \r\r                                                                               \r\r                                                                               \r\r                                                                               \r\r                                                                               \r"
          ],
          "name": "stderr"
        },
        {
          "output_type": "stream",
          "text": [
            "#278 : [33 ms] train: 0.050932\n",
            "#279 : [30 ms] train: 0.050389\n",
            "#280 : [27 ms] train: 0.049900\n",
            "#281 : [26 ms] train: 0.049439\n",
            "#282 : [27 ms] train: 0.048996\n",
            "#283 : [26 ms] train: 0.048552\n",
            "#284 : [26 ms] train: 0.048168\n",
            "#285 : [28 ms] train: 0.047786\n"
          ],
          "name": "stdout"
        },
        {
          "output_type": "stream",
          "text": [
            "\r                                                                               \r\r                                                                               \r\r                                                                               \r\r                                                                               \r\r                                                                               \r\r                                                                               \r\r                                                                               \r\r                                                                               \r"
          ],
          "name": "stderr"
        },
        {
          "output_type": "stream",
          "text": [
            "#286 : [42 ms] train: 0.047458\n",
            "#287 : [31 ms] train: 0.047056\n",
            "#288 : [29 ms] train: 0.046664\n",
            "#289 : [28 ms] train: 0.046283\n",
            "#290 : [27 ms] train: 0.045912\n",
            "#291 : [27 ms] train: 0.045522\n",
            "#292 : [26 ms] train: 0.045188\n",
            "#293 : [26 ms] train: 0.044843\n"
          ],
          "name": "stdout"
        },
        {
          "output_type": "stream",
          "text": [
            "\r                                                                               \r\r                                                                               \r\r                                                                               \r\r                                                                               \r\r                                                                               \r\r                                                                               \r\r                                                                               \r"
          ],
          "name": "stderr"
        },
        {
          "output_type": "stream",
          "text": [
            "#294 : [32 ms] train: 0.044474\n",
            "#295 : [28 ms] train: 0.044117\n",
            "#296 : [29 ms] train: 0.043776\n",
            "#297 : [32 ms] train: 0.043437\n",
            "#298 : [31 ms] train: 0.043129\n",
            "#299 : [31 ms] train: 0.042832\n",
            "#300 : [31 ms] train: 0.042555\n"
          ],
          "name": "stdout"
        },
        {
          "output_type": "stream",
          "text": [
            "\r                                                                               \r\r                                                                               \r\r                                                                               \r\r                                                                               \r\r                                                                               \r\r                                                                               \r\r                                                                               \r\r                                                                               \r"
          ],
          "name": "stderr"
        },
        {
          "output_type": "stream",
          "text": [
            "#301 : [35 ms] train: 0.042306\n",
            "#302 : [27 ms] train: 0.042050\n",
            "#303 : [27 ms] train: 0.041791\n",
            "#304 : [27 ms] train: 0.041502\n",
            "#305 : [27 ms] train: 0.041146\n",
            "#306 : [27 ms] train: 0.040714\n",
            "#307 : [28 ms] train: 0.040325\n",
            "#308 : [31 ms] train: 0.039772\n"
          ],
          "name": "stdout"
        },
        {
          "output_type": "stream",
          "text": [
            "\r                                                                               \r\r                                                                               \r\r                                                                               \r\r                                                                               \r\r                                                                               \r\r                                                                               \r\r                                                                               \r\r                                                                               \r"
          ],
          "name": "stderr"
        },
        {
          "output_type": "stream",
          "text": [
            "#309 : [34 ms] train: 0.039042\n",
            "#310 : [26 ms] train: 0.038481\n",
            "#311 : [27 ms] train: 0.037831\n",
            "#312 : [26 ms] train: 0.037235\n",
            "#313 : [27 ms] train: 0.036672\n",
            "#314 : [26 ms] train: 0.036142\n",
            "#315 : [27 ms] train: 0.035633\n",
            "#316 : [32 ms] train: 0.035142\n"
          ],
          "name": "stdout"
        },
        {
          "output_type": "stream",
          "text": [
            "\r                                                                               \r\r                                                                               \r\r                                                                               \r\r                                                                               \r\r                                                                               \r\r                                                                               \r\r                                                                               \r"
          ],
          "name": "stderr"
        },
        {
          "output_type": "stream",
          "text": [
            "#317 : [32 ms] train: 0.034665\n",
            "#318 : [27 ms] train: 0.034226\n",
            "#319 : [27 ms] train: 0.033756\n",
            "#320 : [27 ms] train: 0.033285\n",
            "#321 : [26 ms] train: 0.032818\n",
            "#322 : [34 ms] train: 0.032288\n",
            "#323 : [27 ms] train: 0.031663\n"
          ],
          "name": "stdout"
        },
        {
          "output_type": "stream",
          "text": [
            "\r                                                                               \r\r                                                                               \r\r                                                                               \r\r                                                                               \r\r                                                                               \r\r                                                                               \r\r                                                                               \r\r                                                                               \r"
          ],
          "name": "stderr"
        },
        {
          "output_type": "stream",
          "text": [
            "#324 : [31 ms] train: 0.031070\n",
            "#325 : [35 ms] train: 0.030502\n",
            "#326 : [29 ms] train: 0.029958\n",
            "#327 : [26 ms] train: 0.029457\n",
            "#328 : [27 ms] train: 0.028971\n",
            "#329 : [28 ms] train: 0.028518\n",
            "#330 : [26 ms] train: 0.028082\n",
            "#331 : [28 ms] train: 0.027676\n"
          ],
          "name": "stdout"
        },
        {
          "output_type": "stream",
          "text": [
            "\r                                                                               \r\r                                                                               \r\r                                                                               \r\r                                                                               \r\r                                                                               \r\r                                                                               \r\r                                                                               \r\r                                                                               \r"
          ],
          "name": "stderr"
        },
        {
          "output_type": "stream",
          "text": [
            "#332 : [33 ms] train: 0.027283\n",
            "#333 : [32 ms] train: 0.026918\n",
            "#334 : [27 ms] train: 0.026565\n",
            "#335 : [28 ms] train: 0.026225\n",
            "#336 : [28 ms] train: 0.025904\n",
            "#337 : [28 ms] train: 0.025602\n",
            "#338 : [28 ms] train: 0.025152\n",
            "#339 : [28 ms] train: 0.024680\n"
          ],
          "name": "stdout"
        },
        {
          "output_type": "stream",
          "text": [
            "\r                                                                               \r\r                                                                               \r\r                                                                               \r\r                                                                               \r\r                                                                               \r\r                                                                               \r\r                                                                               \r\r                                                                               \r"
          ],
          "name": "stderr"
        },
        {
          "output_type": "stream",
          "text": [
            "#340 : [35 ms] train: 0.024203\n",
            "#341 : [26 ms] train: 0.023668\n",
            "#342 : [27 ms] train: 0.023167\n",
            "#343 : [27 ms] train: 0.022686\n",
            "#344 : [29 ms] train: 0.022230\n",
            "#345 : [30 ms] train: 0.021798\n",
            "#346 : [28 ms] train: 0.021389\n",
            "#347 : [28 ms] train: 0.020969\n"
          ],
          "name": "stdout"
        },
        {
          "output_type": "stream",
          "text": [
            "\r                                                                               \r\r                                                                               \r\r                                                                               \r\r                                                                               \r\r                                                                               \r\r                                                                               \r\r                                                                               \r"
          ],
          "name": "stderr"
        },
        {
          "output_type": "stream",
          "text": [
            "#348 : [36 ms] train: 0.020522\n",
            "#349 : [29 ms] train: 0.020097\n",
            "#350 : [28 ms] train: 0.019692\n",
            "#351 : [28 ms] train: 0.019305\n",
            "#352 : [34 ms] train: 0.018934\n",
            "#353 : [34 ms] train: 0.018476\n",
            "#354 : [31 ms] train: 0.018064\n"
          ],
          "name": "stdout"
        },
        {
          "output_type": "stream",
          "text": [
            "\r                                                                               \r\r                                                                               \r\r                                                                               \r\r                                                                               \r\r                                                                               \r\r                                                                               \r\r                                                                               \r"
          ],
          "name": "stderr"
        },
        {
          "output_type": "stream",
          "text": [
            "#355 : [36 ms] train: 0.017671\n",
            "#356 : [34 ms] train: 0.017301\n",
            "#357 : [28 ms] train: 0.016944\n",
            "#358 : [29 ms] train: 0.016595\n",
            "#359 : [29 ms] train: 0.016236\n",
            "#360 : [28 ms] train: 0.015892\n",
            "#361 : [32 ms] train: 0.015571\n"
          ],
          "name": "stdout"
        },
        {
          "output_type": "stream",
          "text": [
            "\r                                                                               \r\r                                                                               \r\r                                                                               \r\r                                                                               \r\r                                                                               \r\r                                                                               \r\r                                                                               \r\r                                                                               \r"
          ],
          "name": "stderr"
        },
        {
          "output_type": "stream",
          "text": [
            "#362 : [34 ms] train: 0.015260\n",
            "#363 : [28 ms] train: 0.014960\n",
            "#364 : [27 ms] train: 0.014673\n",
            "#365 : [27 ms] train: 0.014402\n",
            "#366 : [27 ms] train: 0.014145\n",
            "#367 : [27 ms] train: 0.013901\n",
            "#368 : [27 ms] train: 0.013669\n",
            "#369 : [28 ms] train: 0.013449\n"
          ],
          "name": "stdout"
        },
        {
          "output_type": "stream",
          "text": [
            "\r                                                                               \r\r                                                                               \r\r                                                                               \r\r                                                                               \r\r                                                                               \r\r                                                                               \r\r                                                                               \r"
          ],
          "name": "stderr"
        },
        {
          "output_type": "stream",
          "text": [
            "#370 : [39 ms] train: 0.013237\n",
            "#371 : [28 ms] train: 0.013040\n",
            "#372 : [29 ms] train: 0.012849\n",
            "#373 : [28 ms] train: 0.012668\n",
            "#374 : [29 ms] train: 0.012495\n",
            "#375 : [42 ms] train: 0.012329\n",
            "#376 : [28 ms] train: 0.012173\n"
          ],
          "name": "stdout"
        },
        {
          "output_type": "stream",
          "text": [
            "\r                                                                               \r\r                                                                               \r\r                                                                               \r\r                                                                               \r\r                                                                               \r\r                                                                               \r\r                                                                               \r"
          ],
          "name": "stderr"
        },
        {
          "output_type": "stream",
          "text": [
            "#377 : [36 ms] train: 0.012022\n",
            "#378 : [32 ms] train: 0.011881\n",
            "#379 : [31 ms] train: 0.011747\n",
            "#380 : [28 ms] train: 0.011619\n",
            "#381 : [28 ms] train: 0.011497\n",
            "#382 : [28 ms] train: 0.011379\n",
            "#383 : [28 ms] train: 0.011268\n"
          ],
          "name": "stdout"
        },
        {
          "output_type": "stream",
          "text": [
            "\r                                                                               \r\r                                                                               \r\r                                                                               \r\r                                                                               \r\r                                                                               \r\r                                                                               \r\r                                                                               \r"
          ],
          "name": "stderr"
        },
        {
          "output_type": "stream",
          "text": [
            "#384 : [32 ms] train: 0.011162\n",
            "#385 : [30 ms] train: 0.011062\n",
            "#386 : [29 ms] train: 0.010968\n",
            "#387 : [27 ms] train: 0.010877\n",
            "#388 : [27 ms] train: 0.010791\n",
            "#389 : [36 ms] train: 0.010710\n",
            "#390 : [31 ms] train: 0.010633\n"
          ],
          "name": "stdout"
        },
        {
          "output_type": "stream",
          "text": [
            "\r                                                                               \r\r                                                                               \r\r                                                                               \r\r                                                                               \r\r                                                                               \r\r                                                                               \r\r                                                                               \r"
          ],
          "name": "stderr"
        },
        {
          "output_type": "stream",
          "text": [
            "#391 : [35 ms] train: 0.010560\n",
            "#392 : [28 ms] train: 0.010490\n",
            "#393 : [27 ms] train: 0.010425\n",
            "#394 : [27 ms] train: 0.010363\n",
            "#395 : [27 ms] train: 0.010304\n",
            "#396 : [27 ms] train: 0.010245\n",
            "#397 : [31 ms] train: 0.010190\n"
          ],
          "name": "stdout"
        },
        {
          "output_type": "stream",
          "text": [
            "\r                                                                               \r\r                                                                               \r\r                                                                               \r\r                                                                               \r\r                                                                               \r\r                                                                               \r\r                                                                               \r\r                                                                               \r"
          ],
          "name": "stderr"
        },
        {
          "output_type": "stream",
          "text": [
            "#398 : [35 ms] train: 0.010138\n",
            "#399 : [35 ms] train: 0.010085\n",
            "#400 : [28 ms] train: 0.010038\n",
            "#401 : [29 ms] train: 0.009989\n",
            "#402 : [27 ms] train: 0.009942\n",
            "#403 : [27 ms] train: 0.009898\n",
            "#404 : [28 ms] train: 0.009857\n",
            "#405 : [28 ms] train: 0.009802\n"
          ],
          "name": "stdout"
        },
        {
          "output_type": "stream",
          "text": [
            "\r                                                                               \r\r                                                                               \r\r                                                                               \r\r                                                                               \r\r                                                                               \r\r                                                                               \r\r                                                                               \r\r                                                                               \r"
          ],
          "name": "stderr"
        },
        {
          "output_type": "stream",
          "text": [
            "#406 : [35 ms] train: 0.009710\n",
            "#407 : [27 ms] train: 0.009623\n",
            "#408 : [30 ms] train: 0.009475\n",
            "#409 : [28 ms] train: 0.009268\n",
            "#410 : [27 ms] train: 0.009072\n",
            "#411 : [26 ms] train: 0.008600\n",
            "#412 : [26 ms] train: 0.008365\n",
            "#413 : [26 ms] train: 0.008143\n"
          ],
          "name": "stdout"
        },
        {
          "output_type": "stream",
          "text": [
            "\r                                                                               \r\r                                                                               \r\r                                                                               \r\r                                                                               \r\r                                                                               \r\r                                                                               \r\r                                                                               \r\r                                                                               \r"
          ],
          "name": "stderr"
        },
        {
          "output_type": "stream",
          "text": [
            "#414 : [32 ms] train: 0.007932\n",
            "#415 : [29 ms] train: 0.007732\n",
            "#416 : [28 ms] train: 0.007542\n",
            "#417 : [27 ms] train: 0.007361\n",
            "#418 : [33 ms] train: 0.007190\n",
            "#419 : [26 ms] train: 0.007025\n",
            "#420 : [27 ms] train: 0.006869\n",
            "#421 : [26 ms] train: 0.006720\n"
          ],
          "name": "stdout"
        },
        {
          "output_type": "stream",
          "text": [
            "\r                                                                               \r\r                                                                               \r\r                                                                               \r\r                                                                               \r\r                                                                               \r\r                                                                               \r\r                                                                               \r\r                                                                               \r"
          ],
          "name": "stderr"
        },
        {
          "output_type": "stream",
          "text": [
            "#422 : [35 ms] train: 0.006579\n",
            "#423 : [26 ms] train: 0.006444\n",
            "#424 : [34 ms] train: 0.006315\n",
            "#425 : [26 ms] train: 0.006192\n",
            "#426 : [28 ms] train: 0.006065\n",
            "#427 : [30 ms] train: 0.005892\n",
            "#428 : [27 ms] train: 0.005727\n",
            "#429 : [27 ms] train: 0.005572\n"
          ],
          "name": "stdout"
        },
        {
          "output_type": "stream",
          "text": [
            "\r                                                                               \r\r                                                                               \r\r                                                                               \r\r                                                                               \r\r                                                                               \r\r                                                                               \r\r                                                                               \r\r                                                                               \r"
          ],
          "name": "stderr"
        },
        {
          "output_type": "stream",
          "text": [
            "#430 : [33 ms] train: 0.005423\n",
            "#431 : [27 ms] train: 0.005240\n",
            "#432 : [26 ms] train: 0.005061\n",
            "#433 : [25 ms] train: 0.004890\n",
            "#434 : [26 ms] train: 0.004727\n",
            "#435 : [26 ms] train: 0.004571\n",
            "#436 : [26 ms] train: 0.004424\n",
            "#437 : [26 ms] train: 0.004284\n"
          ],
          "name": "stdout"
        },
        {
          "output_type": "stream",
          "text": [
            "\r                                                                               \r\r                                                                               \r\r                                                                               \r\r                                                                               \r\r                                                                               \r\r                                                                               \r\r                                                                               \r\r                                                                               \r"
          ],
          "name": "stderr"
        },
        {
          "output_type": "stream",
          "text": [
            "#438 : [36 ms] train: 0.004151\n",
            "#439 : [26 ms] train: 0.004024\n",
            "#440 : [26 ms] train: 0.003904\n",
            "#441 : [28 ms] train: 0.003791\n",
            "#442 : [25 ms] train: 0.003682\n",
            "#443 : [26 ms] train: 0.003576\n",
            "#444 : [26 ms] train: 0.003476\n",
            "#445 : [26 ms] train: 0.003382\n"
          ],
          "name": "stdout"
        },
        {
          "output_type": "stream",
          "text": [
            "\r                                                                               \r\r                                                                               \r\r                                                                               \r\r                                                                               \r\r                                                                               \r\r                                                                               \r\r                                                                               \r\r                                                                               \r"
          ],
          "name": "stderr"
        },
        {
          "output_type": "stream",
          "text": [
            "#446 : [32 ms] train: 0.003292\n",
            "#447 : [26 ms] train: 0.003207\n",
            "#448 : [25 ms] train: 0.003124\n",
            "#449 : [25 ms] train: 0.002986\n",
            "#450 : [29 ms] train: 0.002856\n",
            "#451 : [26 ms] train: 0.002731\n",
            "#452 : [26 ms] train: 0.002614\n",
            "#453 : [25 ms] train: 0.002502\n"
          ],
          "name": "stdout"
        },
        {
          "output_type": "stream",
          "text": [
            "\r                                                                               \r\r                                                                               \r\r                                                                               \r\r                                                                               \r\r                                                                               \r\r                                                                               \r\r                                                                               \r\r                                                                               \r"
          ],
          "name": "stderr"
        },
        {
          "output_type": "stream",
          "text": [
            "#454 : [32 ms] train: 0.002395\n",
            "#455 : [25 ms] train: 0.002295\n",
            "#456 : [25 ms] train: 0.002198\n",
            "#457 : [25 ms] train: 0.002105\n",
            "#458 : [25 ms] train: 0.002019\n",
            "#459 : [25 ms] train: 0.001936\n",
            "#460 : [34 ms] train: 0.001854\n",
            "#461 : [37 ms] train: 0.001776\n"
          ],
          "name": "stdout"
        },
        {
          "output_type": "stream",
          "text": [
            "\r                                                                               \r\r                                                                               \r\r                                                                               \r\r                                                                               \r\r                                                                               \r\r                                                                               \r\r                                                                               \r\r                                                                               \r"
          ],
          "name": "stderr"
        },
        {
          "output_type": "stream",
          "text": [
            "#462 : [34 ms] train: 0.001701\n",
            "#463 : [25 ms] train: 0.001630\n",
            "#464 : [26 ms] train: 0.001563\n",
            "#465 : [27 ms] train: 0.001498\n",
            "#466 : [29 ms] train: 0.001437\n",
            "#467 : [25 ms] train: 0.001380\n",
            "#468 : [27 ms] train: 0.001325\n",
            "#469 : [30 ms] train: 0.001274\n"
          ],
          "name": "stdout"
        },
        {
          "output_type": "stream",
          "text": [
            "\r                                                                               \r\r                                                                               \r\r                                                                               \r\r                                                                               \r\r                                                                               \r\r                                                                               \r\r                                                                               \r\r                                                                               \r"
          ],
          "name": "stderr"
        },
        {
          "output_type": "stream",
          "text": [
            "#470 : [30 ms] train: 0.001224\n",
            "#471 : [27 ms] train: 0.001178\n",
            "#472 : [26 ms] train: 0.001133\n",
            "#473 : [29 ms] train: 0.001090\n",
            "#474 : [25 ms] train: 0.001050\n",
            "#475 : [25 ms] train: 0.001013\n",
            "#476 : [25 ms] train: 0.000977\n",
            "#477 : [25 ms] train: 0.000943\n"
          ],
          "name": "stdout"
        },
        {
          "output_type": "stream",
          "text": [
            "\r                                                                               \r\r                                                                               \r\r                                                                               \r\r                                                                               \r\r                                                                               \r\r                                                                               \r\r                                                                               \r\r                                                                               \r"
          ],
          "name": "stderr"
        },
        {
          "output_type": "stream",
          "text": [
            "#478 : [35 ms] train: 0.000910\n",
            "#479 : [28 ms] train: 0.000878\n",
            "#480 : [25 ms] train: 0.000848\n",
            "#481 : [25 ms] train: 0.000819\n",
            "#482 : [25 ms] train: 0.000791\n",
            "#483 : [25 ms] train: 0.000764\n",
            "#484 : [25 ms] train: 0.000739\n",
            "#485 : [26 ms] train: 0.000716\n"
          ],
          "name": "stdout"
        },
        {
          "output_type": "stream",
          "text": [
            "\r                                                                               \r\r                                                                               \r\r                                                                               \r\r                                                                               \r\r                                                                               \r\r                                                                               \r\r                                                                               \r\r                                                                               \r"
          ],
          "name": "stderr"
        },
        {
          "output_type": "stream",
          "text": [
            "#486 : [30 ms] train: 0.000693\n",
            "#487 : [27 ms] train: 0.000672\n",
            "#488 : [26 ms] train: 0.000652\n",
            "#489 : [25 ms] train: 0.000633\n",
            "#490 : [24 ms] train: 0.000614\n",
            "#491 : [26 ms] train: 0.000597\n",
            "#492 : [26 ms] train: 0.000580\n",
            "#493 : [27 ms] train: 0.000565\n"
          ],
          "name": "stdout"
        },
        {
          "output_type": "stream",
          "text": [
            "\r                                                                               \r\r                                                                               \r\r                                                                               \r\r                                                                               \r\r                                                                               \r\r                                                                               \r\r                                                                               \r\r                                                                               \r"
          ],
          "name": "stderr"
        },
        {
          "output_type": "stream",
          "text": [
            "#494 : [30 ms] train: 0.000550\n",
            "#495 : [24 ms] train: 0.000534\n",
            "#496 : [24 ms] train: 0.000521\n",
            "#497 : [24 ms] train: 0.000507\n",
            "#498 : [32 ms] train: 0.000495\n",
            "#499 : [25 ms] train: 0.000484\n",
            "#500 : [24 ms] train: 0.000473\n",
            "#501 : [24 ms] train: 0.000462\n"
          ],
          "name": "stdout"
        },
        {
          "output_type": "stream",
          "text": [
            "\r                                                                               \r\r                                                                               \r\r                                                                               \r\r                                                                               \r\r                                                                               \r\r                                                                               \r\r                                                                               \r\r                                                                               \r"
          ],
          "name": "stderr"
        },
        {
          "output_type": "stream",
          "text": [
            "#502 : [30 ms] train: 0.000451\n",
            "#503 : [27 ms] train: 0.000442\n",
            "#504 : [27 ms] train: 0.000433\n",
            "#505 : [24 ms] train: 0.000424\n",
            "#506 : [24 ms] train: 0.000416\n",
            "#507 : [24 ms] train: 0.000409\n",
            "#508 : [24 ms] train: 0.000402\n",
            "#509 : [26 ms] train: 0.000394\n"
          ],
          "name": "stdout"
        },
        {
          "output_type": "stream",
          "text": [
            "\r                                                                               \r\r                                                                               \r\r                                                                               \r\r                                                                               \r\r                                                                               \r\r                                                                               \r\r                                                                               \r\r                                                                               \r\r                                                                               \r"
          ],
          "name": "stderr"
        },
        {
          "output_type": "stream",
          "text": [
            "#510 : [27 ms] train: 0.000386\n",
            "#511 : [32 ms] train: 0.000379\n",
            "#512 : [25 ms] train: 0.000372\n",
            "#513 : [25 ms] train: 0.000366\n",
            "#514 : [24 ms] train: 0.000359\n",
            "#515 : [24 ms] train: 0.000354\n",
            "#516 : [24 ms] train: 0.000348\n",
            "#517 : [25 ms] train: 0.000343\n",
            "#518 : [24 ms] train: 0.000337\n"
          ],
          "name": "stdout"
        },
        {
          "output_type": "stream",
          "text": [
            "\r                                                                               \r\r                                                                               \r\r                                                                               \r\r                                                                               \r\r                                                                               \r\r                                                                               \r\r                                                                               \r\r                                                                               \r\r                                                                               \r"
          ],
          "name": "stderr"
        },
        {
          "output_type": "stream",
          "text": [
            "#519 : [35 ms] train: 0.000333\n",
            "#520 : [26 ms] train: 0.000328\n",
            "#521 : [25 ms] train: 0.000324\n",
            "#522 : [24 ms] train: 0.000320\n",
            "#523 : [26 ms] train: 0.000316\n",
            "#524 : [24 ms] train: 0.000313\n",
            "#525 : [25 ms] train: 0.000309\n",
            "#526 : [24 ms] train: 0.000306\n",
            "#527 : [25 ms] train: 0.000303\n"
          ],
          "name": "stdout"
        },
        {
          "output_type": "stream",
          "text": [
            "\r                                                                               \r\r                                                                               \r\r                                                                               \r\r                                                                               \r\r                                                                               \r\r                                                                               \r\r                                                                               \r\r                                                                               \r"
          ],
          "name": "stderr"
        },
        {
          "output_type": "stream",
          "text": [
            "#528 : [31 ms] train: 0.000298\n",
            "#529 : [31 ms] train: 0.000295\n",
            "#530 : [28 ms] train: 0.000292\n",
            "#531 : [30 ms] train: 0.000288\n",
            "#532 : [25 ms] train: 0.000284\n",
            "#533 : [24 ms] train: 0.000282\n",
            "#534 : [24 ms] train: 0.000278\n",
            "#535 : [24 ms] train: 0.000275\n"
          ],
          "name": "stdout"
        },
        {
          "output_type": "stream",
          "text": [
            "\r                                                                               \r\r                                                                               \r\r                                                                               \r\r                                                                               \r\r                                                                               \r\r                                                                               \r\r                                                                               \r\r                                                                               \r"
          ],
          "name": "stderr"
        },
        {
          "output_type": "stream",
          "text": [
            "#536 : [39 ms] train: 0.000273\n",
            "#537 : [27 ms] train: 0.000270\n",
            "#538 : [26 ms] train: 0.000266\n",
            "#539 : [24 ms] train: 0.000262\n",
            "#540 : [25 ms] train: 0.000259\n",
            "#541 : [25 ms] train: 0.000254\n",
            "#542 : [24 ms] train: 0.000251\n",
            "#543 : [25 ms] train: 0.000249\n"
          ],
          "name": "stdout"
        },
        {
          "output_type": "stream",
          "text": [
            "\r                                                                               \r\r                                                                               \r\r                                                                               \r\r                                                                               \r\r                                                                               \r\r                                                                               \r\r                                                                               \r\r                                                                               \r"
          ],
          "name": "stderr"
        },
        {
          "output_type": "stream",
          "text": [
            "#544 : [26 ms] train: 0.000245\n",
            "#545 : [28 ms] train: 0.000242\n",
            "#546 : [24 ms] train: 0.000240\n",
            "#547 : [24 ms] train: 0.000238\n",
            "#548 : [24 ms] train: 0.000235\n",
            "#549 : [26 ms] train: 0.000233\n",
            "#550 : [27 ms] train: 0.000231\n",
            "#551 : [27 ms] train: 0.000228\n"
          ],
          "name": "stdout"
        },
        {
          "output_type": "stream",
          "text": [
            "\r                                                                               \r\r                                                                               \r\r                                                                               \r\r                                                                               \r\r                                                                               \r\r                                                                               \r\r                                                                               \r\r                                                                               \r\r                                                                               \r"
          ],
          "name": "stderr"
        },
        {
          "output_type": "stream",
          "text": [
            "#552 : [33 ms] train: 0.000226\n",
            "#553 : [26 ms] train: 0.000225\n",
            "#554 : [24 ms] train: 0.000223\n",
            "#555 : [24 ms] train: 0.000222\n",
            "#556 : [24 ms] train: 0.000220\n",
            "#557 : [24 ms] train: 0.000218\n",
            "#558 : [24 ms] train: 0.000217\n",
            "#559 : [24 ms] train: 0.000215\n",
            "#560 : [26 ms] train: 0.000215\n"
          ],
          "name": "stdout"
        },
        {
          "output_type": "stream",
          "text": [
            "\r                                                                               \r\r                                                                               \r\r                                                                               \r\r                                                                               \r\r                                                                               \r\r                                                                               \r\r                                                                               \r\r                                                                               \r\r                                                                               \r"
          ],
          "name": "stderr"
        },
        {
          "output_type": "stream",
          "text": [
            "#561 : [33 ms] train: 0.000213\n",
            "#562 : [25 ms] train: 0.000212\n",
            "#563 : [24 ms] train: 0.000211\n",
            "#564 : [24 ms] train: 0.000210\n",
            "#565 : [23 ms] train: 0.000209\n",
            "#566 : [24 ms] train: 0.000209\n",
            "#567 : [24 ms] train: 0.000207\n",
            "#568 : [23 ms] train: 0.000207\n",
            "#569 : [24 ms] train: 0.000206\n"
          ],
          "name": "stdout"
        },
        {
          "output_type": "stream",
          "text": [
            "\r                                                                               \r\r                                                                               \r\r                                                                               \r\r                                                                               \r\r                                                                               \r\r                                                                               \r\r                                                                               \r\r                                                                               \r"
          ],
          "name": "stderr"
        },
        {
          "output_type": "stream",
          "text": [
            "#570 : [34 ms] train: 0.000206\n",
            "#571 : [24 ms] train: 0.000205\n",
            "#572 : [25 ms] train: 0.000204\n",
            "#573 : [24 ms] train: 0.000204\n",
            "#574 : [24 ms] train: 0.000203\n",
            "#575 : [30 ms] train: 0.000203\n",
            "#576 : [25 ms] train: 0.000203\n",
            "#577 : [23 ms] train: 0.000202\n"
          ],
          "name": "stdout"
        },
        {
          "output_type": "stream",
          "text": [
            "\r                                                                               \r\r                                                                               \r\r                                                                               \r\r                                                                               \r\r                                                                               \r\r                                                                               \r\r                                                                               \r\r                                                                               \r\r                                                                               \r"
          ],
          "name": "stderr"
        },
        {
          "output_type": "stream",
          "text": [
            "#578 : [25 ms] train: 0.000202\n",
            "#579 : [32 ms] train: 0.000201\n",
            "#580 : [28 ms] train: 0.000201\n",
            "#581 : [24 ms] train: 0.000200\n",
            "#582 : [25 ms] train: 0.000200\n",
            "#583 : [24 ms] train: 0.000200\n",
            "#584 : [24 ms] train: 0.000200\n",
            "#585 : [24 ms] train: 0.000199\n",
            "#586 : [24 ms] train: 0.000200\n"
          ],
          "name": "stdout"
        },
        {
          "output_type": "stream",
          "text": [
            "\r                                                                               \r\r                                                                               \r\r                                                                               \r\r                                                                               \r\r                                                                               \r\r                                                                               \r\r                                                                               \r\r                                                                               \r"
          ],
          "name": "stderr"
        },
        {
          "output_type": "stream",
          "text": [
            "#587 : [30 ms] train: 0.000199\n",
            "#588 : [24 ms] train: 0.000199\n",
            "#589 : [31 ms] train: 0.000199\n",
            "#590 : [30 ms] train: 0.000199\n",
            "#591 : [28 ms] train: 0.000199\n",
            "#592 : [26 ms] train: 0.000198\n",
            "#593 : [23 ms] train: 0.000198\n",
            "#594 : [23 ms] train: 0.000199\n"
          ],
          "name": "stdout"
        },
        {
          "output_type": "stream",
          "text": [
            "\r                                                                               \r\r                                                                               \r\r                                                                               \r\r                                                                               \r\r                                                                               \r\r                                                                               \r\r                                                                               \r\r                                                                               \r\r                                                                               \r"
          ],
          "name": "stderr"
        },
        {
          "output_type": "stream",
          "text": [
            "#595 : [31 ms] train: 0.000198\n",
            "#596 : [25 ms] train: 0.000199\n",
            "#597 : [26 ms] train: 0.000198\n",
            "#598 : [26 ms] train: 0.000198\n",
            "#599 : [24 ms] train: 0.000198\n",
            "#600 : [23 ms] train: 0.000198\n",
            "#601 : [23 ms] train: 0.000198\n",
            "#602 : [23 ms] train: 0.000198\n",
            "#603 : [25 ms] train: 0.000198\n"
          ],
          "name": "stdout"
        },
        {
          "output_type": "stream",
          "text": [
            "\r                                                                               \r\r                                                                               \r\r                                                                               \r\r                                                                               \r\r                                                                               \r\r                                                                               \r\r                                                                               \r\r                                                                               \r\r                                                                               \r"
          ],
          "name": "stderr"
        },
        {
          "output_type": "stream",
          "text": [
            "#604 : [30 ms] train: 0.000198\n",
            "#605 : [24 ms] train: 0.000198\n",
            "#606 : [25 ms] train: 0.000197\n",
            "#607 : [28 ms] train: 0.000198\n",
            "#608 : [25 ms] train: 0.000198\n",
            "#609 : [23 ms] train: 0.000198\n",
            "#610 : [23 ms] train: 0.000198\n",
            "#611 : [23 ms] train: 0.000197\n",
            "#612 : [23 ms] train: 0.000198\n"
          ],
          "name": "stdout"
        },
        {
          "output_type": "stream",
          "text": [
            "\r                                                                               \r\r                                                                               \r\r                                                                               \r\r                                                                               \r\r                                                                               \r\r                                                                               \r\r                                                                               \r\r                                                                               \r"
          ],
          "name": "stderr"
        },
        {
          "output_type": "stream",
          "text": [
            "#613 : [30 ms] train: 0.000197\n",
            "#614 : [35 ms] train: 0.000198\n",
            "#615 : [25 ms] train: 0.000198\n",
            "#616 : [26 ms] train: 0.000198\n",
            "#617 : [24 ms] train: 0.000198\n",
            "#618 : [25 ms] train: 0.000198\n",
            "#619 : [24 ms] train: 0.000198\n",
            "#620 : [23 ms] train: 0.000198\n"
          ],
          "name": "stdout"
        },
        {
          "output_type": "stream",
          "text": [
            "\r                                                                               \r\r                                                                               \r\r                                                                               \r\r                                                                               \r\r                                                                               \r\r                                                                               \r\r                                                                               \r\r                                                                               \r\r                                                                               \r"
          ],
          "name": "stderr"
        },
        {
          "output_type": "stream",
          "text": [
            "#621 : [32 ms] train: 0.000198\n",
            "#622 : [25 ms] train: 0.000198\n",
            "#623 : [24 ms] train: 0.000197\n",
            "#624 : [23 ms] train: 0.000197\n",
            "#625 : [24 ms] train: 0.000198\n",
            "#626 : [24 ms] train: 0.000197\n",
            "#627 : [23 ms] train: 0.000198\n",
            "#628 : [25 ms] train: 0.000198\n",
            "#629 : [26 ms] train: 0.000198\n"
          ],
          "name": "stdout"
        },
        {
          "output_type": "stream",
          "text": [
            "\r                                                                               \r\r                                                                               \r\r                                                                               \r\r                                                                               \r\r                                                                               \r\r                                                                               \r\r                                                                               \r\r                                                                               \r"
          ],
          "name": "stderr"
        },
        {
          "output_type": "stream",
          "text": [
            "#630 : [29 ms] train: 0.000198\n",
            "#631 : [34 ms] train: 0.000198\n",
            "#632 : [37 ms] train: 0.000198\n",
            "#633 : [23 ms] train: 0.000198\n",
            "#634 : [23 ms] train: 0.000197\n",
            "#635 : [23 ms] train: 0.000198\n",
            "#636 : [23 ms] train: 0.000198\n",
            "#637 : [23 ms] train: 0.000198\n"
          ],
          "name": "stdout"
        },
        {
          "output_type": "stream",
          "text": [
            "\r                                                                               \r\r                                                                               \r\r                                                                               \r\r                                                                               \r\r                                                                               \r\r                                                                               \r\r                                                                               \r\r                                                                               \r\r                                                                               \r"
          ],
          "name": "stderr"
        },
        {
          "output_type": "stream",
          "text": [
            "#638 : [34 ms] train: 0.000197\n",
            "#639 : [28 ms] train: 0.000198\n",
            "#640 : [25 ms] train: 0.000198\n",
            "#641 : [23 ms] train: 0.000198\n",
            "#642 : [23 ms] train: 0.000198\n",
            "#643 : [23 ms] train: 0.000198\n",
            "#644 : [23 ms] train: 0.000197\n",
            "#645 : [23 ms] train: 0.000198\n",
            "#646 : [23 ms] train: 0.000197\n"
          ],
          "name": "stdout"
        },
        {
          "output_type": "stream",
          "text": [
            "\r                                                                               \r\r                                                                               \r\r                                                                               \r\r                                                                               \r\r                                                                               \r\r                                                                               \r\r                                                                               \r\r                                                                               \r"
          ],
          "name": "stderr"
        },
        {
          "output_type": "stream",
          "text": [
            "#647 : [30 ms] train: 0.000198\n",
            "#648 : [24 ms] train: 0.000197\n",
            "#649 : [23 ms] train: 0.000198\n",
            "#650 : [32 ms] train: 0.000197\n",
            "#651 : [33 ms] train: 0.000198\n",
            "#652 : [24 ms] train: 0.000198\n",
            "#653 : [32 ms] train: 0.000198\n",
            "#654 : [23 ms] train: 0.000198\n"
          ],
          "name": "stdout"
        },
        {
          "output_type": "stream",
          "text": [
            "\r                                                                               \r\r                                                                               \r\r                                                                               \r\r                                                                               \r\r                                                                               \r\r                                                                               \r\r                                                                               \r\r                                                                               \r\r                                                                               \r"
          ],
          "name": "stderr"
        },
        {
          "output_type": "stream",
          "text": [
            "#655 : [31 ms] train: 0.000197\n",
            "#656 : [24 ms] train: 0.000198\n",
            "#657 : [23 ms] train: 0.000198\n",
            "#658 : [25 ms] train: 0.000198\n",
            "#659 : [27 ms] train: 0.000198\n",
            "#660 : [24 ms] train: 0.000197\n",
            "#661 : [24 ms] train: 0.000198\n",
            "#662 : [23 ms] train: 0.000198\n",
            "#663 : [24 ms] train: 0.000198\n"
          ],
          "name": "stdout"
        },
        {
          "output_type": "stream",
          "text": [
            "\r                                                                               \r\r                                                                               \r\r                                                                               \r\r                                                                               \r\r                                                                               \r\r                                                                               \r\r                                                                               \r\r                                                                               \r\r                                                                               \r"
          ],
          "name": "stderr"
        },
        {
          "output_type": "stream",
          "text": [
            "#664 : [30 ms] train: 0.000197\n",
            "#665 : [24 ms] train: 0.000197\n",
            "#666 : [24 ms] train: 0.000198\n",
            "#667 : [24 ms] train: 0.000198\n",
            "#668 : [24 ms] train: 0.000198\n",
            "#669 : [26 ms] train: 0.000198\n",
            "#670 : [25 ms] train: 0.000198\n",
            "#671 : [24 ms] train: 0.000198\n",
            "#672 : [24 ms] train: 0.000198\n"
          ],
          "name": "stdout"
        },
        {
          "output_type": "stream",
          "text": [
            "\r                                                                               \r\r                                                                               \r\r                                                                               \r\r                                                                               \r\r                                                                               \r\r                                                                               \r\r                                                                               \r\r                                                                               \r\r                                                                               \r"
          ],
          "name": "stderr"
        },
        {
          "output_type": "stream",
          "text": [
            "#673 : [30 ms] train: 0.000197\n",
            "#674 : [23 ms] train: 0.000198\n",
            "#675 : [24 ms] train: 0.000198\n",
            "#676 : [23 ms] train: 0.000198\n",
            "#677 : [24 ms] train: 0.000198\n",
            "#678 : [23 ms] train: 0.000198\n",
            "#679 : [23 ms] train: 0.000197\n",
            "#680 : [28 ms] train: 0.000198\n",
            "#681 : [23 ms] train: 0.000198\n"
          ],
          "name": "stdout"
        },
        {
          "output_type": "stream",
          "text": [
            "\r                                                                               \r\r                                                                               \r\r                                                                               \r\r                                                                               \r\r                                                                               \r\r                                                                               \r\r                                                                               \r\r                                                                               \r\r                                                                               \r"
          ],
          "name": "stderr"
        },
        {
          "output_type": "stream",
          "text": [
            "#682 : [30 ms] train: 0.000197\n",
            "#683 : [23 ms] train: 0.000198\n",
            "#684 : [24 ms] train: 0.000198\n",
            "#685 : [23 ms] train: 0.000198\n",
            "#686 : [23 ms] train: 0.000198\n",
            "#687 : [23 ms] train: 0.000198\n",
            "#688 : [23 ms] train: 0.000198\n",
            "#689 : [24 ms] train: 0.000198\n",
            "#690 : [23 ms] train: 0.000198\n"
          ],
          "name": "stdout"
        },
        {
          "output_type": "stream",
          "text": [
            "\r                                                                               \r\r                                                                               \r\r                                                                               \r\r                                                                               \r\r                                                                               \r\r                                                                               \r\r                                                                               \r\r                                                                               \r\r                                                                               \r"
          ],
          "name": "stderr"
        },
        {
          "output_type": "stream",
          "text": [
            "#691 : [33 ms] train: 0.000197\n",
            "#692 : [23 ms] train: 0.000198\n",
            "#693 : [30 ms] train: 0.000198\n",
            "#694 : [23 ms] train: 0.000198\n",
            "#695 : [23 ms] train: 0.000198\n",
            "#696 : [25 ms] train: 0.000197\n",
            "#697 : [24 ms] train: 0.000197\n",
            "#698 : [23 ms] train: 0.000198\n",
            "#699 : [23 ms] train: 0.000197\n"
          ],
          "name": "stdout"
        },
        {
          "output_type": "stream",
          "text": [
            "\r                                                                               \r\r                                                                               \r\r                                                                               \r\r                                                                               \r\r                                                                               \r\r                                                                               \r\r                                                                               \r\r                                                                               \r"
          ],
          "name": "stderr"
        },
        {
          "output_type": "stream",
          "text": [
            "#700 : [30 ms] train: 0.000198\n",
            "#701 : [31 ms] train: 0.000197\n",
            "#702 : [27 ms] train: 0.000198\n",
            "#703 : [25 ms] train: 0.000198\n",
            "#704 : [24 ms] train: 0.000198\n",
            "#705 : [23 ms] train: 0.000197\n",
            "#706 : [24 ms] train: 0.000198\n",
            "#707 : [23 ms] train: 0.000198\n"
          ],
          "name": "stdout"
        },
        {
          "output_type": "stream",
          "text": [
            "\r                                                                               \r\r                                                                               \r\r                                                                               \r\r                                                                               \r\r                                                                               \r\r                                                                               \r\r                                                                               \r\r                                                                               \r\r                                                                               \r"
          ],
          "name": "stderr"
        },
        {
          "output_type": "stream",
          "text": [
            "#708 : [29 ms] train: 0.000198\n",
            "#709 : [24 ms] train: 0.000197\n",
            "#710 : [23 ms] train: 0.000197\n",
            "#711 : [23 ms] train: 0.000198\n",
            "#712 : [25 ms] train: 0.000197\n",
            "#713 : [25 ms] train: 0.000198\n",
            "#714 : [25 ms] train: 0.000198\n",
            "#715 : [24 ms] train: 0.000198\n",
            "#716 : [24 ms] train: 0.000197\n"
          ],
          "name": "stdout"
        },
        {
          "output_type": "stream",
          "text": [
            "\r                                                                               \r\r                                                                               \r\r                                                                               \r\r                                                                               \r\r                                                                               \r\r                                                                               \r\r                                                                               \r\r                                                                               \r\r                                                                               \r"
          ],
          "name": "stderr"
        },
        {
          "output_type": "stream",
          "text": [
            "#717 : [30 ms] train: 0.000197\n",
            "#718 : [24 ms] train: 0.000198\n",
            "#719 : [23 ms] train: 0.000198\n",
            "#720 : [23 ms] train: 0.000198\n",
            "#721 : [23 ms] train: 0.000198\n",
            "#722 : [26 ms] train: 0.000198\n",
            "#723 : [25 ms] train: 0.000198\n",
            "#724 : [24 ms] train: 0.000198\n",
            "#725 : [24 ms] train: 0.000198\n"
          ],
          "name": "stdout"
        },
        {
          "output_type": "stream",
          "text": [
            "\r                                                                               \r\r                                                                               \r\r                                                                               \r\r                                                                               \r\r                                                                               \r\r                                                                               \r\r                                                                               \r\r                                                                               \r\r                                                                               \r"
          ],
          "name": "stderr"
        },
        {
          "output_type": "stream",
          "text": [
            "#726 : [30 ms] train: 0.000198\n",
            "#727 : [24 ms] train: 0.000197\n",
            "#728 : [23 ms] train: 0.000197\n",
            "#729 : [24 ms] train: 0.000198\n",
            "#730 : [23 ms] train: 0.000198\n",
            "#731 : [23 ms] train: 0.000198\n",
            "#732 : [23 ms] train: 0.000198\n",
            "#733 : [27 ms] train: 0.000197\n",
            "#734 : [29 ms] train: 0.000197\n"
          ],
          "name": "stdout"
        },
        {
          "output_type": "stream",
          "text": [
            "\r                                                                               \r\r                                                                               \r\r                                                                               \r\r                                                                               \r\r                                                                               \r\r                                                                               \r\r                                                                               \r\r                                                                               \r\r                                                                               \r"
          ],
          "name": "stderr"
        },
        {
          "output_type": "stream",
          "text": [
            "#735 : [32 ms] train: 0.000198\n",
            "#736 : [24 ms] train: 0.000197\n",
            "#737 : [25 ms] train: 0.000198\n",
            "#738 : [23 ms] train: 0.000198\n",
            "#739 : [23 ms] train: 0.000198\n",
            "#740 : [23 ms] train: 0.000198\n",
            "#741 : [23 ms] train: 0.000198\n",
            "#742 : [23 ms] train: 0.000198\n",
            "#743 : [23 ms] train: 0.000198\n"
          ],
          "name": "stdout"
        },
        {
          "output_type": "stream",
          "text": [
            "\r                                                                               \r\r                                                                               \r\r                                                                               \r\r                                                                               \r\r                                                                               \r\r                                                                               \r\r                                                                               \r\r                                                                               \r\r                                                                               \r"
          ],
          "name": "stderr"
        },
        {
          "output_type": "stream",
          "text": [
            "#744 : [31 ms] train: 0.000198\n",
            "#745 : [26 ms] train: 0.000198\n",
            "#746 : [25 ms] train: 0.000198\n",
            "#747 : [25 ms] train: 0.000198\n",
            "#748 : [24 ms] train: 0.000198\n",
            "#749 : [23 ms] train: 0.000198\n",
            "#750 : [24 ms] train: 0.000198\n",
            "#751 : [23 ms] train: 0.000198\n",
            "#752 : [24 ms] train: 0.000197\n"
          ],
          "name": "stdout"
        },
        {
          "output_type": "stream",
          "text": [
            "\r                                                                               \r\r                                                                               \r\r                                                                               \r\r                                                                               \r\r                                                                               \r\r                                                                               \r\r                                                                               \r\r                                                                               \r"
          ],
          "name": "stderr"
        },
        {
          "output_type": "stream",
          "text": [
            "#753 : [31 ms] train: 0.000198\n",
            "#754 : [29 ms] train: 0.000198\n",
            "#755 : [27 ms] train: 0.000197\n",
            "#756 : [27 ms] train: 0.000197\n",
            "#757 : [24 ms] train: 0.000198\n",
            "#758 : [23 ms] train: 0.000198\n",
            "#759 : [23 ms] train: 0.000198\n",
            "#760 : [23 ms] train: 0.000198\n"
          ],
          "name": "stdout"
        },
        {
          "output_type": "stream",
          "text": [
            "\r                                                                               \r\r                                                                               \r\r                                                                               \r\r                                                                               \r\r                                                                               \r\r                                                                               \r\r                                                                               \r\r                                                                               \r\r                                                                               \r"
          ],
          "name": "stderr"
        },
        {
          "output_type": "stream",
          "text": [
            "#761 : [27 ms] train: 0.000198\n",
            "#762 : [25 ms] train: 0.000198\n",
            "#763 : [28 ms] train: 0.000198\n",
            "#764 : [25 ms] train: 0.000198\n",
            "#765 : [24 ms] train: 0.000198\n",
            "#766 : [24 ms] train: 0.000198\n",
            "#767 : [24 ms] train: 0.000198\n",
            "#768 : [23 ms] train: 0.000197\n",
            "#769 : [24 ms] train: 0.000198\n"
          ],
          "name": "stdout"
        },
        {
          "output_type": "stream",
          "text": [
            "\r                                                                               \r\r                                                                               \r\r                                                                               \r\r                                                                               \r\r                                                                               \r\r                                                                               \r\r                                                                               \r\r                                                                               \r"
          ],
          "name": "stderr"
        },
        {
          "output_type": "stream",
          "text": [
            "#770 : [32 ms] train: 0.000198\n",
            "#771 : [24 ms] train: 0.000198\n",
            "#772 : [24 ms] train: 0.000197\n",
            "#773 : [31 ms] train: 0.000198\n",
            "#774 : [26 ms] train: 0.000198\n",
            "#775 : [27 ms] train: 0.000198\n",
            "#776 : [23 ms] train: 0.000197\n",
            "#777 : [24 ms] train: 0.000198\n"
          ],
          "name": "stdout"
        },
        {
          "output_type": "stream",
          "text": [
            "\r                                                                               \r\r                                                                               \r\r                                                                               \r\r                                                                               \r\r                                                                               \r\r                                                                               \r\r                                                                               \r\r                                                                               \r\r                                                                               \r"
          ],
          "name": "stderr"
        },
        {
          "output_type": "stream",
          "text": [
            "#778 : [30 ms] train: 0.000198\n",
            "#779 : [24 ms] train: 0.000197\n",
            "#780 : [23 ms] train: 0.000197\n",
            "#781 : [23 ms] train: 0.000198\n",
            "#782 : [24 ms] train: 0.000198\n",
            "#783 : [24 ms] train: 0.000198\n",
            "#784 : [25 ms] train: 0.000198\n",
            "#785 : [23 ms] train: 0.000198\n",
            "#786 : [26 ms] train: 0.000198\n"
          ],
          "name": "stdout"
        },
        {
          "output_type": "stream",
          "text": [
            "\r                                                                               \r\r                                                                               \r\r                                                                               \r\r                                                                               \r\r                                                                               \r\r                                                                               \r\r                                                                               \r\r                                                                               \r\r                                                                               \r"
          ],
          "name": "stderr"
        },
        {
          "output_type": "stream",
          "text": [
            "#787 : [31 ms] train: 0.000198\n",
            "#788 : [24 ms] train: 0.000198\n",
            "#789 : [24 ms] train: 0.000198\n",
            "#790 : [24 ms] train: 0.000198\n",
            "#791 : [26 ms] train: 0.000198\n",
            "#792 : [23 ms] train: 0.000198\n",
            "#793 : [23 ms] train: 0.000198\n",
            "#794 : [26 ms] train: 0.000198\n",
            "#795 : [28 ms] train: 0.000198\n"
          ],
          "name": "stdout"
        },
        {
          "output_type": "stream",
          "text": [
            "\r                                                                               \r\r                                                                               \r\r                                                                               \r\r                                                                               \r\r                                                                               \r\r                                                                               \r\r                                                                               \r\r                                                                               \r\r                                                                               \r"
          ],
          "name": "stderr"
        },
        {
          "output_type": "stream",
          "text": [
            "#796 : [32 ms] train: 0.000198\n",
            "#797 : [24 ms] train: 0.000198\n",
            "#798 : [24 ms] train: 0.000198\n",
            "#799 : [23 ms] train: 0.000198\n",
            "#800 : [23 ms] train: 0.000198\n",
            "#801 : [23 ms] train: 0.000198\n",
            "#802 : [22 ms] train: 0.000198\n",
            "#803 : [23 ms] train: 0.000198\n",
            "#804 : [23 ms] train: 0.000198\n"
          ],
          "name": "stdout"
        },
        {
          "output_type": "stream",
          "text": [
            "\r                                                                               \r\r                                                                               \r\r                                                                               \r\r                                                                               \r\r                                                                               \r\r                                                                               \r\r                                                                               \r\r                                                                               \r"
          ],
          "name": "stderr"
        },
        {
          "output_type": "stream",
          "text": [
            "#805 : [30 ms] train: 0.000198\n",
            "#806 : [24 ms] train: 0.000198\n",
            "#807 : [28 ms] train: 0.000198\n",
            "#808 : [25 ms] train: 0.000198\n",
            "#809 : [27 ms] train: 0.000198\n",
            "#810 : [26 ms] train: 0.000198\n",
            "#811 : [22 ms] train: 0.000198\n",
            "#812 : [23 ms] train: 0.000198\n"
          ],
          "name": "stdout"
        },
        {
          "output_type": "stream",
          "text": [
            "\r                                                                               \r\r                                                                               \r\r                                                                               \r\r                                                                               \r\r                                                                               \r\r                                                                               \r\r                                                                               \r\r                                                                               \r\r                                                                               \r"
          ],
          "name": "stderr"
        },
        {
          "output_type": "stream",
          "text": [
            "#813 : [31 ms] train: 0.000198\n",
            "#814 : [29 ms] train: 0.000198\n",
            "#815 : [24 ms] train: 0.000198\n",
            "#816 : [22 ms] train: 0.000198\n",
            "#817 : [23 ms] train: 0.000198\n",
            "#818 : [23 ms] train: 0.000198\n",
            "#819 : [24 ms] train: 0.000198\n",
            "#820 : [25 ms] train: 0.000198\n",
            "#821 : [23 ms] train: 0.000198\n"
          ],
          "name": "stdout"
        },
        {
          "output_type": "stream",
          "text": [
            "\r                                                                               \r\r                                                                               \r\r                                                                               \r\r                                                                               \r\r                                                                               \r\r                                                                               \r\r                                                                               \r\r                                                                               \r\r                                                                               \r"
          ],
          "name": "stderr"
        },
        {
          "output_type": "stream",
          "text": [
            "#822 : [29 ms] train: 0.000198\n",
            "#823 : [23 ms] train: 0.000198\n",
            "#824 : [23 ms] train: 0.000198\n",
            "#825 : [23 ms] train: 0.000198\n",
            "#826 : [23 ms] train: 0.000198\n",
            "#827 : [23 ms] train: 0.000198\n",
            "#828 : [22 ms] train: 0.000198\n",
            "#829 : [23 ms] train: 0.000198\n",
            "#830 : [23 ms] train: 0.000198\n"
          ],
          "name": "stdout"
        },
        {
          "output_type": "stream",
          "text": [
            "\r                                                                               \r\r                                                                               \r\r                                                                               \r\r                                                                               \r\r                                                                               \r\r                                                                               \r\r                                                                               \r\r                                                                               \r\r                                                                               \r"
          ],
          "name": "stderr"
        },
        {
          "output_type": "stream",
          "text": [
            "#831 : [30 ms] train: 0.000198\n",
            "#832 : [23 ms] train: 0.000198\n",
            "#833 : [23 ms] train: 0.000198\n",
            "#834 : [24 ms] train: 0.000198\n",
            "#835 : [27 ms] train: 0.000198\n",
            "#836 : [23 ms] train: 0.000198\n",
            "#837 : [24 ms] train: 0.000198\n",
            "#838 : [23 ms] train: 0.000198\n",
            "#839 : [23 ms] train: 0.000198\n"
          ],
          "name": "stdout"
        },
        {
          "output_type": "stream",
          "text": [
            "\r                                                                               \r\r                                                                               \r\r                                                                               \r\r                                                                               \r\r                                                                               \r\r                                                                               \r\r                                                                               \r\r                                                                               \r\r                                                                               \r"
          ],
          "name": "stderr"
        },
        {
          "output_type": "stream",
          "text": [
            "#840 : [28 ms] train: 0.000198\n",
            "#841 : [23 ms] train: 0.000198\n",
            "#842 : [22 ms] train: 0.000198\n",
            "#843 : [23 ms] train: 0.000198\n",
            "#844 : [25 ms] train: 0.000198\n",
            "#845 : [24 ms] train: 0.000198\n",
            "#846 : [23 ms] train: 0.000198\n",
            "#847 : [25 ms] train: 0.000198\n",
            "#848 : [24 ms] train: 0.000198\n"
          ],
          "name": "stdout"
        },
        {
          "output_type": "stream",
          "text": [
            "\r                                                                               \r\r                                                                               \r\r                                                                               \r\r                                                                               \r\r                                                                               \r\r                                                                               \r\r                                                                               \r\r                                                                               \r"
          ],
          "name": "stderr"
        },
        {
          "output_type": "stream",
          "text": [
            "#849 : [30 ms] train: 0.000198\n",
            "#850 : [24 ms] train: 0.000198\n",
            "#851 : [24 ms] train: 0.000198\n",
            "#852 : [24 ms] train: 0.000198\n",
            "#853 : [23 ms] train: 0.000198\n",
            "#854 : [24 ms] train: 0.000198\n",
            "#855 : [36 ms] train: 0.000198\n",
            "#856 : [24 ms] train: 0.000198\n"
          ],
          "name": "stdout"
        },
        {
          "output_type": "stream",
          "text": [
            "\r                                                                               \r\r                                                                               \r\r                                                                               \r\r                                                                               \r\r                                                                               \r\r                                                                               \r\r                                                                               \r\r                                                                               \r\r                                                                               \r"
          ],
          "name": "stderr"
        },
        {
          "output_type": "stream",
          "text": [
            "#857 : [29 ms] train: 0.000198\n",
            "#858 : [23 ms] train: 0.000198\n",
            "#859 : [22 ms] train: 0.000198\n",
            "#860 : [23 ms] train: 0.000198\n",
            "#861 : [24 ms] train: 0.000198\n",
            "#862 : [23 ms] train: 0.000198\n",
            "#863 : [23 ms] train: 0.000198\n",
            "#864 : [24 ms] train: 0.000198\n",
            "#865 : [23 ms] train: 0.000198\n"
          ],
          "name": "stdout"
        },
        {
          "output_type": "stream",
          "text": [
            "\r                                                                               \r\r                                                                               \r\r                                                                               \r\r                                                                               \r\r                                                                               \r\r                                                                               \r\r                                                                               \r\r                                                                               \r\r                                                                               \r"
          ],
          "name": "stderr"
        },
        {
          "output_type": "stream",
          "text": [
            "#866 : [29 ms] train: 0.000198\n",
            "#867 : [26 ms] train: 0.000198\n",
            "#868 : [23 ms] train: 0.000198\n",
            "#869 : [23 ms] train: 0.000198\n",
            "#870 : [23 ms] train: 0.000198\n",
            "#871 : [23 ms] train: 0.000198\n",
            "#872 : [23 ms] train: 0.000197\n",
            "#873 : [22 ms] train: 0.000198\n",
            "#874 : [23 ms] train: 0.000197\n"
          ],
          "name": "stdout"
        },
        {
          "output_type": "stream",
          "text": [
            "\r                                                                               \r\r                                                                               \r\r                                                                               \r\r                                                                               \r\r                                                                               \r\r                                                                               \r\r                                                                               \r\r                                                                               \r\r                                                                               \r"
          ],
          "name": "stderr"
        },
        {
          "output_type": "stream",
          "text": [
            "#875 : [28 ms] train: 0.000198\n",
            "#876 : [24 ms] train: 0.000198\n",
            "#877 : [30 ms] train: 0.000197\n",
            "#878 : [26 ms] train: 0.000197\n",
            "#879 : [27 ms] train: 0.000197\n",
            "#880 : [23 ms] train: 0.000198\n",
            "#881 : [23 ms] train: 0.000198\n",
            "#882 : [23 ms] train: 0.000198\n",
            "#883 : [23 ms] train: 0.000198\n"
          ],
          "name": "stdout"
        },
        {
          "output_type": "stream",
          "text": [
            "\r                                                                               \r\r                                                                               \r\r                                                                               \r\r                                                                               \r\r                                                                               \r\r                                                                               \r\r                                                                               \r\r                                                                               \r\r                                                                               \r"
          ],
          "name": "stderr"
        },
        {
          "output_type": "stream",
          "text": [
            "#884 : [29 ms] train: 0.000198\n",
            "#885 : [23 ms] train: 0.000198\n",
            "#886 : [23 ms] train: 0.000198\n",
            "#887 : [24 ms] train: 0.000198\n",
            "#888 : [25 ms] train: 0.000198\n",
            "#889 : [26 ms] train: 0.000198\n",
            "#890 : [24 ms] train: 0.000198\n",
            "#891 : [23 ms] train: 0.000198\n",
            "#892 : [23 ms] train: 0.000198\n"
          ],
          "name": "stdout"
        },
        {
          "output_type": "stream",
          "text": [
            "\r                                                                               \r\r                                                                               \r\r                                                                               \r\r                                                                               \r\r                                                                               \r\r                                                                               \r\r                                                                               \r\r                                                                               \r"
          ],
          "name": "stderr"
        },
        {
          "output_type": "stream",
          "text": [
            "#893 : [29 ms] train: 0.000197\n",
            "#894 : [24 ms] train: 0.000198\n",
            "#895 : [25 ms] train: 0.000198\n",
            "#896 : [31 ms] train: 0.000198\n",
            "#897 : [24 ms] train: 0.000198\n",
            "#898 : [26 ms] train: 0.000198\n",
            "#899 : [26 ms] train: 0.000198\n",
            "#900 : [24 ms] train: 0.000198\n"
          ],
          "name": "stdout"
        },
        {
          "output_type": "stream",
          "text": [
            "\r                                                                               \r\r                                                                               \r\r                                                                               \r\r                                                                               \r\r                                                                               \r\r                                                                               \r\r                                                                               \r\r                                                                               \r\r                                                                               \r"
          ],
          "name": "stderr"
        },
        {
          "output_type": "stream",
          "text": [
            "#901 : [29 ms] train: 0.000198\n",
            "#902 : [24 ms] train: 0.000198\n",
            "#903 : [24 ms] train: 0.000198\n",
            "#904 : [25 ms] train: 0.000198\n",
            "#905 : [23 ms] train: 0.000198\n",
            "#906 : [24 ms] train: 0.000198\n",
            "#907 : [24 ms] train: 0.000198\n",
            "#908 : [23 ms] train: 0.000198\n",
            "#909 : [25 ms] train: 0.000197\n"
          ],
          "name": "stdout"
        },
        {
          "output_type": "stream",
          "text": [
            "\r                                                                               \r\r                                                                               \r\r                                                                               \r\r                                                                               \r\r                                                                               \r\r                                                                               \r\r                                                                               \r\r                                                                               \r\r                                                                               \r"
          ],
          "name": "stderr"
        },
        {
          "output_type": "stream",
          "text": [
            "#910 : [33 ms] train: 0.000198\n",
            "#911 : [25 ms] train: 0.000198\n",
            "#912 : [23 ms] train: 0.000198\n",
            "#913 : [24 ms] train: 0.000197\n",
            "#914 : [23 ms] train: 0.000197\n",
            "#915 : [23 ms] train: 0.000197\n",
            "#916 : [23 ms] train: 0.000197\n",
            "#917 : [23 ms] train: 0.000197\n",
            "#918 : [23 ms] train: 0.000198\n"
          ],
          "name": "stdout"
        },
        {
          "output_type": "stream",
          "text": [
            "\r                                                                               \r\r                                                                               \r\r                                                                               \r\r                                                                               \r\r                                                                               \r\r                                                                               \r\r                                                                               \r\r                                                                               \r\r                                                                               \r"
          ],
          "name": "stderr"
        },
        {
          "output_type": "stream",
          "text": [
            "#919 : [30 ms] train: 0.000198\n",
            "#920 : [27 ms] train: 0.000198\n",
            "#921 : [24 ms] train: 0.000198\n",
            "#922 : [23 ms] train: 0.000198\n",
            "#923 : [30 ms] train: 0.000198\n",
            "#924 : [24 ms] train: 0.000197\n",
            "#925 : [23 ms] train: 0.000198\n",
            "#926 : [24 ms] train: 0.000198\n",
            "#927 : [23 ms] train: 0.000198\n"
          ],
          "name": "stdout"
        },
        {
          "output_type": "stream",
          "text": [
            "\r                                                                               \r\r                                                                               \r\r                                                                               \r\r                                                                               \r\r                                                                               \r\r                                                                               \r\r                                                                               \r\r                                                                               \r"
          ],
          "name": "stderr"
        },
        {
          "output_type": "stream",
          "text": [
            "#928 : [30 ms] train: 0.000198\n",
            "#929 : [24 ms] train: 0.000198\n",
            "#930 : [23 ms] train: 0.000198\n",
            "#931 : [28 ms] train: 0.000198\n",
            "#932 : [24 ms] train: 0.000198\n",
            "#933 : [23 ms] train: 0.000198\n",
            "#934 : [24 ms] train: 0.000198\n",
            "#935 : [24 ms] train: 0.000198\n"
          ],
          "name": "stdout"
        },
        {
          "output_type": "stream",
          "text": [
            "\r                                                                               \r\r                                                                               \r\r                                                                               \r\r                                                                               \r\r                                                                               \r\r                                                                               \r\r                                                                               \r\r                                                                               \r\r                                                                               \r"
          ],
          "name": "stderr"
        },
        {
          "output_type": "stream",
          "text": [
            "#936 : [35 ms] train: 0.000198\n",
            "#937 : [26 ms] train: 0.000198\n",
            "#938 : [24 ms] train: 0.000198\n",
            "#939 : [23 ms] train: 0.000198\n",
            "#940 : [24 ms] train: 0.000198\n",
            "#941 : [25 ms] train: 0.000198\n",
            "#942 : [23 ms] train: 0.000198\n",
            "#943 : [30 ms] train: 0.000198\n",
            "#944 : [29 ms] train: 0.000198\n"
          ],
          "name": "stdout"
        },
        {
          "output_type": "stream",
          "text": [
            "\r                                                                               \r\r                                                                               \r\r                                                                               \r\r                                                                               \r\r                                                                               \r\r                                                                               \r\r                                                                               \r\r                                                                               \r"
          ],
          "name": "stderr"
        },
        {
          "output_type": "stream",
          "text": [
            "#945 : [33 ms] train: 0.000197\n",
            "#946 : [24 ms] train: 0.000198\n",
            "#947 : [24 ms] train: 0.000197\n",
            "#948 : [23 ms] train: 0.000198\n",
            "#949 : [24 ms] train: 0.000198\n",
            "#950 : [24 ms] train: 0.000198\n",
            "#951 : [32 ms] train: 0.000198\n",
            "#952 : [25 ms] train: 0.000198\n"
          ],
          "name": "stdout"
        },
        {
          "output_type": "stream",
          "text": [
            "\r                                                                               \r\r                                                                               \r\r                                                                               \r\r                                                                               \r\r                                                                               \r\r                                                                               \r\r                                                                               \r\r                                                                               \r\r                                                                               \r"
          ],
          "name": "stderr"
        },
        {
          "output_type": "stream",
          "text": [
            "#953 : [27 ms] train: 0.000198\n",
            "#954 : [28 ms] train: 0.000198\n",
            "#955 : [23 ms] train: 0.000198\n",
            "#956 : [24 ms] train: 0.000198\n",
            "#957 : [23 ms] train: 0.000197\n",
            "#958 : [24 ms] train: 0.000198\n",
            "#959 : [24 ms] train: 0.000197\n",
            "#960 : [23 ms] train: 0.000198\n",
            "#961 : [25 ms] train: 0.000198\n"
          ],
          "name": "stdout"
        },
        {
          "output_type": "stream",
          "text": [
            "\r                                                                               \r\r                                                                               \r\r                                                                               \r\r                                                                               \r\r                                                                               \r\r                                                                               \r\r                                                                               \r\r                                                                               \r\r                                                                               \r"
          ],
          "name": "stderr"
        },
        {
          "output_type": "stream",
          "text": [
            "#962 : [32 ms] train: 0.000198\n",
            "#963 : [24 ms] train: 0.000198\n",
            "#964 : [23 ms] train: 0.000198\n",
            "#965 : [23 ms] train: 0.000198\n",
            "#966 : [23 ms] train: 0.000198\n",
            "#967 : [23 ms] train: 0.000198\n",
            "#968 : [23 ms] train: 0.000198\n",
            "#969 : [23 ms] train: 0.000197\n",
            "#970 : [23 ms] train: 0.000198\n"
          ],
          "name": "stdout"
        },
        {
          "output_type": "stream",
          "text": [
            "\r                                                                               \r\r                                                                               \r\r                                                                               \r\r                                                                               \r\r                                                                               \r\r                                                                               \r\r                                                                               \r\r                                                                               \r"
          ],
          "name": "stderr"
        },
        {
          "output_type": "stream",
          "text": [
            "#971 : [33 ms] train: 0.000198\n",
            "#972 : [24 ms] train: 0.000198\n",
            "#973 : [25 ms] train: 0.000198\n",
            "#974 : [29 ms] train: 0.000198\n",
            "#975 : [32 ms] train: 0.000198\n",
            "#976 : [24 ms] train: 0.000198\n",
            "#977 : [23 ms] train: 0.000198\n",
            "#978 : [23 ms] train: 0.000197\n"
          ],
          "name": "stdout"
        },
        {
          "output_type": "stream",
          "text": [
            "\r                                                                               \r\r                                                                               \r\r                                                                               \r\r                                                                               \r\r                                                                               \r\r                                                                               \r\r                                                                               \r\r                                                                               \r\r                                                                               \r"
          ],
          "name": "stderr"
        },
        {
          "output_type": "stream",
          "text": [
            "#979 : [29 ms] train: 0.000198\n",
            "#980 : [25 ms] train: 0.000197\n",
            "#981 : [24 ms] train: 0.000197\n",
            "#982 : [25 ms] train: 0.000198\n",
            "#983 : [26 ms] train: 0.000198\n",
            "#984 : [23 ms] train: 0.000198\n",
            "#985 : [24 ms] train: 0.000198\n",
            "#986 : [23 ms] train: 0.000198\n",
            "#987 : [23 ms] train: 0.000198\n"
          ],
          "name": "stdout"
        },
        {
          "output_type": "stream",
          "text": [
            "\r                                                                               \r\r                                                                               \r\r                                                                               \r\r                                                                               \r\r                                                                               \r\r                                                                               \r\r                                                                               \r\r                                                                               \r"
          ],
          "name": "stderr"
        },
        {
          "output_type": "stream",
          "text": [
            "#988 : [30 ms] train: 0.000198\n",
            "#989 : [23 ms] train: 0.000198\n",
            "#990 : [23 ms] train: 0.000198\n",
            "#991 : [31 ms] train: 0.000198\n",
            "#992 : [29 ms] train: 0.000197\n",
            "#993 : [28 ms] train: 0.000198\n",
            "#994 : [26 ms] train: 0.000197\n",
            "#995 : [24 ms] train: 0.000198\n"
          ],
          "name": "stdout"
        },
        {
          "output_type": "stream",
          "text": [
            "\r                                                                               \r\r                                                                               \r\r                                                                               \r\r                                                                               \r\r                                                                               \r\r                                                                               \r\r                                                                               \r\r                                                                               \r\r                                                                               \r"
          ],
          "name": "stderr"
        },
        {
          "output_type": "stream",
          "text": [
            "#996 : [30 ms] train: 0.000197\n",
            "#997 : [23 ms] train: 0.000198\n",
            "#998 : [23 ms] train: 0.000198\n",
            "#999 : [23 ms] train: 0.000198\n",
            "#1000 : [23 ms] train: 0.000198\n",
            "#1001 : [23 ms] train: 0.000197\n",
            "#1002 : [26 ms] train: 0.000198\n",
            "#1003 : [24 ms] train: 0.000197\n",
            "#1004 : [23 ms] train: 0.000198\n"
          ],
          "name": "stdout"
        },
        {
          "output_type": "stream",
          "text": [
            "\r                                                                               \r\r                                                                               \r\r                                                                               \r\r                                                                               \r\r                                                                               \r\r                                                                               \r\r                                                                               \r\r                                                                               \r\r                                                                               \r"
          ],
          "name": "stderr"
        },
        {
          "output_type": "stream",
          "text": [
            "#1005 : [30 ms] train: 0.000198\n",
            "#1006 : [22 ms] train: 0.000198\n",
            "#1007 : [23 ms] train: 0.000197\n",
            "#1008 : [24 ms] train: 0.000198\n",
            "#1009 : [25 ms] train: 0.000198\n",
            "#1010 : [24 ms] train: 0.000198\n",
            "#1011 : [23 ms] train: 0.000198\n",
            "#1012 : [24 ms] train: 0.000198\n",
            "#1013 : [24 ms] train: 0.000198\n"
          ],
          "name": "stdout"
        },
        {
          "output_type": "stream",
          "text": [
            "\r                                                                               \r\r                                                                               \r\r                                                                               \r\r                                                                               \r\r                                                                               \r\r                                                                               \r\r                                                                               \r\r                                                                               \r"
          ],
          "name": "stderr"
        },
        {
          "output_type": "stream",
          "text": [
            "#1014 : [31 ms] train: 0.000198\n",
            "#1015 : [28 ms] train: 0.000198\n",
            "#1016 : [26 ms] train: 0.000198\n",
            "#1017 : [24 ms] train: 0.000198\n",
            "#1018 : [28 ms] train: 0.000198\n",
            "#1019 : [24 ms] train: 0.000198\n",
            "#1020 : [23 ms] train: 0.000198\n",
            "#1021 : [24 ms] train: 0.000197\n"
          ],
          "name": "stdout"
        },
        {
          "output_type": "stream",
          "text": [
            "\r                                                                               \r\r                                                                               \r\r                                                                               \r\r                                                                               \r\r                                                                               \r\r                                                                               \r\r                                                                               \r\r                                                                               \r\r                                                                               \r"
          ],
          "name": "stderr"
        },
        {
          "output_type": "stream",
          "text": [
            "#1022 : [27 ms] train: 0.000198\n",
            "#1023 : [28 ms] train: 0.000198\n",
            "#1024 : [23 ms] train: 0.000198\n",
            "#1025 : [24 ms] train: 0.000198\n",
            "#1026 : [24 ms] train: 0.000198\n",
            "#1027 : [24 ms] train: 0.000198\n",
            "#1028 : [23 ms] train: 0.000198\n",
            "#1029 : [25 ms] train: 0.000198\n",
            "#1030 : [26 ms] train: 0.000198\n"
          ],
          "name": "stdout"
        },
        {
          "output_type": "stream",
          "text": [
            "\r                                                                               \r\r                                                                               \r\r                                                                               \r\r                                                                               \r\r                                                                               \r\r                                                                               \r\r                                                                               \r\r                                                                               \r\r                                                                               \r"
          ],
          "name": "stderr"
        },
        {
          "output_type": "stream",
          "text": [
            "#1031 : [32 ms] train: 0.000198\n",
            "#1032 : [28 ms] train: 0.000198\n",
            "#1033 : [26 ms] train: 0.000198\n",
            "#1034 : [23 ms] train: 0.000198\n",
            "#1035 : [24 ms] train: 0.000198\n",
            "#1036 : [24 ms] train: 0.000198\n",
            "#1037 : [23 ms] train: 0.000198\n",
            "#1038 : [23 ms] train: 0.000198\n",
            "#1039 : [28 ms] train: 0.000198\n"
          ],
          "name": "stdout"
        },
        {
          "output_type": "stream",
          "text": [
            "\r                                                                               \r\r                                                                               \r\r                                                                               \r\r                                                                               \r\r                                                                               \r\r                                                                               \r\r                                                                               \r\r                                                                               \r\r                                                                               \r"
          ],
          "name": "stderr"
        },
        {
          "output_type": "stream",
          "text": [
            "#1040 : [30 ms] train: 0.000198\n",
            "#1041 : [23 ms] train: 0.000198\n",
            "#1042 : [23 ms] train: 0.000198\n",
            "#1043 : [23 ms] train: 0.000198\n",
            "#1044 : [23 ms] train: 0.000198\n",
            "#1045 : [23 ms] train: 0.000198\n",
            "#1046 : [23 ms] train: 0.000198\n",
            "#1047 : [23 ms] train: 0.000198\n",
            "#1048 : [23 ms] train: 0.000198\n"
          ],
          "name": "stdout"
        },
        {
          "output_type": "stream",
          "text": [
            "\r                                                                               \r\r                                                                               \r\r                                                                               \r\r                                                                               \r\r                                                                               \r\r                                                                               \r\r                                                                               \r\r                                                                               \r"
          ],
          "name": "stderr"
        },
        {
          "output_type": "stream",
          "text": [
            "#1049 : [30 ms] train: 0.000198\n",
            "#1050 : [25 ms] train: 0.000198\n",
            "#1051 : [26 ms] train: 0.000198\n",
            "#1052 : [25 ms] train: 0.000198\n",
            "#1053 : [28 ms] train: 0.000198\n",
            "#1054 : [28 ms] train: 0.000198\n",
            "#1055 : [31 ms] train: 0.000198\n",
            "#1056 : [23 ms] train: 0.000198\n"
          ],
          "name": "stdout"
        },
        {
          "output_type": "stream",
          "text": [
            "\r                                                                               \r\r                                                                               \r\r                                                                               \r\r                                                                               \r\r                                                                               \r\r                                                                               \r\r                                                                               \r\r                                                                               \r\r                                                                               \r"
          ],
          "name": "stderr"
        },
        {
          "output_type": "stream",
          "text": [
            "#1057 : [30 ms] train: 0.000198\n",
            "#1058 : [24 ms] train: 0.000198\n",
            "#1059 : [23 ms] train: 0.000198\n",
            "#1060 : [23 ms] train: 0.000198\n",
            "#1061 : [28 ms] train: 0.000198\n",
            "#1062 : [23 ms] train: 0.000198\n",
            "#1063 : [24 ms] train: 0.000198\n",
            "#1064 : [24 ms] train: 0.000198\n",
            "#1065 : [23 ms] train: 0.000198\n"
          ],
          "name": "stdout"
        },
        {
          "output_type": "stream",
          "text": [
            "\r                                                                               \r\r                                                                               \r\r                                                                               \r\r                                                                               \r\r                                                                               \r\r                                                                               \r\r                                                                               \r\r                                                                               \r\r                                                                               \r"
          ],
          "name": "stderr"
        },
        {
          "output_type": "stream",
          "text": [
            "#1066 : [30 ms] train: 0.000198\n",
            "#1067 : [23 ms] train: 0.000198\n",
            "#1068 : [23 ms] train: 0.000198\n",
            "#1069 : [24 ms] train: 0.000198\n",
            "#1070 : [24 ms] train: 0.000198\n",
            "#1071 : [24 ms] train: 0.000198\n",
            "#1072 : [26 ms] train: 0.000198\n",
            "#1073 : [23 ms] train: 0.000198\n",
            "#1074 : [23 ms] train: 0.000198\n"
          ],
          "name": "stdout"
        },
        {
          "output_type": "stream",
          "text": [
            "\r                                                                               \r\r                                                                               \r\r                                                                               \r\r                                                                               \r\r                                                                               \r\r                                                                               \r\r                                                                               \r\r                                                                               \r\r                                                                               \r"
          ],
          "name": "stderr"
        },
        {
          "output_type": "stream",
          "text": [
            "#1075 : [31 ms] train: 0.000198\n",
            "#1076 : [24 ms] train: 0.000198\n",
            "#1077 : [23 ms] train: 0.000198\n",
            "#1078 : [24 ms] train: 0.000198\n",
            "#1079 : [23 ms] train: 0.000198\n",
            "#1080 : [23 ms] train: 0.000198\n",
            "#1081 : [23 ms] train: 0.000198\n",
            "#1082 : [23 ms] train: 0.000198\n",
            "#1083 : [23 ms] train: 0.000198\n"
          ],
          "name": "stdout"
        },
        {
          "output_type": "stream",
          "text": [
            "\r                                                                               \r\r                                                                               \r\r                                                                               \r\r                                                                               \r\r                                                                               \r\r                                                                               \r\r                                                                               \r\r                                                                               \r\r                                                                               \r"
          ],
          "name": "stderr"
        },
        {
          "output_type": "stream",
          "text": [
            "#1084 : [34 ms] train: 0.000198\n",
            "#1085 : [24 ms] train: 0.000198\n",
            "#1086 : [24 ms] train: 0.000198\n",
            "#1087 : [24 ms] train: 0.000198\n",
            "#1088 : [26 ms] train: 0.000198\n",
            "#1089 : [23 ms] train: 0.000198\n",
            "#1090 : [23 ms] train: 0.000198\n",
            "#1091 : [24 ms] train: 0.000198\n",
            "#1092 : [24 ms] train: 0.000198\n"
          ],
          "name": "stdout"
        },
        {
          "output_type": "stream",
          "text": [
            "\r                                                                               \r\r                                                                               \r\r                                                                               \r\r                                                                               \r\r                                                                               \r\r                                                                               \r\r                                                                               \r\r                                                                               \r"
          ],
          "name": "stderr"
        },
        {
          "output_type": "stream",
          "text": [
            "#1093 : [31 ms] train: 0.000198\n",
            "#1094 : [27 ms] train: 0.000198\n",
            "#1095 : [31 ms] train: 0.000198\n",
            "#1096 : [25 ms] train: 0.000198\n",
            "#1097 : [24 ms] train: 0.000197\n",
            "#1098 : [23 ms] train: 0.000198\n",
            "#1099 : [26 ms] train: 0.000198\n",
            "#1100 : [23 ms] train: 0.000198\n"
          ],
          "name": "stdout"
        },
        {
          "output_type": "stream",
          "text": [
            "\r                                                                               \r\r                                                                               \r\r                                                                               \r\r                                                                               \r\r                                                                               \r\r                                                                               \r\r                                                                               \r\r                                                                               \r\r                                                                               \r"
          ],
          "name": "stderr"
        },
        {
          "output_type": "stream",
          "text": [
            "#1101 : [28 ms] train: 0.000198\n",
            "#1102 : [25 ms] train: 0.000198\n",
            "#1103 : [22 ms] train: 0.000198\n",
            "#1104 : [23 ms] train: 0.000198\n",
            "#1105 : [23 ms] train: 0.000198\n",
            "#1106 : [25 ms] train: 0.000198\n",
            "#1107 : [25 ms] train: 0.000198\n",
            "#1108 : [23 ms] train: 0.000198\n",
            "#1109 : [24 ms] train: 0.000198\n"
          ],
          "name": "stdout"
        },
        {
          "output_type": "stream",
          "text": [
            "\r                                                                               \r\r                                                                               \r\r                                                                               \r\r                                                                               \r\r                                                                               \r\r                                                                               \r\r                                                                               \r\r                                                                               \r\r                                                                               \r"
          ],
          "name": "stderr"
        },
        {
          "output_type": "stream",
          "text": [
            "#1110 : [29 ms] train: 0.000198\n",
            "#1111 : [24 ms] train: 0.000198\n",
            "#1112 : [23 ms] train: 0.000198\n",
            "#1113 : [23 ms] train: 0.000198\n",
            "#1114 : [24 ms] train: 0.000198\n",
            "#1115 : [23 ms] train: 0.000198\n",
            "#1116 : [24 ms] train: 0.000198\n",
            "#1117 : [24 ms] train: 0.000198\n",
            "#1118 : [23 ms] train: 0.000198\n"
          ],
          "name": "stdout"
        },
        {
          "output_type": "stream",
          "text": [
            "\r                                                                               \r\r                                                                               \r\r                                                                               \r\r                                                                               \r\r                                                                               \r\r                                                                               \r\r                                                                               \r\r                                                                               \r\r                                                                               \r"
          ],
          "name": "stderr"
        },
        {
          "output_type": "stream",
          "text": [
            "#1119 : [36 ms] train: 0.000198\n",
            "#1120 : [27 ms] train: 0.000198\n",
            "#1121 : [27 ms] train: 0.000198\n",
            "#1122 : [24 ms] train: 0.000197\n",
            "#1123 : [23 ms] train: 0.000198\n",
            "#1124 : [24 ms] train: 0.000198\n",
            "#1125 : [23 ms] train: 0.000198\n",
            "#1126 : [24 ms] train: 0.000198\n",
            "#1127 : [25 ms] train: 0.000198\n"
          ],
          "name": "stdout"
        },
        {
          "output_type": "stream",
          "text": [
            "\r                                                                               \r\r                                                                               \r\r                                                                               \r\r                                                                               \r\r                                                                               \r\r                                                                               \r\r                                                                               \r\r                                                                               \r\r                                                                               \r"
          ],
          "name": "stderr"
        },
        {
          "output_type": "stream",
          "text": [
            "#1128 : [32 ms] train: 0.000198\n",
            "#1129 : [24 ms] train: 0.000198\n",
            "#1130 : [23 ms] train: 0.000198\n",
            "#1131 : [23 ms] train: 0.000198\n",
            "#1132 : [26 ms] train: 0.000198\n",
            "#1133 : [23 ms] train: 0.000197\n",
            "#1134 : [24 ms] train: 0.000198\n",
            "#1135 : [24 ms] train: 0.000198\n",
            "#1136 : [32 ms] train: 0.000198\n"
          ],
          "name": "stdout"
        },
        {
          "output_type": "stream",
          "text": [
            "\r                                                                               \r\r                                                                               \r\r                                                                               \r\r                                                                               \r\r                                                                               \r\r                                                                               \r\r                                                                               \r\r                                                                               \r\r                                                                               \r"
          ],
          "name": "stderr"
        },
        {
          "output_type": "stream",
          "text": [
            "#1137 : [29 ms] train: 0.000197\n",
            "#1138 : [25 ms] train: 0.000197\n",
            "#1139 : [26 ms] train: 0.000198\n",
            "#1140 : [24 ms] train: 0.000198\n",
            "#1141 : [24 ms] train: 0.000198\n",
            "#1142 : [24 ms] train: 0.000198\n",
            "#1143 : [23 ms] train: 0.000198\n",
            "#1144 : [24 ms] train: 0.000198\n",
            "#1145 : [23 ms] train: 0.000197\n"
          ],
          "name": "stdout"
        },
        {
          "output_type": "stream",
          "text": [
            "\r                                                                               \r\r                                                                               \r\r                                                                               \r\r                                                                               \r\r                                                                               \r\r                                                                               \r\r                                                                               \r\r                                                                               \r\r                                                                               \r"
          ],
          "name": "stderr"
        },
        {
          "output_type": "stream",
          "text": [
            "#1146 : [30 ms] train: 0.000197\n",
            "#1147 : [24 ms] train: 0.000198\n",
            "#1148 : [25 ms] train: 0.000197\n",
            "#1149 : [26 ms] train: 0.000198\n",
            "#1150 : [23 ms] train: 0.000198\n",
            "#1151 : [24 ms] train: 0.000198\n",
            "#1152 : [23 ms] train: 0.000198\n",
            "#1153 : [23 ms] train: 0.000198\n",
            "#1154 : [24 ms] train: 0.000198\n"
          ],
          "name": "stdout"
        },
        {
          "output_type": "stream",
          "text": [
            "\r                                                                               \r\r                                                                               \r\r                                                                               \r\r                                                                               \r\r                                                                               \r\r                                                                               \r\r                                                                               \r\r                                                                               \r"
          ],
          "name": "stderr"
        },
        {
          "output_type": "stream",
          "text": [
            "#1155 : [31 ms] train: 0.000198\n",
            "#1156 : [25 ms] train: 0.000198\n",
            "#1157 : [26 ms] train: 0.000198\n",
            "#1158 : [27 ms] train: 0.000198\n",
            "#1159 : [27 ms] train: 0.000198\n",
            "#1160 : [25 ms] train: 0.000198\n",
            "#1161 : [24 ms] train: 0.000198\n",
            "#1162 : [23 ms] train: 0.000198\n"
          ],
          "name": "stdout"
        },
        {
          "output_type": "stream",
          "text": [
            "\r                                                                               \r\r                                                                               \r\r                                                                               \r\r                                                                               \r\r                                                                               \r\r                                                                               \r\r                                                                               \r\r                                                                               \r\r                                                                               \r"
          ],
          "name": "stderr"
        },
        {
          "output_type": "stream",
          "text": [
            "#1163 : [25 ms] train: 0.000198\n",
            "#1164 : [28 ms] train: 0.000197\n",
            "#1165 : [24 ms] train: 0.000198\n",
            "#1166 : [25 ms] train: 0.000197\n",
            "#1167 : [24 ms] train: 0.000198\n",
            "#1168 : [24 ms] train: 0.000198\n",
            "#1169 : [23 ms] train: 0.000198\n",
            "#1170 : [24 ms] train: 0.000197\n",
            "#1171 : [28 ms] train: 0.000198\n"
          ],
          "name": "stdout"
        },
        {
          "output_type": "stream",
          "text": [
            "\r                                                                               \r\r                                                                               \r\r                                                                               \r\r                                                                               \r\r                                                                               \r\r                                                                               \r\r                                                                               \r\r                                                                               \r\r                                                                               \r"
          ],
          "name": "stderr"
        },
        {
          "output_type": "stream",
          "text": [
            "#1172 : [31 ms] train: 0.000197\n",
            "#1173 : [24 ms] train: 0.000198\n",
            "#1174 : [23 ms] train: 0.000197\n",
            "#1175 : [24 ms] train: 0.000198\n",
            "#1176 : [30 ms] train: 0.000198\n",
            "#1177 : [22 ms] train: 0.000198\n",
            "#1178 : [22 ms] train: 0.000198\n",
            "#1179 : [23 ms] train: 0.000198\n",
            "#1180 : [28 ms] train: 0.000197\n"
          ],
          "name": "stdout"
        },
        {
          "output_type": "stream",
          "text": [
            "\r                                                                               \r\r                                                                               \r\r                                                                               \r\r                                                                               \r\r                                                                               \r\r                                                                               \r\r                                                                               \r\r                                                                               \r\r                                                                               \r"
          ],
          "name": "stderr"
        },
        {
          "output_type": "stream",
          "text": [
            "#1181 : [32 ms] train: 0.000198\n",
            "#1182 : [27 ms] train: 0.000198\n",
            "#1183 : [23 ms] train: 0.000198\n",
            "#1184 : [23 ms] train: 0.000198\n",
            "#1185 : [22 ms] train: 0.000198\n",
            "#1186 : [23 ms] train: 0.000198\n",
            "#1187 : [23 ms] train: 0.000198\n",
            "#1188 : [23 ms] train: 0.000198\n",
            "#1189 : [23 ms] train: 0.000197\n"
          ],
          "name": "stdout"
        },
        {
          "output_type": "stream",
          "text": [
            "\r                                                                               \r\r                                                                               \r\r                                                                               \r\r                                                                               \r\r                                                                               \r\r                                                                               \r\r                                                                               \r\r                                                                               \r\r                                                                               \r"
          ],
          "name": "stderr"
        },
        {
          "output_type": "stream",
          "text": [
            "#1190 : [31 ms] train: 0.000197\n",
            "#1191 : [25 ms] train: 0.000198\n",
            "#1192 : [24 ms] train: 0.000198\n",
            "#1193 : [23 ms] train: 0.000198\n",
            "#1194 : [23 ms] train: 0.000198\n",
            "#1195 : [23 ms] train: 0.000198\n",
            "#1196 : [23 ms] train: 0.000198\n",
            "#1197 : [23 ms] train: 0.000198\n",
            "#1198 : [23 ms] train: 0.000198\n"
          ],
          "name": "stdout"
        },
        {
          "output_type": "stream",
          "text": [
            "\r                                                                               \r\r                                                                               \r\r                                                                               \r\r                                                                               \r\r                                                                               \r\r                                                                               \r\r                                                                               \r\r                                                                               \r\r                                                                               \r"
          ],
          "name": "stderr"
        },
        {
          "output_type": "stream",
          "text": [
            "#1199 : [29 ms] train: 0.000198\n",
            "#1200 : [28 ms] train: 0.000198\n",
            "#1201 : [23 ms] train: 0.000198\n",
            "#1202 : [23 ms] train: 0.000198\n",
            "#1203 : [25 ms] train: 0.000198\n",
            "#1204 : [24 ms] train: 0.000198\n",
            "#1205 : [24 ms] train: 0.000198\n",
            "#1206 : [25 ms] train: 0.000198\n",
            "#1207 : [24 ms] train: 0.000198\n"
          ],
          "name": "stdout"
        },
        {
          "output_type": "stream",
          "text": [
            "\r                                                                               \r\r                                                                               \r\r                                                                               \r\r                                                                               \r\r                                                                               \r\r                                                                               \r\r                                                                               \r\r                                                                               \r"
          ],
          "name": "stderr"
        },
        {
          "output_type": "stream",
          "text": [
            "#1208 : [30 ms] train: 0.000198\n",
            "#1209 : [23 ms] train: 0.000198\n",
            "#1210 : [25 ms] train: 0.000198\n",
            "#1211 : [27 ms] train: 0.000198\n",
            "#1212 : [25 ms] train: 0.000198\n",
            "#1213 : [25 ms] train: 0.000198\n",
            "#1214 : [23 ms] train: 0.000198\n",
            "#1215 : [23 ms] train: 0.000198\n"
          ],
          "name": "stdout"
        },
        {
          "output_type": "stream",
          "text": [
            "\r                                                                               \r\r                                                                               \r\r                                                                               \r\r                                                                               \r\r                                                                               \r\r                                                                               \r\r                                                                               \r\r                                                                               \r\r                                                                               \r"
          ],
          "name": "stderr"
        },
        {
          "output_type": "stream",
          "text": [
            "#1216 : [35 ms] train: 0.000198\n",
            "#1217 : [27 ms] train: 0.000198\n",
            "#1218 : [25 ms] train: 0.000198\n",
            "#1219 : [23 ms] train: 0.000198\n",
            "#1220 : [25 ms] train: 0.000198\n",
            "#1221 : [26 ms] train: 0.000197\n",
            "#1222 : [23 ms] train: 0.000198\n",
            "#1223 : [24 ms] train: 0.000198\n",
            "#1224 : [23 ms] train: 0.000198\n"
          ],
          "name": "stdout"
        },
        {
          "output_type": "stream",
          "text": [
            "\r                                                                               \r\r                                                                               \r\r                                                                               \r\r                                                                               \r\r                                                                               \r\r                                                                               \r\r                                                                               \r\r                                                                               \r\r                                                                               \r"
          ],
          "name": "stderr"
        },
        {
          "output_type": "stream",
          "text": [
            "#1225 : [30 ms] train: 0.000198\n",
            "#1226 : [23 ms] train: 0.000198\n",
            "#1227 : [23 ms] train: 0.000198\n",
            "#1228 : [23 ms] train: 0.000198\n",
            "#1229 : [23 ms] train: 0.000198\n",
            "#1230 : [24 ms] train: 0.000198\n",
            "#1231 : [26 ms] train: 0.000198\n",
            "#1232 : [23 ms] train: 0.000198\n",
            "#1233 : [24 ms] train: 0.000198\n"
          ],
          "name": "stdout"
        },
        {
          "output_type": "stream",
          "text": [
            "\r                                                                               \r\r                                                                               \r\r                                                                               \r\r                                                                               \r\r                                                                               \r\r                                                                               \r\r                                                                               \r\r                                                                               \r\r                                                                               \r"
          ],
          "name": "stderr"
        },
        {
          "output_type": "stream",
          "text": [
            "#1234 : [30 ms] train: 0.000198\n",
            "#1235 : [23 ms] train: 0.000198\n",
            "#1236 : [23 ms] train: 0.000198\n",
            "#1237 : [24 ms] train: 0.000198\n",
            "#1238 : [23 ms] train: 0.000198\n",
            "#1239 : [23 ms] train: 0.000198\n",
            "#1240 : [23 ms] train: 0.000198\n",
            "#1241 : [24 ms] train: 0.000198\n",
            "#1242 : [23 ms] train: 0.000198\n"
          ],
          "name": "stdout"
        },
        {
          "output_type": "stream",
          "text": [
            "\r                                                                               \r\r                                                                               \r\r                                                                               \r\r                                                                               \r\r                                                                               \r\r                                                                               \r\r                                                                               \r\r                                                                               \r"
          ],
          "name": "stderr"
        },
        {
          "output_type": "stream",
          "text": [
            "#1243 : [33 ms] train: 0.000198\n",
            "#1244 : [28 ms] train: 0.000198\n",
            "#1245 : [25 ms] train: 0.000198\n",
            "#1246 : [28 ms] train: 0.000198\n",
            "#1247 : [27 ms] train: 0.000198\n",
            "#1248 : [23 ms] train: 0.000198\n",
            "#1249 : [24 ms] train: 0.000198\n",
            "#1250 : [23 ms] train: 0.000198\n"
          ],
          "name": "stdout"
        },
        {
          "output_type": "stream",
          "text": [
            "\r                                                                               \r\r                                                                               \r\r                                                                               \r\r                                                                               \r\r                                                                               \r\r                                                                               \r\r                                                                               \r\r                                                                               \r"
          ],
          "name": "stderr"
        },
        {
          "output_type": "stream",
          "text": [
            "#1251 : [28 ms] train: 0.000198\n",
            "#1252 : [26 ms] train: 0.000198\n",
            "#1253 : [27 ms] train: 0.000197\n",
            "#1254 : [23 ms] train: 0.000198\n",
            "#1255 : [23 ms] train: 0.000198\n",
            "#1256 : [33 ms] train: 0.000198\n",
            "#1257 : [25 ms] train: 0.000197\n",
            "#1258 : [24 ms] train: 0.000198\n"
          ],
          "name": "stdout"
        },
        {
          "output_type": "stream",
          "text": [
            "\r                                                                               \r\r                                                                               \r\r                                                                               \r\r                                                                               \r\r                                                                               \r\r                                                                               \r\r                                                                               \r\r                                                                               \r\r                                                                               \r"
          ],
          "name": "stderr"
        },
        {
          "output_type": "stream",
          "text": [
            "#1259 : [24 ms] train: 0.000198\n",
            "#1260 : [28 ms] train: 0.000197\n",
            "#1261 : [23 ms] train: 0.000198\n",
            "#1262 : [25 ms] train: 0.000198\n",
            "#1263 : [26 ms] train: 0.000197\n",
            "#1264 : [23 ms] train: 0.000198\n",
            "#1265 : [24 ms] train: 0.000197\n",
            "#1266 : [23 ms] train: 0.000198\n",
            "#1267 : [25 ms] train: 0.000197\n"
          ],
          "name": "stdout"
        },
        {
          "output_type": "stream",
          "text": [
            "\r                                                                               \r\r                                                                               \r\r                                                                               \r\r                                                                               \r\r                                                                               \r\r                                                                               \r\r                                                                               \r\r                                                                               \r\r                                                                               \r"
          ],
          "name": "stderr"
        },
        {
          "output_type": "stream",
          "text": [
            "#1268 : [32 ms] train: 0.000197\n",
            "#1269 : [23 ms] train: 0.000197\n",
            "#1270 : [23 ms] train: 0.000198\n",
            "#1271 : [23 ms] train: 0.000198\n",
            "#1272 : [26 ms] train: 0.000198\n",
            "#1273 : [25 ms] train: 0.000198\n",
            "#1274 : [23 ms] train: 0.000198\n",
            "#1275 : [24 ms] train: 0.000198\n",
            "#1276 : [22 ms] train: 0.000198\n"
          ],
          "name": "stdout"
        },
        {
          "output_type": "stream",
          "text": [
            "\r                                                                               \r\r                                                                               \r\r                                                                               \r\r                                                                               \r\r                                                                               \r\r                                                                               \r\r                                                                               \r\r                                                                               \r\r                                                                               \r"
          ],
          "name": "stderr"
        },
        {
          "output_type": "stream",
          "text": [
            "#1277 : [29 ms] train: 0.000198\n",
            "#1278 : [23 ms] train: 0.000197\n",
            "#1279 : [23 ms] train: 0.000198\n",
            "#1280 : [23 ms] train: 0.000198\n",
            "#1281 : [23 ms] train: 0.000198\n",
            "#1282 : [23 ms] train: 0.000198\n",
            "#1283 : [22 ms] train: 0.000198\n",
            "#1284 : [26 ms] train: 0.000198\n",
            "#1285 : [24 ms] train: 0.000198\n"
          ],
          "name": "stdout"
        },
        {
          "output_type": "stream",
          "text": [
            "\r                                                                               \r\r                                                                               \r\r                                                                               \r\r                                                                               \r\r                                                                               \r\r                                                                               \r\r                                                                               \r\r                                                                               \r\r                                                                               \r"
          ],
          "name": "stderr"
        },
        {
          "output_type": "stream",
          "text": [
            "#1286 : [31 ms] train: 0.000198\n",
            "#1287 : [24 ms] train: 0.000198\n",
            "#1288 : [23 ms] train: 0.000198\n",
            "#1289 : [23 ms] train: 0.000198\n",
            "#1290 : [23 ms] train: 0.000198\n",
            "#1291 : [24 ms] train: 0.000198\n",
            "#1292 : [24 ms] train: 0.000198\n",
            "#1293 : [25 ms] train: 0.000198\n",
            "#1294 : [24 ms] train: 0.000198\n"
          ],
          "name": "stdout"
        },
        {
          "output_type": "stream",
          "text": [
            "\r                                                                               \r\r                                                                               \r\r                                                                               \r\r                                                                               \r\r                                                                               \r\r                                                                               \r\r                                                                               \r\r                                                                               \r\r                                                                               \r"
          ],
          "name": "stderr"
        },
        {
          "output_type": "stream",
          "text": [
            "#1295 : [30 ms] train: 0.000198\n",
            "#1296 : [23 ms] train: 0.000198\n",
            "#1297 : [30 ms] train: 0.000198\n",
            "#1298 : [23 ms] train: 0.000198\n",
            "#1299 : [23 ms] train: 0.000198\n",
            "#1300 : [23 ms] train: 0.000198\n",
            "#1301 : [23 ms] train: 0.000198\n",
            "#1302 : [23 ms] train: 0.000198\n",
            "#1303 : [22 ms] train: 0.000198\n"
          ],
          "name": "stdout"
        },
        {
          "output_type": "stream",
          "text": [
            "\r                                                                               \r\r                                                                               \r\r                                                                               \r\r                                                                               \r\r                                                                               \r\r                                                                               \r\r                                                                               \r\r                                                                               \r"
          ],
          "name": "stderr"
        },
        {
          "output_type": "stream",
          "text": [
            "#1304 : [30 ms] train: 0.000198\n",
            "#1305 : [28 ms] train: 0.000198\n",
            "#1306 : [27 ms] train: 0.000198\n",
            "#1307 : [27 ms] train: 0.000198\n",
            "#1308 : [23 ms] train: 0.000198\n",
            "#1309 : [23 ms] train: 0.000198\n",
            "#1310 : [23 ms] train: 0.000198\n",
            "#1311 : [23 ms] train: 0.000198\n"
          ],
          "name": "stdout"
        },
        {
          "output_type": "stream",
          "text": [
            "\r                                                                               \r\r                                                                               \r\r                                                                               \r\r                                                                               \r\r                                                                               \r\r                                                                               \r\r                                                                               \r\r                                                                               \r\r                                                                               \r"
          ],
          "name": "stderr"
        },
        {
          "output_type": "stream",
          "text": [
            "#1312 : [25 ms] train: 0.000198\n",
            "#1313 : [29 ms] train: 0.000198\n",
            "#1314 : [26 ms] train: 0.000198\n",
            "#1315 : [23 ms] train: 0.000198\n",
            "#1316 : [23 ms] train: 0.000198\n",
            "#1317 : [23 ms] train: 0.000198\n",
            "#1318 : [23 ms] train: 0.000198\n",
            "#1319 : [23 ms] train: 0.000198\n",
            "#1320 : [23 ms] train: 0.000198\n",
            "#1321 : [27 ms] train: 0.000198\n"
          ],
          "name": "stdout"
        },
        {
          "output_type": "stream",
          "text": [
            "\r                                                                               \r\r                                                                               \r\r                                                                               \r\r                                                                               \r\r                                                                               \r\r                                                                               \r\r                                                                               \r\r                                                                               \r\r                                                                               \r"
          ],
          "name": "stderr"
        },
        {
          "output_type": "stream",
          "text": [
            "#1322 : [27 ms] train: 0.000198\n",
            "#1323 : [23 ms] train: 0.000197\n",
            "#1324 : [24 ms] train: 0.000198\n",
            "#1325 : [27 ms] train: 0.000198\n",
            "#1326 : [25 ms] train: 0.000198\n",
            "#1327 : [23 ms] train: 0.000198\n",
            "#1328 : [23 ms] train: 0.000198\n",
            "#1329 : [23 ms] train: 0.000198\n",
            "#1330 : [27 ms] train: 0.000198\n"
          ],
          "name": "stdout"
        },
        {
          "output_type": "stream",
          "text": [
            "\r                                                                               \r\r                                                                               \r\r                                                                               \r\r                                                                               \r\r                                                                               \r\r                                                                               \r\r                                                                               \r\r                                                                               \r"
          ],
          "name": "stderr"
        },
        {
          "output_type": "stream",
          "text": [
            "#1331 : [29 ms] train: 0.000197\n",
            "#1332 : [23 ms] train: 0.000197\n",
            "#1333 : [24 ms] train: 0.000198\n",
            "#1334 : [27 ms] train: 0.000198\n",
            "#1335 : [24 ms] train: 0.000198\n",
            "#1336 : [23 ms] train: 0.000198\n",
            "#1337 : [26 ms] train: 0.000198\n",
            "#1338 : [32 ms] train: 0.000198\n"
          ],
          "name": "stdout"
        },
        {
          "output_type": "stream",
          "text": [
            "\r                                                                               \r\r                                                                               \r\r                                                                               \r\r                                                                               \r\r                                                                               \r\r                                                                               \r\r                                                                               \r\r                                                                               \r\r                                                                               \r"
          ],
          "name": "stderr"
        },
        {
          "output_type": "stream",
          "text": [
            "#1339 : [27 ms] train: 0.000198\n",
            "#1340 : [23 ms] train: 0.000198\n",
            "#1341 : [23 ms] train: 0.000198\n",
            "#1342 : [24 ms] train: 0.000198\n",
            "#1343 : [26 ms] train: 0.000198\n",
            "#1344 : [24 ms] train: 0.000198\n",
            "#1345 : [25 ms] train: 0.000198\n",
            "#1346 : [24 ms] train: 0.000198\n",
            "#1347 : [28 ms] train: 0.000197\n"
          ],
          "name": "stdout"
        },
        {
          "output_type": "stream",
          "text": [
            "\r                                                                               \r\r                                                                               \r\r                                                                               \r\r                                                                               \r\r                                                                               \r\r                                                                               \r\r                                                                               \r\r                                                                               \r\r                                                                               \r"
          ],
          "name": "stderr"
        },
        {
          "output_type": "stream",
          "text": [
            "#1348 : [27 ms] train: 0.000198\n",
            "#1349 : [24 ms] train: 0.000198\n",
            "#1350 : [24 ms] train: 0.000198\n",
            "#1351 : [26 ms] train: 0.000198\n",
            "#1352 : [24 ms] train: 0.000198\n",
            "#1353 : [24 ms] train: 0.000198\n",
            "#1354 : [23 ms] train: 0.000197\n",
            "#1355 : [23 ms] train: 0.000198\n",
            "#1356 : [26 ms] train: 0.000198\n"
          ],
          "name": "stdout"
        },
        {
          "output_type": "stream",
          "text": [
            "\r                                                                               \r\r                                                                               \r\r                                                                               \r\r                                                                               \r\r                                                                               \r\r                                                                               \r\r                                                                               \r\r                                                                               \r\r                                                                               \r"
          ],
          "name": "stderr"
        },
        {
          "output_type": "stream",
          "text": [
            "#1357 : [27 ms] train: 0.000197\n",
            "#1358 : [23 ms] train: 0.000198\n",
            "#1359 : [23 ms] train: 0.000197\n",
            "#1360 : [23 ms] train: 0.000197\n",
            "#1361 : [23 ms] train: 0.000197\n",
            "#1362 : [23 ms] train: 0.000197\n",
            "#1363 : [24 ms] train: 0.000198\n",
            "#1364 : [23 ms] train: 0.000197\n",
            "#1365 : [27 ms] train: 0.000198\n"
          ],
          "name": "stdout"
        },
        {
          "output_type": "stream",
          "text": [
            "\r                                                                               \r\r                                                                               \r\r                                                                               \r\r                                                                               \r\r                                                                               \r\r                                                                               \r\r                                                                               \r\r                                                                               \r\r                                                                               \r"
          ],
          "name": "stderr"
        },
        {
          "output_type": "stream",
          "text": [
            "#1366 : [29 ms] train: 0.000198\n",
            "#1367 : [25 ms] train: 0.000197\n",
            "#1368 : [25 ms] train: 0.000198\n",
            "#1369 : [24 ms] train: 0.000197\n",
            "#1370 : [23 ms] train: 0.000198\n",
            "#1371 : [25 ms] train: 0.000198\n",
            "#1372 : [24 ms] train: 0.000198\n",
            "#1373 : [24 ms] train: 0.000198\n",
            "#1374 : [28 ms] train: 0.000198\n"
          ],
          "name": "stdout"
        },
        {
          "output_type": "stream",
          "text": [
            "\r                                                                               \r\r                                                                               \r\r                                                                               \r\r                                                                               \r\r                                                                               \r\r                                                                               \r\r                                                                               \r\r                                                                               \r"
          ],
          "name": "stderr"
        },
        {
          "output_type": "stream",
          "text": [
            "#1375 : [27 ms] train: 0.000198\n",
            "#1376 : [26 ms] train: 0.000198\n",
            "#1377 : [32 ms] train: 0.000197\n",
            "#1378 : [33 ms] train: 0.000197\n",
            "#1379 : [25 ms] train: 0.000197\n",
            "#1380 : [23 ms] train: 0.000198\n",
            "#1381 : [25 ms] train: 0.000198\n",
            "#1382 : [27 ms] train: 0.000198\n"
          ],
          "name": "stdout"
        },
        {
          "output_type": "stream",
          "text": [
            "\r                                                                               \r\r                                                                               \r\r                                                                               \r\r                                                                               \r\r                                                                               \r\r                                                                               \r\r                                                                               \r\r                                                                               \r\r                                                                               \r"
          ],
          "name": "stderr"
        },
        {
          "output_type": "stream",
          "text": [
            "#1383 : [27 ms] train: 0.000198\n",
            "#1384 : [23 ms] train: 0.000198\n",
            "#1385 : [25 ms] train: 0.000198\n",
            "#1386 : [23 ms] train: 0.000198\n",
            "#1387 : [25 ms] train: 0.000198\n",
            "#1388 : [24 ms] train: 0.000198\n",
            "#1389 : [23 ms] train: 0.000198\n",
            "#1390 : [24 ms] train: 0.000198\n",
            "#1391 : [27 ms] train: 0.000198\n"
          ],
          "name": "stdout"
        },
        {
          "output_type": "stream",
          "text": [
            "\r                                                                               \r\r                                                                               \r\r                                                                               \r\r                                                                               \r\r                                                                               \r\r                                                                               \r\r                                                                               \r\r                                                                               \r\r                                                                               \r"
          ],
          "name": "stderr"
        },
        {
          "output_type": "stream",
          "text": [
            "#1392 : [27 ms] train: 0.000198\n",
            "#1393 : [23 ms] train: 0.000197\n",
            "#1394 : [23 ms] train: 0.000198\n",
            "#1395 : [24 ms] train: 0.000198\n",
            "#1396 : [28 ms] train: 0.000198\n",
            "#1397 : [23 ms] train: 0.000198\n",
            "#1398 : [24 ms] train: 0.000198\n",
            "#1399 : [23 ms] train: 0.000197\n",
            "#1400 : [28 ms] train: 0.000198\n"
          ],
          "name": "stdout"
        },
        {
          "output_type": "stream",
          "text": [
            "\r                                                                               \r\r                                                                               \r\r                                                                               \r\r                                                                               \r\r                                                                               \r\r                                                                               \r\r                                                                               \r\r                                                                               \r\r                                                                               \r"
          ],
          "name": "stderr"
        },
        {
          "output_type": "stream",
          "text": [
            "#1401 : [28 ms] train: 0.000198\n",
            "#1402 : [23 ms] train: 0.000198\n",
            "#1403 : [23 ms] train: 0.000198\n",
            "#1404 : [25 ms] train: 0.000198\n",
            "#1405 : [25 ms] train: 0.000198\n",
            "#1406 : [26 ms] train: 0.000198\n",
            "#1407 : [25 ms] train: 0.000198\n",
            "#1408 : [23 ms] train: 0.000198\n",
            "#1409 : [26 ms] train: 0.000198\n"
          ],
          "name": "stdout"
        },
        {
          "output_type": "stream",
          "text": [
            "\r                                                                               \r\r                                                                               \r\r                                                                               \r\r                                                                               \r\r                                                                               \r\r                                                                               \r\r                                                                               \r\r                                                                               \r\r                                                                               \r"
          ],
          "name": "stderr"
        },
        {
          "output_type": "stream",
          "text": [
            "#1410 : [27 ms] train: 0.000198\n",
            "#1411 : [24 ms] train: 0.000197\n",
            "#1412 : [24 ms] train: 0.000198\n",
            "#1413 : [24 ms] train: 0.000198\n",
            "#1414 : [23 ms] train: 0.000197\n",
            "#1415 : [23 ms] train: 0.000198\n",
            "#1416 : [23 ms] train: 0.000198\n",
            "#1417 : [27 ms] train: 0.000198\n"
          ],
          "name": "stdout"
        },
        {
          "output_type": "stream",
          "text": [
            "\r                                                                               \r\r                                                                               \r\r                                                                               \r\r                                                                               \r\r                                                                               \r\r                                                                               \r\r                                                                               \r\r                                                                               \r\r                                                                               \r"
          ],
          "name": "stderr"
        },
        {
          "output_type": "stream",
          "text": [
            "#1418 : [38 ms] train: 0.000197\n",
            "#1419 : [24 ms] train: 0.000198\n",
            "#1420 : [23 ms] train: 0.000198\n",
            "#1421 : [23 ms] train: 0.000198\n",
            "#1422 : [23 ms] train: 0.000198\n",
            "#1423 : [23 ms] train: 0.000197\n",
            "#1424 : [23 ms] train: 0.000198\n",
            "#1425 : [25 ms] train: 0.000197\n",
            "#1426 : [23 ms] train: 0.000198\n"
          ],
          "name": "stdout"
        },
        {
          "output_type": "stream",
          "text": [
            "\r                                                                               \r\r                                                                               \r\r                                                                               \r\r                                                                               \r\r                                                                               \r\r                                                                               \r\r                                                                               \r\r                                                                               \r\r                                                                               \r"
          ],
          "name": "stderr"
        },
        {
          "output_type": "stream",
          "text": [
            "#1427 : [34 ms] train: 0.000198\n",
            "#1428 : [27 ms] train: 0.000198\n",
            "#1429 : [24 ms] train: 0.000198\n",
            "#1430 : [23 ms] train: 0.000197\n",
            "#1431 : [25 ms] train: 0.000197\n",
            "#1432 : [23 ms] train: 0.000198\n",
            "#1433 : [23 ms] train: 0.000198\n",
            "#1434 : [23 ms] train: 0.000198\n",
            "#1435 : [23 ms] train: 0.000197\n"
          ],
          "name": "stdout"
        },
        {
          "output_type": "stream",
          "text": [
            "\r                                                                               \r\r                                                                               \r\r                                                                               \r\r                                                                               \r\r                                                                               \r\r                                                                               \r\r                                                                               \r\r                                                                               \r"
          ],
          "name": "stderr"
        },
        {
          "output_type": "stream",
          "text": [
            "#1436 : [29 ms] train: 0.000198\n",
            "#1437 : [31 ms] train: 0.000198\n",
            "#1438 : [28 ms] train: 0.000198\n",
            "#1439 : [26 ms] train: 0.000198\n",
            "#1440 : [24 ms] train: 0.000198\n",
            "#1441 : [23 ms] train: 0.000198\n",
            "#1442 : [23 ms] train: 0.000198\n",
            "#1443 : [23 ms] train: 0.000197\n"
          ],
          "name": "stdout"
        },
        {
          "output_type": "stream",
          "text": [
            "\r                                                                               \r\r                                                                               \r\r                                                                               \r\r                                                                               \r\r                                                                               \r\r                                                                               \r\r                                                                               \r\r                                                                               \r\r                                                                               \r"
          ],
          "name": "stderr"
        },
        {
          "output_type": "stream",
          "text": [
            "#1444 : [26 ms] train: 0.000198\n",
            "#1445 : [27 ms] train: 0.000198\n",
            "#1446 : [23 ms] train: 0.000198\n",
            "#1447 : [25 ms] train: 0.000197\n",
            "#1448 : [24 ms] train: 0.000198\n",
            "#1449 : [24 ms] train: 0.000198\n",
            "#1450 : [25 ms] train: 0.000198\n",
            "#1451 : [23 ms] train: 0.000198\n",
            "#1452 : [23 ms] train: 0.000198\n"
          ],
          "name": "stdout"
        },
        {
          "output_type": "stream",
          "text": [
            "\r                                                                               \r\r                                                                               \r\r                                                                               \r\r                                                                               \r\r                                                                               \r\r                                                                               \r\r                                                                               \r\r                                                                               \r"
          ],
          "name": "stderr"
        },
        {
          "output_type": "stream",
          "text": [
            "#1453 : [30 ms] train: 0.000198\n",
            "#1454 : [24 ms] train: 0.000198\n",
            "#1455 : [23 ms] train: 0.000198\n",
            "#1456 : [24 ms] train: 0.000198\n",
            "#1457 : [23 ms] train: 0.000198\n",
            "#1458 : [33 ms] train: 0.000198\n",
            "#1459 : [26 ms] train: 0.000198\n",
            "#1460 : [24 ms] train: 0.000198\n"
          ],
          "name": "stdout"
        },
        {
          "output_type": "stream",
          "text": [
            "\r                                                                               \r\r                                                                               \r\r                                                                               \r\r                                                                               \r\r                                                                               \r\r                                                                               \r\r                                                                               \r\r                                                                               \r\r                                                                               \r"
          ],
          "name": "stderr"
        },
        {
          "output_type": "stream",
          "text": [
            "#1461 : [25 ms] train: 0.000198\n",
            "#1462 : [26 ms] train: 0.000198\n",
            "#1463 : [23 ms] train: 0.000198\n",
            "#1464 : [24 ms] train: 0.000198\n",
            "#1465 : [24 ms] train: 0.000198\n",
            "#1466 : [23 ms] train: 0.000198\n",
            "#1467 : [24 ms] train: 0.000198\n",
            "#1468 : [24 ms] train: 0.000198\n",
            "#1469 : [25 ms] train: 0.000198\n"
          ],
          "name": "stdout"
        },
        {
          "output_type": "stream",
          "text": [
            "\r                                                                               \r\r                                                                               \r\r                                                                               \r\r                                                                               \r\r                                                                               \r\r                                                                               \r\r                                                                               \r\r                                                                               \r\r                                                                               \r"
          ],
          "name": "stderr"
        },
        {
          "output_type": "stream",
          "text": [
            "#1470 : [31 ms] train: 0.000198\n",
            "#1471 : [25 ms] train: 0.000198\n",
            "#1472 : [28 ms] train: 0.000198\n",
            "#1473 : [24 ms] train: 0.000198\n",
            "#1474 : [24 ms] train: 0.000198\n",
            "#1475 : [24 ms] train: 0.000198\n",
            "#1476 : [23 ms] train: 0.000198\n",
            "#1477 : [23 ms] train: 0.000198\n",
            "#1478 : [23 ms] train: 0.000198\n"
          ],
          "name": "stdout"
        },
        {
          "output_type": "stream",
          "text": [
            "\r                                                                               \r\r                                                                               \r\r                                                                               \r\r                                                                               \r\r                                                                               \r\r                                                                               \r\r                                                                               \r\r                                                                               \r\r                                                                               \r"
          ],
          "name": "stderr"
        },
        {
          "output_type": "stream",
          "text": [
            "#1479 : [31 ms] train: 0.000198\n",
            "#1480 : [24 ms] train: 0.000198\n",
            "#1481 : [25 ms] train: 0.000198\n",
            "#1482 : [26 ms] train: 0.000198\n",
            "#1483 : [24 ms] train: 0.000198\n",
            "#1484 : [25 ms] train: 0.000198\n",
            "#1485 : [23 ms] train: 0.000198\n",
            "#1486 : [23 ms] train: 0.000198\n",
            "#1487 : [24 ms] train: 0.000198\n"
          ],
          "name": "stdout"
        },
        {
          "output_type": "stream",
          "text": [
            "\r                                                                               \r\r                                                                               \r\r                                                                               \r\r                                                                               \r\r                                                                               \r\r                                                                               \r\r                                                                               \r\r                                                                               \r\r                                                                               \r"
          ],
          "name": "stderr"
        },
        {
          "output_type": "stream",
          "text": [
            "#1488 : [30 ms] train: 0.000198\n",
            "#1489 : [23 ms] train: 0.000198\n",
            "#1490 : [25 ms] train: 0.000198\n",
            "#1491 : [28 ms] train: 0.000198\n",
            "#1492 : [24 ms] train: 0.000198\n",
            "#1493 : [24 ms] train: 0.000198\n",
            "#1494 : [23 ms] train: 0.000198\n",
            "#1495 : [24 ms] train: 0.000198\n",
            "#1496 : [23 ms] train: 0.000198\n"
          ],
          "name": "stdout"
        },
        {
          "output_type": "stream",
          "text": [
            "\r                                                                               \r\r                                                                               \r\r                                                                               \r\r                                                                               \r\r                                                                               \r\r                                                                               \r\r                                                                               \r\r                                                                               \r"
          ],
          "name": "stderr"
        },
        {
          "output_type": "stream",
          "text": [
            "#1497 : [31 ms] train: 0.000198\n",
            "#1498 : [32 ms] train: 0.000198\n",
            "#1499 : [24 ms] train: 0.000198\n",
            "#1500 : [23 ms] train: 0.000198\n",
            "#1501 : [29 ms] train: 0.000198\n",
            "#1502 : [27 ms] train: 0.000198\n",
            "#1503 : [28 ms] train: 0.000198\n",
            "#1504 : [23 ms] train: 0.000198\n"
          ],
          "name": "stdout"
        },
        {
          "output_type": "stream",
          "text": [
            "\r                                                                               \r\r                                                                               \r\r                                                                               \r\r                                                                               \r\r                                                                               \r\r                                                                               \r\r                                                                               \r\r                                                                               \r\r                                                                               \r"
          ],
          "name": "stderr"
        },
        {
          "output_type": "stream",
          "text": [
            "#1505 : [30 ms] train: 0.000198\n",
            "#1506 : [24 ms] train: 0.000198\n",
            "#1507 : [23 ms] train: 0.000198\n",
            "#1508 : [23 ms] train: 0.000198\n",
            "#1509 : [23 ms] train: 0.000198\n",
            "#1510 : [25 ms] train: 0.000198\n",
            "#1511 : [23 ms] train: 0.000198\n",
            "#1512 : [26 ms] train: 0.000198\n",
            "#1513 : [24 ms] train: 0.000198\n"
          ],
          "name": "stdout"
        },
        {
          "output_type": "stream",
          "text": [
            "\r                                                                               \r\r                                                                               \r\r                                                                               \r\r                                                                               \r\r                                                                               \r\r                                                                               \r\r                                                                               \r\r                                                                               \r\r                                                                               \r"
          ],
          "name": "stderr"
        },
        {
          "output_type": "stream",
          "text": [
            "#1514 : [31 ms] train: 0.000198\n",
            "#1515 : [24 ms] train: 0.000198\n",
            "#1516 : [24 ms] train: 0.000198\n",
            "#1517 : [24 ms] train: 0.000197\n",
            "#1518 : [24 ms] train: 0.000198\n",
            "#1519 : [25 ms] train: 0.000198\n",
            "#1520 : [23 ms] train: 0.000198\n",
            "#1521 : [25 ms] train: 0.000198\n",
            "#1522 : [26 ms] train: 0.000198\n"
          ],
          "name": "stdout"
        },
        {
          "output_type": "stream",
          "text": [
            "\r                                                                               \r\r                                                                               \r\r                                                                               \r\r                                                                               \r\r                                                                               \r\r                                                                               \r\r                                                                               \r\r                                                                               \r\r                                                                               \r"
          ],
          "name": "stderr"
        },
        {
          "output_type": "stream",
          "text": [
            "#1523 : [31 ms] train: 0.000198\n",
            "#1524 : [23 ms] train: 0.000197\n",
            "#1525 : [24 ms] train: 0.000198\n",
            "#1526 : [23 ms] train: 0.000198\n",
            "#1527 : [23 ms] train: 0.000198\n",
            "#1528 : [23 ms] train: 0.000198\n",
            "#1529 : [24 ms] train: 0.000198\n",
            "#1530 : [23 ms] train: 0.000198\n",
            "#1531 : [25 ms] train: 0.000198\n"
          ],
          "name": "stdout"
        },
        {
          "output_type": "stream",
          "text": [
            "\r                                                                               \r\r                                                                               \r\r                                                                               \r\r                                                                               \r\r                                                                               \r\r                                                                               \r\r                                                                               \r\r                                                                               \r\r                                                                               \r"
          ],
          "name": "stderr"
        },
        {
          "output_type": "stream",
          "text": [
            "#1532 : [34 ms] train: 0.000198\n",
            "#1533 : [24 ms] train: 0.000197\n",
            "#1534 : [24 ms] train: 0.000198\n",
            "#1535 : [24 ms] train: 0.000197\n",
            "#1536 : [24 ms] train: 0.000197\n",
            "#1537 : [23 ms] train: 0.000198\n",
            "#1538 : [31 ms] train: 0.000198\n",
            "#1539 : [24 ms] train: 0.000198\n",
            "#1540 : [23 ms] train: 0.000198\n"
          ],
          "name": "stdout"
        },
        {
          "output_type": "stream",
          "text": [
            "\r                                                                               \r\r                                                                               \r\r                                                                               \r\r                                                                               \r\r                                                                               \r\r                                                                               \r\r                                                                               \r\r                                                                               \r\r                                                                               \r"
          ],
          "name": "stderr"
        },
        {
          "output_type": "stream",
          "text": [
            "#1541 : [36 ms] train: 0.000198\n",
            "#1542 : [26 ms] train: 0.000198\n",
            "#1543 : [24 ms] train: 0.000198\n",
            "#1544 : [23 ms] train: 0.000198\n",
            "#1545 : [23 ms] train: 0.000198\n",
            "#1546 : [23 ms] train: 0.000197\n",
            "#1547 : [23 ms] train: 0.000198\n",
            "#1548 : [23 ms] train: 0.000198\n",
            "#1549 : [24 ms] train: 0.000198\n"
          ],
          "name": "stdout"
        },
        {
          "output_type": "stream",
          "text": [
            "\r                                                                               \r\r                                                                               \r\r                                                                               \r\r                                                                               \r\r                                                                               \r\r                                                                               \r\r                                                                               \r\r                                                                               \r"
          ],
          "name": "stderr"
        },
        {
          "output_type": "stream",
          "text": [
            "#1550 : [30 ms] train: 0.000198\n",
            "#1551 : [29 ms] train: 0.000198\n",
            "#1552 : [23 ms] train: 0.000198\n",
            "#1553 : [27 ms] train: 0.000198\n",
            "#1554 : [28 ms] train: 0.000198\n",
            "#1555 : [23 ms] train: 0.000198\n",
            "#1556 : [23 ms] train: 0.000198\n",
            "#1557 : [23 ms] train: 0.000198\n"
          ],
          "name": "stdout"
        },
        {
          "output_type": "stream",
          "text": [
            "\r                                                                               \r\r                                                                               \r\r                                                                               \r\r                                                                               \r\r                                                                               \r\r                                                                               \r\r                                                                               \r\r                                                                               \r\r                                                                               \r"
          ],
          "name": "stderr"
        },
        {
          "output_type": "stream",
          "text": [
            "#1558 : [25 ms] train: 0.000198\n",
            "#1559 : [29 ms] train: 0.000198\n",
            "#1560 : [25 ms] train: 0.000198\n",
            "#1561 : [23 ms] train: 0.000198\n",
            "#1562 : [23 ms] train: 0.000198\n",
            "#1563 : [23 ms] train: 0.000198\n",
            "#1564 : [27 ms] train: 0.000198\n",
            "#1565 : [24 ms] train: 0.000198\n",
            "#1566 : [23 ms] train: 0.000198\n"
          ],
          "name": "stdout"
        },
        {
          "output_type": "stream",
          "text": [
            "\r                                                                               \r\r                                                                               \r\r                                                                               \r\r                                                                               \r\r                                                                               \r\r                                                                               \r\r                                                                               \r\r                                                                               \r\r                                                                               \r"
          ],
          "name": "stderr"
        },
        {
          "output_type": "stream",
          "text": [
            "#1567 : [31 ms] train: 0.000198\n",
            "#1568 : [25 ms] train: 0.000198\n",
            "#1569 : [23 ms] train: 0.000198\n",
            "#1570 : [24 ms] train: 0.000198\n",
            "#1571 : [23 ms] train: 0.000198\n",
            "#1572 : [23 ms] train: 0.000198\n",
            "#1573 : [24 ms] train: 0.000198\n",
            "#1574 : [23 ms] train: 0.000198\n",
            "#1575 : [26 ms] train: 0.000198\n"
          ],
          "name": "stdout"
        },
        {
          "output_type": "stream",
          "text": [
            "\r                                                                               \r\r                                                                               \r\r                                                                               \r\r                                                                               \r\r                                                                               \r\r                                                                               \r\r                                                                               \r\r                                                                               \r\r                                                                               \r"
          ],
          "name": "stderr"
        },
        {
          "output_type": "stream",
          "text": [
            "#1576 : [32 ms] train: 0.000198\n",
            "#1577 : [24 ms] train: 0.000198\n",
            "#1578 : [31 ms] train: 0.000198\n",
            "#1579 : [23 ms] train: 0.000198\n",
            "#1580 : [23 ms] train: 0.000198\n",
            "#1581 : [23 ms] train: 0.000198\n",
            "#1582 : [23 ms] train: 0.000198\n",
            "#1583 : [24 ms] train: 0.000198\n",
            "#1584 : [23 ms] train: 0.000198\n"
          ],
          "name": "stdout"
        },
        {
          "output_type": "stream",
          "text": [
            "\r                                                                               \r\r                                                                               \r\r                                                                               \r\r                                                                               \r\r                                                                               \r\r                                                                               \r\r                                                                               \r\r                                                                               \r\r                                                                               \r"
          ],
          "name": "stderr"
        },
        {
          "output_type": "stream",
          "text": [
            "#1585 : [35 ms] train: 0.000198\n",
            "#1586 : [23 ms] train: 0.000198\n",
            "#1587 : [23 ms] train: 0.000198\n",
            "#1588 : [24 ms] train: 0.000198\n",
            "#1589 : [23 ms] train: 0.000198\n",
            "#1590 : [23 ms] train: 0.000198\n",
            "#1591 : [23 ms] train: 0.000198\n",
            "#1592 : [23 ms] train: 0.000198\n",
            "#1593 : [23 ms] train: 0.000198\n"
          ],
          "name": "stdout"
        },
        {
          "output_type": "stream",
          "text": [
            "\r                                                                               \r\r                                                                               \r\r                                                                               \r\r                                                                               \r\r                                                                               \r\r                                                                               \r\r                                                                               \r\r                                                                               \r\r                                                                               \r"
          ],
          "name": "stderr"
        },
        {
          "output_type": "stream",
          "text": [
            "#1594 : [29 ms] train: 0.000198\n",
            "#1595 : [25 ms] train: 0.000198\n",
            "#1596 : [27 ms] train: 0.000198\n",
            "#1597 : [24 ms] train: 0.000198\n",
            "#1598 : [24 ms] train: 0.000198\n",
            "#1599 : [23 ms] train: 0.000198\n",
            "#1600 : [23 ms] train: 0.000198\n",
            "#1601 : [24 ms] train: 0.000198\n",
            "#1602 : [24 ms] train: 0.000198\n"
          ],
          "name": "stdout"
        },
        {
          "output_type": "stream",
          "text": [
            "\r                                                                               \r\r                                                                               \r\r                                                                               \r\r                                                                               \r\r                                                                               \r\r                                                                               \r\r                                                                               \r\r                                                                               \r\r                                                                               \r"
          ],
          "name": "stderr"
        },
        {
          "output_type": "stream",
          "text": [
            "#1603 : [31 ms] train: 0.000197\n",
            "#1604 : [23 ms] train: 0.000197\n",
            "#1605 : [29 ms] train: 0.000198\n",
            "#1606 : [24 ms] train: 0.000198\n",
            "#1607 : [24 ms] train: 0.000198\n",
            "#1608 : [27 ms] train: 0.000198\n",
            "#1609 : [25 ms] train: 0.000198\n",
            "#1610 : [24 ms] train: 0.000198\n"
          ],
          "name": "stdout"
        },
        {
          "output_type": "stream",
          "text": [
            "\r                                                                               \r\r                                                                               \r\r                                                                               \r\r                                                                               \r\r                                                                               \r\r                                                                               \r\r                                                                               \r"
          ],
          "name": "stderr"
        },
        {
          "output_type": "stream",
          "text": [
            "#1611 : [24 ms] train: 0.000198\n",
            "#1612 : [27 ms] train: 0.000198\n",
            "#1613 : [24 ms] train: 0.000198\n",
            "#1614 : [24 ms] train: 0.000198\n",
            "#1615 : [22 ms] train: 0.000198\n",
            "#1616 : [29 ms] train: 0.000198\n",
            "#1617 : [24 ms] train: 0.000198\n",
            "#1618 : [33 ms] train: 0.000198\n"
          ],
          "name": "stdout"
        },
        {
          "output_type": "stream",
          "text": [
            "\r                                                                               \r\r                                                                               \r\r                                                                               \r\r                                                                               \r\r                                                                               \r\r                                                                               \r\r                                                                               \r\r                                                                               \r\r                                                                               \r"
          ],
          "name": "stderr"
        },
        {
          "output_type": "stream",
          "text": [
            "#1619 : [32 ms] train: 0.000198\n",
            "#1620 : [23 ms] train: 0.000198\n",
            "#1621 : [22 ms] train: 0.000198\n",
            "#1622 : [23 ms] train: 0.000198\n",
            "#1623 : [23 ms] train: 0.000197\n",
            "#1624 : [23 ms] train: 0.000198\n",
            "#1625 : [23 ms] train: 0.000198\n",
            "#1626 : [23 ms] train: 0.000197\n",
            "#1627 : [23 ms] train: 0.000197\n"
          ],
          "name": "stdout"
        },
        {
          "output_type": "stream",
          "text": [
            "\r                                                                               \r\r                                                                               \r\r                                                                               \r\r                                                                               \r\r                                                                               \r\r                                                                               \r\r                                                                               \r\r                                                                               \r\r                                                                               \r"
          ],
          "name": "stderr"
        },
        {
          "output_type": "stream",
          "text": [
            "#1628 : [29 ms] train: 0.000198\n",
            "#1629 : [23 ms] train: 0.000198\n",
            "#1630 : [23 ms] train: 0.000197\n",
            "#1631 : [24 ms] train: 0.000198\n",
            "#1632 : [26 ms] train: 0.000198\n",
            "#1633 : [24 ms] train: 0.000198\n",
            "#1634 : [23 ms] train: 0.000198\n",
            "#1635 : [23 ms] train: 0.000198\n",
            "#1636 : [23 ms] train: 0.000198\n"
          ],
          "name": "stdout"
        },
        {
          "output_type": "stream",
          "text": [
            "\r                                                                               \r\r                                                                               \r\r                                                                               \r\r                                                                               \r\r                                                                               \r\r                                                                               \r\r                                                                               \r\r                                                                               \r\r                                                                               \r"
          ],
          "name": "stderr"
        },
        {
          "output_type": "stream",
          "text": [
            "#1637 : [30 ms] train: 0.000198\n",
            "#1638 : [23 ms] train: 0.000197\n",
            "#1639 : [23 ms] train: 0.000198\n",
            "#1640 : [24 ms] train: 0.000198\n",
            "#1641 : [23 ms] train: 0.000198\n",
            "#1642 : [25 ms] train: 0.000198\n",
            "#1643 : [25 ms] train: 0.000197\n",
            "#1644 : [23 ms] train: 0.000198\n",
            "#1645 : [25 ms] train: 0.000198\n"
          ],
          "name": "stdout"
        },
        {
          "output_type": "stream",
          "text": [
            "\r                                                                               \r\r                                                                               \r\r                                                                               \r\r                                                                               \r\r                                                                               \r\r                                                                               \r\r                                                                               \r\r                                                                               \r\r                                                                               \r"
          ],
          "name": "stderr"
        },
        {
          "output_type": "stream",
          "text": [
            "#1646 : [31 ms] train: 0.000197\n",
            "#1647 : [24 ms] train: 0.000197\n",
            "#1648 : [25 ms] train: 0.000198\n",
            "#1649 : [26 ms] train: 0.000198\n",
            "#1650 : [23 ms] train: 0.000198\n",
            "#1651 : [24 ms] train: 0.000198\n",
            "#1652 : [24 ms] train: 0.000198\n",
            "#1653 : [24 ms] train: 0.000198\n",
            "#1654 : [24 ms] train: 0.000198\n"
          ],
          "name": "stdout"
        },
        {
          "output_type": "stream",
          "text": [
            "\r                                                                               \r\r                                                                               \r\r                                                                               \r\r                                                                               \r\r                                                                               \r\r                                                                               \r\r                                                                               \r\r                                                                               \r"
          ],
          "name": "stderr"
        },
        {
          "output_type": "stream",
          "text": [
            "#1655 : [30 ms] train: 0.000198\n",
            "#1656 : [24 ms] train: 0.000198\n",
            "#1657 : [27 ms] train: 0.000198\n",
            "#1658 : [29 ms] train: 0.000198\n",
            "#1659 : [29 ms] train: 0.000198\n",
            "#1660 : [24 ms] train: 0.000198\n",
            "#1661 : [23 ms] train: 0.000198\n",
            "#1662 : [24 ms] train: 0.000198\n"
          ],
          "name": "stdout"
        },
        {
          "output_type": "stream",
          "text": [
            "\r                                                                               \r\r                                                                               \r\r                                                                               \r\r                                                                               \r\r                                                                               \r\r                                                                               \r\r                                                                               \r\r                                                                               \r\r                                                                               \r"
          ],
          "name": "stderr"
        },
        {
          "output_type": "stream",
          "text": [
            "#1663 : [29 ms] train: 0.000198\n",
            "#1664 : [25 ms] train: 0.000198\n",
            "#1665 : [24 ms] train: 0.000198\n",
            "#1666 : [25 ms] train: 0.000198\n",
            "#1667 : [23 ms] train: 0.000198\n",
            "#1668 : [24 ms] train: 0.000198\n",
            "#1669 : [24 ms] train: 0.000198\n",
            "#1670 : [23 ms] train: 0.000198\n",
            "#1671 : [24 ms] train: 0.000198\n"
          ],
          "name": "stdout"
        },
        {
          "output_type": "stream",
          "text": [
            "\r                                                                               \r\r                                                                               \r\r                                                                               \r\r                                                                               \r\r                                                                               \r\r                                                                               \r\r                                                                               \r\r                                                                               \r\r                                                                               \r"
          ],
          "name": "stderr"
        },
        {
          "output_type": "stream",
          "text": [
            "#1672 : [30 ms] train: 0.000198\n",
            "#1673 : [27 ms] train: 0.000198\n",
            "#1674 : [26 ms] train: 0.000198\n",
            "#1675 : [23 ms] train: 0.000198\n",
            "#1676 : [24 ms] train: 0.000198\n",
            "#1677 : [23 ms] train: 0.000198\n",
            "#1678 : [23 ms] train: 0.000198\n",
            "#1679 : [24 ms] train: 0.000198\n",
            "#1680 : [23 ms] train: 0.000198\n"
          ],
          "name": "stdout"
        },
        {
          "output_type": "stream",
          "text": [
            "\r                                                                               \r\r                                                                               \r\r                                                                               \r\r                                                                               \r\r                                                                               \r\r                                                                               \r\r                                                                               \r\r                                                                               \r\r                                                                               \r"
          ],
          "name": "stderr"
        },
        {
          "output_type": "stream",
          "text": [
            "#1681 : [29 ms] train: 0.000198\n",
            "#1682 : [24 ms] train: 0.000198\n",
            "#1683 : [23 ms] train: 0.000198\n",
            "#1684 : [24 ms] train: 0.000198\n",
            "#1685 : [23 ms] train: 0.000198\n",
            "#1686 : [24 ms] train: 0.000198\n",
            "#1687 : [25 ms] train: 0.000198\n",
            "#1688 : [26 ms] train: 0.000198\n",
            "#1689 : [27 ms] train: 0.000198\n"
          ],
          "name": "stdout"
        },
        {
          "output_type": "stream",
          "text": [
            "\r                                                                               \r\r                                                                               \r\r                                                                               \r\r                                                                               \r\r                                                                               \r\r                                                                               \r\r                                                                               \r\r                                                                               \r\r                                                                               \r"
          ],
          "name": "stderr"
        },
        {
          "output_type": "stream",
          "text": [
            "#1690 : [29 ms] train: 0.000198\n",
            "#1691 : [24 ms] train: 0.000198\n",
            "#1692 : [23 ms] train: 0.000198\n",
            "#1693 : [25 ms] train: 0.000198\n",
            "#1694 : [23 ms] train: 0.000198\n",
            "#1695 : [24 ms] train: 0.000198\n",
            "#1696 : [24 ms] train: 0.000197\n",
            "#1697 : [24 ms] train: 0.000198\n",
            "#1698 : [23 ms] train: 0.000198\n"
          ],
          "name": "stdout"
        },
        {
          "output_type": "stream",
          "text": [
            "\r                                                                               \r\r                                                                               \r\r                                                                               \r\r                                                                               \r\r                                                                               \r\r                                                                               \r\r                                                                               \r\r                                                                               \r\r                                                                               \r"
          ],
          "name": "stderr"
        },
        {
          "output_type": "stream",
          "text": [
            "#1699 : [36 ms] train: 0.000198\n",
            "#1700 : [23 ms] train: 0.000198\n",
            "#1701 : [24 ms] train: 0.000197\n",
            "#1702 : [25 ms] train: 0.000198\n",
            "#1703 : [29 ms] train: 0.000198\n",
            "#1704 : [27 ms] train: 0.000197\n",
            "#1705 : [25 ms] train: 0.000198\n",
            "#1706 : [23 ms] train: 0.000198\n",
            "#1707 : [23 ms] train: 0.000197\n"
          ],
          "name": "stdout"
        },
        {
          "output_type": "stream",
          "text": [
            "\r                                                                               \r\r                                                                               \r\r                                                                               \r\r                                                                               \r\r                                                                               \r\r                                                                               \r\r                                                                               \r\r                                                                               \r\r                                                                               \r"
          ],
          "name": "stderr"
        },
        {
          "output_type": "stream",
          "text": [
            "#1708 : [29 ms] train: 0.000198\n",
            "#1709 : [23 ms] train: 0.000198\n",
            "#1710 : [23 ms] train: 0.000198\n",
            "#1711 : [23 ms] train: 0.000198\n",
            "#1712 : [23 ms] train: 0.000197\n",
            "#1713 : [23 ms] train: 0.000198\n",
            "#1714 : [23 ms] train: 0.000198\n",
            "#1715 : [22 ms] train: 0.000197\n",
            "#1716 : [23 ms] train: 0.000198\n"
          ],
          "name": "stdout"
        },
        {
          "output_type": "stream",
          "text": [
            "\r                                                                               \r\r                                                                               \r\r                                                                               \r\r                                                                               \r\r                                                                               \r\r                                                                               \r\r                                                                               \r\r                                                                               \r\r                                                                               \r"
          ],
          "name": "stderr"
        },
        {
          "output_type": "stream",
          "text": [
            "#1717 : [30 ms] train: 0.000197\n",
            "#1718 : [23 ms] train: 0.000197\n",
            "#1719 : [23 ms] train: 0.000197\n",
            "#1720 : [23 ms] train: 0.000198\n",
            "#1721 : [23 ms] train: 0.000198\n",
            "#1722 : [23 ms] train: 0.000197\n",
            "#1723 : [23 ms] train: 0.000198\n",
            "#1724 : [23 ms] train: 0.000197\n",
            "#1725 : [24 ms] train: 0.000198\n"
          ],
          "name": "stdout"
        },
        {
          "output_type": "stream",
          "text": [
            "\r                                                                               \r\r                                                                               \r\r                                                                               \r\r                                                                               \r\r                                                                               \r\r                                                                               \r\r                                                                               \r\r                                                                               \r\r                                                                               \r"
          ],
          "name": "stderr"
        },
        {
          "output_type": "stream",
          "text": [
            "#1726 : [31 ms] train: 0.000198\n",
            "#1727 : [25 ms] train: 0.000198\n",
            "#1728 : [26 ms] train: 0.000198\n",
            "#1729 : [23 ms] train: 0.000198\n",
            "#1730 : [23 ms] train: 0.000198\n",
            "#1731 : [23 ms] train: 0.000198\n",
            "#1732 : [23 ms] train: 0.000198\n",
            "#1733 : [25 ms] train: 0.000198\n",
            "#1734 : [26 ms] train: 0.000197\n"
          ],
          "name": "stdout"
        },
        {
          "output_type": "stream",
          "text": [
            "\r                                                                               \r\r                                                                               \r\r                                                                               \r\r                                                                               \r\r                                                                               \r\r                                                                               \r\r                                                                               \r\r                                                                               \r\r                                                                               \r"
          ],
          "name": "stderr"
        },
        {
          "output_type": "stream",
          "text": [
            "#1735 : [32 ms] train: 0.000198\n",
            "#1736 : [23 ms] train: 0.000197\n",
            "#1737 : [23 ms] train: 0.000198\n",
            "#1738 : [23 ms] train: 0.000198\n",
            "#1739 : [23 ms] train: 0.000198\n",
            "#1740 : [31 ms] train: 0.000197\n",
            "#1741 : [23 ms] train: 0.000198\n",
            "#1742 : [23 ms] train: 0.000198\n",
            "#1743 : [23 ms] train: 0.000197\n"
          ],
          "name": "stdout"
        },
        {
          "output_type": "stream",
          "text": [
            "\r                                                                               \r\r                                                                               \r\r                                                                               \r\r                                                                               \r\r                                                                               \r\r                                                                               \r\r                                                                               \r\r                                                                               \r\r                                                                               \r"
          ],
          "name": "stderr"
        },
        {
          "output_type": "stream",
          "text": [
            "#1744 : [28 ms] train: 0.000197\n",
            "#1745 : [23 ms] train: 0.000198\n",
            "#1746 : [23 ms] train: 0.000197\n",
            "#1747 : [23 ms] train: 0.000198\n",
            "#1748 : [25 ms] train: 0.000198\n",
            "#1749 : [26 ms] train: 0.000198\n",
            "#1750 : [24 ms] train: 0.000198\n",
            "#1751 : [23 ms] train: 0.000198\n",
            "#1752 : [26 ms] train: 0.000197\n"
          ],
          "name": "stdout"
        },
        {
          "output_type": "stream",
          "text": [
            "\r                                                                               \r\r                                                                               \r\r                                                                               \r\r                                                                               \r\r                                                                               \r\r                                                                               \r\r                                                                               \r\r                                                                               \r\r                                                                               \r"
          ],
          "name": "stderr"
        },
        {
          "output_type": "stream",
          "text": [
            "#1753 : [29 ms] train: 0.000197\n",
            "#1754 : [26 ms] train: 0.000197\n",
            "#1755 : [23 ms] train: 0.000198\n",
            "#1756 : [23 ms] train: 0.000198\n",
            "#1757 : [23 ms] train: 0.000197\n",
            "#1758 : [23 ms] train: 0.000197\n",
            "#1759 : [23 ms] train: 0.000198\n",
            "#1760 : [23 ms] train: 0.000198\n",
            "#1761 : [25 ms] train: 0.000198\n"
          ],
          "name": "stdout"
        },
        {
          "output_type": "stream",
          "text": [
            "\r                                                                               \r\r                                                                               \r\r                                                                               \r\r                                                                               \r\r                                                                               \r\r                                                                               \r\r                                                                               \r\r                                                                               \r"
          ],
          "name": "stderr"
        },
        {
          "output_type": "stream",
          "text": [
            "#1762 : [35 ms] train: 0.000198\n",
            "#1763 : [27 ms] train: 0.000198\n",
            "#1764 : [27 ms] train: 0.000197\n",
            "#1765 : [23 ms] train: 0.000198\n",
            "#1766 : [23 ms] train: 0.000198\n",
            "#1767 : [25 ms] train: 0.000198\n",
            "#1768 : [25 ms] train: 0.000198\n",
            "#1769 : [27 ms] train: 0.000198\n"
          ],
          "name": "stdout"
        },
        {
          "output_type": "stream",
          "text": [
            "\r                                                                               \r\r                                                                               \r\r                                                                               \r\r                                                                               \r\r                                                                               \r\r                                                                               \r\r                                                                               \r\r                                                                               \r\r                                                                               \r"
          ],
          "name": "stderr"
        },
        {
          "output_type": "stream",
          "text": [
            "#1770 : [29 ms] train: 0.000198\n",
            "#1771 : [27 ms] train: 0.000198\n",
            "#1772 : [24 ms] train: 0.000198\n",
            "#1773 : [23 ms] train: 0.000197\n",
            "#1774 : [23 ms] train: 0.000197\n",
            "#1775 : [23 ms] train: 0.000198\n",
            "#1776 : [23 ms] train: 0.000198\n",
            "#1777 : [25 ms] train: 0.000197\n",
            "#1778 : [26 ms] train: 0.000198\n"
          ],
          "name": "stdout"
        },
        {
          "output_type": "stream",
          "text": [
            "\r                                                                               \r\r                                                                               \r\r                                                                               \r\r                                                                               \r\r                                                                               \r\r                                                                               \r\r                                                                               \r\r                                                                               \r"
          ],
          "name": "stderr"
        },
        {
          "output_type": "stream",
          "text": [
            "#1779 : [30 ms] train: 0.000198\n",
            "#1780 : [31 ms] train: 0.000198\n",
            "#1781 : [24 ms] train: 0.000198\n",
            "#1782 : [25 ms] train: 0.000198\n",
            "#1783 : [24 ms] train: 0.000198\n",
            "#1784 : [24 ms] train: 0.000198\n",
            "#1785 : [25 ms] train: 0.000198\n",
            "#1786 : [24 ms] train: 0.000197\n"
          ],
          "name": "stdout"
        },
        {
          "output_type": "stream",
          "text": [
            "\r                                                                               \r\r                                                                               \r\r                                                                               \r\r                                                                               \r\r                                                                               \r\r                                                                               \r\r                                                                               \r\r                                                                               \r\r                                                                               \r"
          ],
          "name": "stderr"
        },
        {
          "output_type": "stream",
          "text": [
            "#1787 : [28 ms] train: 0.000198\n",
            "#1788 : [30 ms] train: 0.000198\n",
            "#1789 : [23 ms] train: 0.000198\n",
            "#1790 : [24 ms] train: 0.000198\n",
            "#1791 : [24 ms] train: 0.000198\n",
            "#1792 : [23 ms] train: 0.000198\n",
            "#1793 : [23 ms] train: 0.000198\n",
            "#1794 : [23 ms] train: 0.000198\n",
            "#1795 : [24 ms] train: 0.000198\n"
          ],
          "name": "stdout"
        },
        {
          "output_type": "stream",
          "text": [
            "\r                                                                               \r\r                                                                               \r\r                                                                               \r\r                                                                               \r\r                                                                               \r\r                                                                               \r\r                                                                               \r\r                                                                               \r\r                                                                               \r"
          ],
          "name": "stderr"
        },
        {
          "output_type": "stream",
          "text": [
            "#1796 : [31 ms] train: 0.000198\n",
            "#1797 : [24 ms] train: 0.000198\n",
            "#1798 : [23 ms] train: 0.000198\n",
            "#1799 : [24 ms] train: 0.000198\n",
            "#1800 : [25 ms] train: 0.000198\n",
            "#1801 : [23 ms] train: 0.000198\n",
            "#1802 : [23 ms] train: 0.000198\n",
            "#1803 : [25 ms] train: 0.000198\n",
            "#1804 : [29 ms] train: 0.000198\n"
          ],
          "name": "stdout"
        },
        {
          "output_type": "stream",
          "text": [
            "\r                                                                               \r\r                                                                               \r\r                                                                               \r\r                                                                               \r\r                                                                               \r\r                                                                               \r\r                                                                               \r\r                                                                               \r\r                                                                               \r"
          ],
          "name": "stderr"
        },
        {
          "output_type": "stream",
          "text": [
            "#1805 : [33 ms] train: 0.000198\n",
            "#1806 : [25 ms] train: 0.000198\n",
            "#1807 : [24 ms] train: 0.000198\n",
            "#1808 : [23 ms] train: 0.000198\n",
            "#1809 : [23 ms] train: 0.000198\n",
            "#1810 : [23 ms] train: 0.000198\n",
            "#1811 : [23 ms] train: 0.000198\n",
            "#1812 : [23 ms] train: 0.000198\n",
            "#1813 : [24 ms] train: 0.000198\n"
          ],
          "name": "stdout"
        },
        {
          "output_type": "stream",
          "text": [
            "\r                                                                               \r\r                                                                               \r\r                                                                               \r\r                                                                               \r\r                                                                               \r\r                                                                               \r\r                                                                               \r\r                                                                               \r\r                                                                               \r"
          ],
          "name": "stderr"
        },
        {
          "output_type": "stream",
          "text": [
            "#1814 : [31 ms] train: 0.000198\n",
            "#1815 : [24 ms] train: 0.000198\n",
            "#1816 : [23 ms] train: 0.000198\n",
            "#1817 : [23 ms] train: 0.000198\n",
            "#1818 : [23 ms] train: 0.000198\n",
            "#1819 : [23 ms] train: 0.000198\n",
            "#1820 : [27 ms] train: 0.000198\n",
            "#1821 : [29 ms] train: 0.000198\n",
            "#1822 : [23 ms] train: 0.000198\n"
          ],
          "name": "stdout"
        },
        {
          "output_type": "stream",
          "text": [
            "\r                                                                               \r\r                                                                               \r\r                                                                               \r\r                                                                               \r\r                                                                               \r\r                                                                               \r\r                                                                               \r\r                                                                               \r\r                                                                               \r"
          ],
          "name": "stderr"
        },
        {
          "output_type": "stream",
          "text": [
            "#1823 : [30 ms] train: 0.000198\n",
            "#1824 : [24 ms] train: 0.000198\n",
            "#1825 : [23 ms] train: 0.000198\n",
            "#1826 : [24 ms] train: 0.000198\n",
            "#1827 : [23 ms] train: 0.000198\n",
            "#1828 : [23 ms] train: 0.000198\n",
            "#1829 : [28 ms] train: 0.000198\n",
            "#1830 : [23 ms] train: 0.000198\n",
            "#1831 : [23 ms] train: 0.000198\n"
          ],
          "name": "stdout"
        },
        {
          "output_type": "stream",
          "text": [
            "\r                                                                               \r\r                                                                               \r\r                                                                               \r\r                                                                               \r\r                                                                               \r\r                                                                               \r\r                                                                               \r\r                                                                               \r\r                                                                               \r"
          ],
          "name": "stderr"
        },
        {
          "output_type": "stream",
          "text": [
            "#1832 : [30 ms] train: 0.000198\n",
            "#1833 : [23 ms] train: 0.000198\n",
            "#1834 : [23 ms] train: 0.000198\n",
            "#1835 : [23 ms] train: 0.000198\n",
            "#1836 : [23 ms] train: 0.000198\n",
            "#1837 : [24 ms] train: 0.000198\n",
            "#1838 : [23 ms] train: 0.000198\n",
            "#1839 : [23 ms] train: 0.000198\n",
            "#1840 : [24 ms] train: 0.000198\n"
          ],
          "name": "stdout"
        },
        {
          "output_type": "stream",
          "text": [
            "\r                                                                               \r\r                                                                               \r\r                                                                               \r\r                                                                               \r\r                                                                               \r\r                                                                               \r\r                                                                               \r\r                                                                               \r\r                                                                               \r"
          ],
          "name": "stderr"
        },
        {
          "output_type": "stream",
          "text": [
            "#1841 : [30 ms] train: 0.000198\n",
            "#1842 : [24 ms] train: 0.000198\n",
            "#1843 : [23 ms] train: 0.000198\n",
            "#1844 : [24 ms] train: 0.000198\n",
            "#1845 : [25 ms] train: 0.000197\n",
            "#1846 : [24 ms] train: 0.000198\n",
            "#1847 : [27 ms] train: 0.000198\n",
            "#1848 : [24 ms] train: 0.000198\n",
            "#1849 : [24 ms] train: 0.000197\n"
          ],
          "name": "stdout"
        },
        {
          "output_type": "stream",
          "text": [
            "\r                                                                               \r\r                                                                               \r\r                                                                               \r\r                                                                               \r\r                                                                               \r\r                                                                               \r\r                                                                               \r\r                                                                               \r\r                                                                               \r"
          ],
          "name": "stderr"
        },
        {
          "output_type": "stream",
          "text": [
            "#1850 : [31 ms] train: 0.000198\n",
            "#1851 : [23 ms] train: 0.000198\n",
            "#1852 : [23 ms] train: 0.000198\n",
            "#1853 : [24 ms] train: 0.000198\n",
            "#1854 : [23 ms] train: 0.000197\n",
            "#1855 : [23 ms] train: 0.000198\n",
            "#1856 : [23 ms] train: 0.000197\n",
            "#1857 : [23 ms] train: 0.000198\n",
            "#1858 : [25 ms] train: 0.000197\n"
          ],
          "name": "stdout"
        },
        {
          "output_type": "stream",
          "text": [
            "\r                                                                               \r\r                                                                               \r\r                                                                               \r\r                                                                               \r\r                                                                               \r\r                                                                               \r\r                                                                               \r\r                                                                               \r\r                                                                               \r"
          ],
          "name": "stderr"
        },
        {
          "output_type": "stream",
          "text": [
            "#1859 : [32 ms] train: 0.000198\n",
            "#1860 : [23 ms] train: 0.000198\n",
            "#1861 : [32 ms] train: 0.000198\n",
            "#1862 : [23 ms] train: 0.000198\n",
            "#1863 : [24 ms] train: 0.000198\n",
            "#1864 : [23 ms] train: 0.000198\n",
            "#1865 : [23 ms] train: 0.000198\n",
            "#1866 : [23 ms] train: 0.000198\n",
            "#1867 : [23 ms] train: 0.000198\n"
          ],
          "name": "stdout"
        },
        {
          "output_type": "stream",
          "text": [
            "\r                                                                               \r\r                                                                               \r\r                                                                               \r\r                                                                               \r\r                                                                               \r\r                                                                               \r\r                                                                               \r\r                                                                               \r"
          ],
          "name": "stderr"
        },
        {
          "output_type": "stream",
          "text": [
            "#1868 : [30 ms] train: 0.000198\n",
            "#1869 : [23 ms] train: 0.000197\n",
            "#1870 : [23 ms] train: 0.000198\n",
            "#1871 : [23 ms] train: 0.000198\n",
            "#1872 : [23 ms] train: 0.000198\n",
            "#1873 : [30 ms] train: 0.000198\n",
            "#1874 : [28 ms] train: 0.000198\n",
            "#1875 : [27 ms] train: 0.000198\n"
          ],
          "name": "stdout"
        },
        {
          "output_type": "stream",
          "text": [
            "\r                                                                               \r\r                                                                               \r\r                                                                               \r\r                                                                               \r\r                                                                               \r\r                                                                               \r\r                                                                               \r\r                                                                               \r\r                                                                               \r"
          ],
          "name": "stderr"
        },
        {
          "output_type": "stream",
          "text": [
            "#1876 : [26 ms] train: 0.000198\n",
            "#1877 : [27 ms] train: 0.000198\n",
            "#1878 : [24 ms] train: 0.000198\n",
            "#1879 : [23 ms] train: 0.000198\n",
            "#1880 : [23 ms] train: 0.000198\n",
            "#1881 : [23 ms] train: 0.000198\n",
            "#1882 : [23 ms] train: 0.000198\n",
            "#1883 : [23 ms] train: 0.000198\n",
            "#1884 : [24 ms] train: 0.000198\n"
          ],
          "name": "stdout"
        },
        {
          "output_type": "stream",
          "text": [
            "\r                                                                               \r\r                                                                               \r\r                                                                               \r\r                                                                               \r\r                                                                               \r\r                                                                               \r\r                                                                               \r\r                                                                               \r\r                                                                               \r"
          ],
          "name": "stderr"
        },
        {
          "output_type": "stream",
          "text": [
            "#1885 : [31 ms] train: 0.000198\n",
            "#1886 : [26 ms] train: 0.000198\n",
            "#1887 : [25 ms] train: 0.000198\n",
            "#1888 : [24 ms] train: 0.000198\n",
            "#1889 : [23 ms] train: 0.000198\n",
            "#1890 : [24 ms] train: 0.000198\n",
            "#1891 : [24 ms] train: 0.000198\n",
            "#1892 : [24 ms] train: 0.000198\n",
            "#1893 : [23 ms] train: 0.000198\n"
          ],
          "name": "stdout"
        },
        {
          "output_type": "stream",
          "text": [
            "\r                                                                               \r\r                                                                               \r\r                                                                               \r\r                                                                               \r\r                                                                               \r\r                                                                               \r\r                                                                               \r\r                                                                               \r"
          ],
          "name": "stderr"
        },
        {
          "output_type": "stream",
          "text": [
            "#1894 : [30 ms] train: 0.000198\n",
            "#1895 : [23 ms] train: 0.000198\n",
            "#1896 : [25 ms] train: 0.000198\n",
            "#1897 : [27 ms] train: 0.000198\n",
            "#1898 : [24 ms] train: 0.000198\n",
            "#1899 : [23 ms] train: 0.000198\n",
            "#1900 : [23 ms] train: 0.000198\n",
            "#1901 : [30 ms] train: 0.000198\n"
          ],
          "name": "stdout"
        },
        {
          "output_type": "stream",
          "text": [
            "\r                                                                               \r\r                                                                               \r\r                                                                               \r\r                                                                               \r\r                                                                               \r\r                                                                               \r\r                                                                               \r\r                                                                               \r\r                                                                               \r"
          ],
          "name": "stderr"
        },
        {
          "output_type": "stream",
          "text": [
            "#1902 : [26 ms] train: 0.000197\n",
            "#1903 : [28 ms] train: 0.000198\n",
            "#1904 : [23 ms] train: 0.000198\n",
            "#1905 : [24 ms] train: 0.000198\n",
            "#1906 : [23 ms] train: 0.000197\n",
            "#1907 : [24 ms] train: 0.000198\n",
            "#1908 : [24 ms] train: 0.000198\n",
            "#1909 : [24 ms] train: 0.000198\n",
            "#1910 : [23 ms] train: 0.000197\n"
          ],
          "name": "stdout"
        },
        {
          "output_type": "stream",
          "text": [
            "\r                                                                               \r\r                                                                               \r\r                                                                               \r\r                                                                               \r\r                                                                               \r\r                                                                               \r\r                                                                               \r\r                                                                               \r\r                                                                               \r"
          ],
          "name": "stderr"
        },
        {
          "output_type": "stream",
          "text": [
            "#1911 : [28 ms] train: 0.000197\n",
            "#1912 : [24 ms] train: 0.000198\n",
            "#1913 : [23 ms] train: 0.000197\n",
            "#1914 : [23 ms] train: 0.000198\n",
            "#1915 : [23 ms] train: 0.000198\n",
            "#1916 : [23 ms] train: 0.000197\n",
            "#1917 : [23 ms] train: 0.000198\n",
            "#1918 : [23 ms] train: 0.000197\n",
            "#1919 : [26 ms] train: 0.000198\n"
          ],
          "name": "stdout"
        },
        {
          "output_type": "stream",
          "text": [
            "\r                                                                               \r\r                                                                               \r\r                                                                               \r\r                                                                               \r\r                                                                               \r\r                                                                               \r\r                                                                               \r\r                                                                               \r\r                                                                               \r"
          ],
          "name": "stderr"
        },
        {
          "output_type": "stream",
          "text": [
            "#1920 : [32 ms] train: 0.000197\n",
            "#1921 : [24 ms] train: 0.000198\n",
            "#1922 : [23 ms] train: 0.000198\n",
            "#1923 : [23 ms] train: 0.000198\n",
            "#1924 : [24 ms] train: 0.000198\n",
            "#1925 : [23 ms] train: 0.000198\n",
            "#1926 : [24 ms] train: 0.000198\n",
            "#1927 : [24 ms] train: 0.000198\n",
            "#1928 : [23 ms] train: 0.000198\n"
          ],
          "name": "stdout"
        },
        {
          "output_type": "stream",
          "text": [
            "\r                                                                               \r\r                                                                               \r\r                                                                               \r\r                                                                               \r\r                                                                               \r\r                                                                               \r\r                                                                               \r\r                                                                               \r\r                                                                               \r"
          ],
          "name": "stderr"
        },
        {
          "output_type": "stream",
          "text": [
            "#1929 : [35 ms] train: 0.000198\n",
            "#1930 : [24 ms] train: 0.000198\n",
            "#1931 : [25 ms] train: 0.000198\n",
            "#1932 : [23 ms] train: 0.000198\n",
            "#1933 : [23 ms] train: 0.000198\n",
            "#1934 : [23 ms] train: 0.000198\n",
            "#1935 : [24 ms] train: 0.000198\n",
            "#1936 : [23 ms] train: 0.000198\n",
            "#1937 : [24 ms] train: 0.000198\n"
          ],
          "name": "stdout"
        },
        {
          "output_type": "stream",
          "text": [
            "\r                                                                               \r\r                                                                               \r\r                                                                               \r\r                                                                               \r\r                                                                               \r\r                                                                               \r\r                                                                               \r\r                                                                               \r"
          ],
          "name": "stderr"
        },
        {
          "output_type": "stream",
          "text": [
            "#1938 : [30 ms] train: 0.000198\n",
            "#1939 : [26 ms] train: 0.000198\n",
            "#1940 : [30 ms] train: 0.000198\n",
            "#1941 : [28 ms] train: 0.000198\n",
            "#1942 : [31 ms] train: 0.000198\n",
            "#1943 : [23 ms] train: 0.000198\n",
            "#1944 : [23 ms] train: 0.000198\n",
            "#1945 : [23 ms] train: 0.000198\n"
          ],
          "name": "stdout"
        },
        {
          "output_type": "stream",
          "text": [
            "\r                                                                               \r\r                                                                               \r\r                                                                               \r\r                                                                               \r\r                                                                               \r\r                                                                               \r\r                                                                               \r\r                                                                               \r\r                                                                               \r"
          ],
          "name": "stderr"
        },
        {
          "output_type": "stream",
          "text": [
            "#1946 : [29 ms] train: 0.000198\n",
            "#1947 : [24 ms] train: 0.000198\n",
            "#1948 : [24 ms] train: 0.000198\n",
            "#1949 : [25 ms] train: 0.000198\n",
            "#1950 : [25 ms] train: 0.000198\n",
            "#1951 : [24 ms] train: 0.000198\n",
            "#1952 : [25 ms] train: 0.000198\n",
            "#1953 : [24 ms] train: 0.000198\n",
            "#1954 : [24 ms] train: 0.000198\n"
          ],
          "name": "stdout"
        },
        {
          "output_type": "stream",
          "text": [
            "\r                                                                               \r\r                                                                               \r\r                                                                               \r\r                                                                               \r\r                                                                               \r\r                                                                               \r\r                                                                               \r\r                                                                               \r\r                                                                               \r"
          ],
          "name": "stderr"
        },
        {
          "output_type": "stream",
          "text": [
            "#1955 : [31 ms] train: 0.000198\n",
            "#1956 : [24 ms] train: 0.000198\n",
            "#1957 : [25 ms] train: 0.000198\n",
            "#1958 : [23 ms] train: 0.000198\n",
            "#1959 : [24 ms] train: 0.000198\n",
            "#1960 : [24 ms] train: 0.000198\n",
            "#1961 : [23 ms] train: 0.000198\n",
            "#1962 : [23 ms] train: 0.000198\n",
            "#1963 : [23 ms] train: 0.000198\n"
          ],
          "name": "stdout"
        },
        {
          "output_type": "stream",
          "text": [
            "\r                                                                               \r\r                                                                               \r\r                                                                               \r\r                                                                               \r\r                                                                               \r\r                                                                               \r\r                                                                               \r\r                                                                               \r\r                                                                               \r"
          ],
          "name": "stderr"
        },
        {
          "output_type": "stream",
          "text": [
            "#1964 : [33 ms] train: 0.000198\n",
            "#1965 : [24 ms] train: 0.000198\n",
            "#1966 : [27 ms] train: 0.000198\n",
            "#1967 : [25 ms] train: 0.000198\n",
            "#1968 : [24 ms] train: 0.000198\n",
            "#1969 : [24 ms] train: 0.000198\n",
            "#1970 : [24 ms] train: 0.000198\n",
            "#1971 : [24 ms] train: 0.000198\n",
            "#1972 : [24 ms] train: 0.000198\n"
          ],
          "name": "stdout"
        },
        {
          "output_type": "stream",
          "text": [
            "\r                                                                               \r\r                                                                               \r\r                                                                               \r\r                                                                               \r\r                                                                               \r\r                                                                               \r\r                                                                               \r\r                                                                               \r\r                                                                               \r"
          ],
          "name": "stderr"
        },
        {
          "output_type": "stream",
          "text": [
            "#1973 : [30 ms] train: 0.000198\n",
            "#1974 : [24 ms] train: 0.000198\n",
            "#1975 : [24 ms] train: 0.000198\n",
            "#1976 : [24 ms] train: 0.000198\n",
            "#1977 : [23 ms] train: 0.000198\n",
            "#1978 : [23 ms] train: 0.000198\n",
            "#1979 : [23 ms] train: 0.000198\n",
            "#1980 : [25 ms] train: 0.000198\n",
            "#1981 : [24 ms] train: 0.000198\n"
          ],
          "name": "stdout"
        },
        {
          "output_type": "stream",
          "text": [
            "\r                                                                               \r\r                                                                               \r\r                                                                               \r\r                                                                               \r\r                                                                               \r\r                                                                               \r\r                                                                               \r\r                                                                               \r\r                                                                               \r"
          ],
          "name": "stderr"
        },
        {
          "output_type": "stream",
          "text": [
            "#1982 : [39 ms] train: 0.000198\n",
            "#1983 : [23 ms] train: 0.000198\n",
            "#1984 : [24 ms] train: 0.000198\n",
            "#1985 : [24 ms] train: 0.000198\n",
            "#1986 : [25 ms] train: 0.000198\n",
            "#1987 : [24 ms] train: 0.000198\n",
            "#1988 : [24 ms] train: 0.000198\n",
            "#1989 : [24 ms] train: 0.000198\n",
            "#1990 : [24 ms] train: 0.000198\n"
          ],
          "name": "stdout"
        },
        {
          "output_type": "stream",
          "text": [
            "\r                                                                               \r\r                                                                               \r\r                                                                               \r\r                                                                               \r\r                                                                               \r\r                                                                               \r\r                                                                               \r\r                                                                               \r\r                                                                               \r"
          ],
          "name": "stderr"
        },
        {
          "output_type": "stream",
          "text": [
            "#1991 : [30 ms] train: 0.000198\n",
            "#1992 : [24 ms] train: 0.000198\n",
            "#1993 : [24 ms] train: 0.000198\n",
            "#1994 : [24 ms] train: 0.000198\n",
            "#1995 : [25 ms] train: 0.000197\n",
            "#1996 : [26 ms] train: 0.000198\n",
            "#1997 : [24 ms] train: 0.000198\n",
            "#1998 : [24 ms] train: 0.000197\n",
            "#1999 : [24 ms] train: 0.000198\n",
            "#2000 : [31 ms] train: 0.000198\n"
          ],
          "name": "stdout"
        },
        {
          "output_type": "stream",
          "text": [
            "\r                                                                               \r"
          ],
          "name": "stderr"
        }
      ]
    },
    {
      "cell_type": "code",
      "metadata": {
        "colab": {
          "base_uri": "https://localhost:8080/"
        },
        "id": "y9S-FZg4jf87",
        "outputId": "4409dd4b-27e7-41f9-a5a2-2042bd77a1ec"
      },
      "source": [
        "# Modelo 03\r\n",
        "gng_model3 = create_gng(n_features=len(iris_x.columns),\r\n",
        "                           n_start_nodes=2,\r\n",
        "                           epsilon_b=0.05,\r\n",
        "                           epsilon_n=0.0006,\r\n",
        "                           max_age=50,\r\n",
        "                           lambda_=200,\r\n",
        "                           beta=0.05,\r\n",
        "                           alpha=0.5,\r\n",
        "                           max_nodes=400,\r\n",
        "                           verbose=True)\r\n",
        "\r\n",
        "gng_model3.train(iris_x, epochs=500)"
      ],
      "execution_count": 47,
      "outputs": [
        {
          "output_type": "stream",
          "text": [
            "\r                                                                               \r\r                                                                               \r\r                                                                               \r\r                                                                               \r\r                                                                               \r\r                                                                               \r\r                                                                               \r\r                                                                               \r\r                                                                               \r\r                                                                               \r\r                                                                               \r\r                                                                               \r"
          ],
          "name": "stderr"
        },
        {
          "output_type": "stream",
          "text": [
            "\n",
            "Main information\n",
            "\n",
            "[ALGORITHM] GrowingNeuralGas\n",
            "\r\n",
            "[OPTION] after_split_error_decay_rate = 0.5\n",
            "[OPTION] error_decay_rate = 0.05\n",
            "[OPTION] max_edge_age = 50\n",
            "[OPTION] max_nodes = 400\n",
            "[OPTION] min_distance_for_update = 0.01\n",
            "[OPTION] n_inputs = 4\n",
            "[OPTION] n_iter_before_neuron_added = 200\n",
            "[OPTION] n_start_nodes = 2\n",
            "[OPTION] neighbour_step = 0.0006\n",
            "[OPTION] show_epoch = 1\n",
            "[OPTION] shuffle_data = True\n",
            "[OPTION] signals = None\n",
            "[OPTION] step = 0.05\n",
            "[OPTION] verbose = True\n",
            "\r\n",
            "#1 : [12 ms] train: 1.524150\n",
            "#2 : [13 ms] train: 1.057107\n",
            "#3 : [12 ms] train: 0.863526\n",
            "#4 : [17 ms] train: 0.805177\n",
            "#5 : [16 ms] train: 0.789997\n",
            "#6 : [17 ms] train: 0.721904\n",
            "#7 : [14 ms] train: 0.684496\n",
            "#8 : [15 ms] train: 0.660252\n",
            "#9 : [15 ms] train: 0.628215\n",
            "#10 : [17 ms] train: 0.599054\n",
            "#11 : [12 ms] train: 0.589673\n",
            "#12 : [14 ms] train: 0.579384\n",
            "#13 : [20 ms] train: 0.571025\n",
            "#14 : [18 ms] train: 0.563271\n",
            "#15 : [14 ms] train: 0.553624\n"
          ],
          "name": "stdout"
        },
        {
          "output_type": "stream",
          "text": [
            ""
          ],
          "name": "stderr"
        },
        {
          "output_type": "stream",
          "text": [
            "#16 : [13 ms] train: 0.545087\n",
            "#17 : [16 ms] train: 0.539671\n",
            "#18 : [9 ms] train: 0.528242\n",
            "#19 : [9 ms] train: 0.519955\n",
            "#20 : [10 ms] train: 0.506172\n",
            "#21 : [10 ms] train: 0.494137\n",
            "#22 : [11 ms] train: 0.484229\n",
            "#23 : [12 ms] train: 0.477588\n",
            "#24 : [12 ms] train: 0.471828\n",
            "#25 : [11 ms] train: 0.466599\n",
            "#26 : [13 ms] train: 0.463485\n",
            "#27 : [12 ms] train: 0.443704\n",
            "#28 : [12 ms] train: 0.411143\n",
            "#29 : [17 ms] train: 0.404770\n",
            "#30 : [12 ms] train: 0.400590\n"
          ],
          "name": "stdout"
        },
        {
          "output_type": "stream",
          "text": [
            "\r                                                                               \r\r                                                                               \r"
          ],
          "name": "stderr"
        },
        {
          "output_type": "stream",
          "text": [
            "#31 : [17 ms] train: 0.395915\n",
            "#32 : [20 ms] train: 0.391708\n"
          ],
          "name": "stdout"
        },
        {
          "output_type": "stream",
          "text": [
            "\r                                                                               \r\r                                                                               \r\r                                                                               \r\r                                                                               \r\r                                                                               \r\r                                                                               \r\r                                                                               \r\r                                                                               \r\r                                                                               \r\r                                                                               \r\r                                                                               \r\r                                                                               \r\r                                                                               \r"
          ],
          "name": "stderr"
        },
        {
          "output_type": "stream",
          "text": [
            "#33 : [20 ms] train: 0.387760\n",
            "#34 : [13 ms] train: 0.380609\n",
            "#35 : [13 ms] train: 0.372792\n",
            "#36 : [14 ms] train: 0.367243\n",
            "#37 : [17 ms] train: 0.357645\n",
            "#38 : [16 ms] train: 0.354287\n",
            "#39 : [13 ms] train: 0.349131\n",
            "#40 : [14 ms] train: 0.345256\n",
            "#41 : [13 ms] train: 0.341886\n",
            "#42 : [12 ms] train: 0.338955\n",
            "#43 : [13 ms] train: 0.335158\n",
            "#44 : [11 ms] train: 0.331414\n",
            "#45 : [13 ms] train: 0.328135\n"
          ],
          "name": "stdout"
        },
        {
          "output_type": "stream",
          "text": [
            "\r                                                                               \r\r                                                                               \r"
          ],
          "name": "stderr"
        },
        {
          "output_type": "stream",
          "text": [
            "#46 : [16 ms] train: 0.325605\n",
            "#47 : [12 ms] train: 0.323985\n"
          ],
          "name": "stdout"
        },
        {
          "output_type": "stream",
          "text": [
            "\r                                                                               \r\r                                                                               \r\r                                                                               \r\r                                                                               \r\r                                                                               \r\r                                                                               \r\r                                                                               \r\r                                                                               \r\r                                                                               \r\r                                                                               \r\r                                                                               \r\r                                                                               \r\r                                                                               \r\r                                                                               \r"
          ],
          "name": "stderr"
        },
        {
          "output_type": "stream",
          "text": [
            "#48 : [19 ms] train: 0.320590\n",
            "#49 : [14 ms] train: 0.319238\n",
            "#50 : [13 ms] train: 0.315933\n",
            "#51 : [12 ms] train: 0.313119\n",
            "#52 : [13 ms] train: 0.310159\n",
            "#53 : [12 ms] train: 0.307818\n",
            "#54 : [12 ms] train: 0.306520\n",
            "#55 : [11 ms] train: 0.305102\n",
            "#56 : [13 ms] train: 0.303904\n",
            "#57 : [12 ms] train: 0.299883\n",
            "#58 : [12 ms] train: 0.294934\n",
            "#59 : [13 ms] train: 0.290186\n",
            "#60 : [13 ms] train: 0.287701\n",
            "#61 : [13 ms] train: 0.283231\n"
          ],
          "name": "stdout"
        },
        {
          "output_type": "stream",
          "text": [
            "\r                                                                               \r\r                                                                               \r"
          ],
          "name": "stderr"
        },
        {
          "output_type": "stream",
          "text": [
            "#62 : [23 ms] train: 0.281159\n",
            "#63 : [12 ms] train: 0.280124\n"
          ],
          "name": "stdout"
        },
        {
          "output_type": "stream",
          "text": [
            "\r                                                                               \r\r                                                                               \r\r                                                                               \r\r                                                                               \r\r                                                                               \r\r                                                                               \r\r                                                                               \r\r                                                                               \r\r                                                                               \r\r                                                                               \r\r                                                                               \r\r                                                                               \r\r                                                                               \r"
          ],
          "name": "stderr"
        },
        {
          "output_type": "stream",
          "text": [
            "#64 : [20 ms] train: 0.277293\n",
            "#65 : [14 ms] train: 0.274429\n",
            "#66 : [15 ms] train: 0.270832\n",
            "#67 : [13 ms] train: 0.266124\n",
            "#68 : [13 ms] train: 0.262309\n",
            "#69 : [12 ms] train: 0.258586\n",
            "#70 : [13 ms] train: 0.255863\n",
            "#71 : [13 ms] train: 0.254086\n",
            "#72 : [12 ms] train: 0.252139\n",
            "#73 : [13 ms] train: 0.249608\n",
            "#74 : [13 ms] train: 0.248251\n",
            "#75 : [13 ms] train: 0.246670\n",
            "#76 : [13 ms] train: 0.244702\n"
          ],
          "name": "stdout"
        },
        {
          "output_type": "stream",
          "text": [
            "\r                                                                               \r\r                                                                               \r"
          ],
          "name": "stderr"
        },
        {
          "output_type": "stream",
          "text": [
            "#77 : [20 ms] train: 0.242650\n",
            "#78 : [15 ms] train: 0.241053\n"
          ],
          "name": "stdout"
        },
        {
          "output_type": "stream",
          "text": [
            "\r                                                                               \r\r                                                                               \r\r                                                                               \r\r                                                                               \r\r                                                                               \r\r                                                                               \r\r                                                                               \r\r                                                                               \r\r                                                                               \r\r                                                                               \r\r                                                                               \r\r                                                                               \r"
          ],
          "name": "stderr"
        },
        {
          "output_type": "stream",
          "text": [
            "#79 : [22 ms] train: 0.239557\n",
            "#80 : [14 ms] train: 0.237311\n",
            "#81 : [14 ms] train: 0.234699\n",
            "#82 : [14 ms] train: 0.232088\n",
            "#83 : [15 ms] train: 0.229782\n",
            "#84 : [16 ms] train: 0.226883\n",
            "#85 : [14 ms] train: 0.224583\n",
            "#86 : [14 ms] train: 0.222299\n",
            "#87 : [15 ms] train: 0.219615\n",
            "#88 : [14 ms] train: 0.218059\n",
            "#89 : [14 ms] train: 0.215296\n",
            "#90 : [14 ms] train: 0.213216\n"
          ],
          "name": "stdout"
        },
        {
          "output_type": "stream",
          "text": [
            "\r                                                                               \r\r                                                                               \r"
          ],
          "name": "stderr"
        },
        {
          "output_type": "stream",
          "text": [
            "#91 : [22 ms] train: 0.211030\n",
            "#92 : [16 ms] train: 0.209243\n"
          ],
          "name": "stdout"
        },
        {
          "output_type": "stream",
          "text": [
            "\r                                                                               \r\r                                                                               \r\r                                                                               \r\r                                                                               \r\r                                                                               \r\r                                                                               \r\r                                                                               \r\r                                                                               \r\r                                                                               \r\r                                                                               \r\r                                                                               \r"
          ],
          "name": "stderr"
        },
        {
          "output_type": "stream",
          "text": [
            "#93 : [21 ms] train: 0.207575\n",
            "#94 : [16 ms] train: 0.204870\n",
            "#95 : [14 ms] train: 0.203142\n",
            "#96 : [15 ms] train: 0.201257\n",
            "#97 : [14 ms] train: 0.199530\n",
            "#98 : [17 ms] train: 0.197846\n",
            "#99 : [18 ms] train: 0.195862\n",
            "#100 : [15 ms] train: 0.194390\n",
            "#101 : [16 ms] train: 0.193365\n",
            "#102 : [16 ms] train: 0.192109\n",
            "#103 : [15 ms] train: 0.190850\n"
          ],
          "name": "stdout"
        },
        {
          "output_type": "stream",
          "text": [
            "\r                                                                               \r\r                                                                               \r"
          ],
          "name": "stderr"
        },
        {
          "output_type": "stream",
          "text": [
            "#104 : [22 ms] train: 0.189363\n",
            "#105 : [17 ms] train: 0.188379\n"
          ],
          "name": "stdout"
        },
        {
          "output_type": "stream",
          "text": [
            "\r                                                                               \r\r                                                                               \r\r                                                                               \r\r                                                                               \r\r                                                                               \r\r                                                                               \r\r                                                                               \r\r                                                                               \r\r                                                                               \r\r                                                                               \r"
          ],
          "name": "stderr"
        },
        {
          "output_type": "stream",
          "text": [
            "#106 : [26 ms] train: 0.186967\n",
            "#107 : [15 ms] train: 0.185472\n",
            "#108 : [15 ms] train: 0.183966\n",
            "#109 : [15 ms] train: 0.182464\n",
            "#110 : [16 ms] train: 0.181215\n",
            "#111 : [16 ms] train: 0.179833\n",
            "#112 : [16 ms] train: 0.178336\n",
            "#113 : [16 ms] train: 0.176368\n",
            "#114 : [16 ms] train: 0.174546\n",
            "#115 : [16 ms] train: 0.172954\n"
          ],
          "name": "stdout"
        },
        {
          "output_type": "stream",
          "text": [
            "\r                                                                               \r\r                                                                               \r"
          ],
          "name": "stderr"
        },
        {
          "output_type": "stream",
          "text": [
            "#116 : [19 ms] train: 0.170832\n",
            "#117 : [21 ms] train: 0.169303\n"
          ],
          "name": "stdout"
        },
        {
          "output_type": "stream",
          "text": [
            "\r                                                                               \r\r                                                                               \r\r                                                                               \r\r                                                                               \r\r                                                                               \r\r                                                                               \r\r                                                                               \r\r                                                                               \r\r                                                                               \r"
          ],
          "name": "stderr"
        },
        {
          "output_type": "stream",
          "text": [
            "#118 : [20 ms] train: 0.168036\n",
            "#119 : [23 ms] train: 0.166328\n",
            "#120 : [19 ms] train: 0.164462\n",
            "#121 : [19 ms] train: 0.163194\n",
            "#122 : [19 ms] train: 0.162162\n",
            "#123 : [21 ms] train: 0.161010\n",
            "#124 : [18 ms] train: 0.159667\n",
            "#125 : [18 ms] train: 0.158717\n",
            "#126 : [17 ms] train: 0.157554\n"
          ],
          "name": "stdout"
        },
        {
          "output_type": "stream",
          "text": [
            "\r                                                                               \r\r                                                                               \r"
          ],
          "name": "stderr"
        },
        {
          "output_type": "stream",
          "text": [
            "#127 : [26 ms] train: 0.156406\n",
            "#128 : [18 ms] train: 0.155435\n"
          ],
          "name": "stdout"
        },
        {
          "output_type": "stream",
          "text": [
            "\r                                                                               \r\r                                                                               \r\r                                                                               \r\r                                                                               \r\r                                                                               \r\r                                                                               \r\r                                                                               \r\r                                                                               \r\r                                                                               \r"
          ],
          "name": "stderr"
        },
        {
          "output_type": "stream",
          "text": [
            "#129 : [25 ms] train: 0.154296\n",
            "#130 : [18 ms] train: 0.153256\n",
            "#131 : [17 ms] train: 0.152621\n",
            "#132 : [17 ms] train: 0.151559\n",
            "#133 : [17 ms] train: 0.150645\n",
            "#134 : [18 ms] train: 0.149948\n",
            "#135 : [20 ms] train: 0.149005\n",
            "#136 : [20 ms] train: 0.148370\n",
            "#137 : [20 ms] train: 0.147832\n"
          ],
          "name": "stdout"
        },
        {
          "output_type": "stream",
          "text": [
            "\r                                                                               \r\r                                                                               \r"
          ],
          "name": "stderr"
        },
        {
          "output_type": "stream",
          "text": [
            "#138 : [24 ms] train: 0.147121\n",
            "#139 : [18 ms] train: 0.146474\n"
          ],
          "name": "stdout"
        },
        {
          "output_type": "stream",
          "text": [
            "\r                                                                               \r\r                                                                               \r\r                                                                               \r\r                                                                               \r\r                                                                               \r\r                                                                               \r\r                                                                               \r\r                                                                               \r\r                                                                               \r"
          ],
          "name": "stderr"
        },
        {
          "output_type": "stream",
          "text": [
            "#140 : [24 ms] train: 0.146061\n",
            "#141 : [17 ms] train: 0.145340\n",
            "#142 : [18 ms] train: 0.144680\n",
            "#143 : [18 ms] train: 0.144159\n",
            "#144 : [18 ms] train: 0.143452\n",
            "#145 : [18 ms] train: 0.142834\n",
            "#146 : [18 ms] train: 0.141900\n",
            "#147 : [19 ms] train: 0.141239\n",
            "#148 : [18 ms] train: 0.140374\n"
          ],
          "name": "stdout"
        },
        {
          "output_type": "stream",
          "text": [
            "\r                                                                               \r\r                                                                               \r"
          ],
          "name": "stderr"
        },
        {
          "output_type": "stream",
          "text": [
            "#149 : [25 ms] train: 0.139617\n",
            "#150 : [21 ms] train: 0.138577\n"
          ],
          "name": "stdout"
        },
        {
          "output_type": "stream",
          "text": [
            "\r                                                                               \r\r                                                                               \r\r                                                                               \r\r                                                                               \r\r                                                                               \r\r                                                                               \r\r                                                                               \r\r                                                                               \r"
          ],
          "name": "stderr"
        },
        {
          "output_type": "stream",
          "text": [
            "#151 : [26 ms] train: 0.137765\n",
            "#152 : [19 ms] train: 0.136967\n",
            "#153 : [18 ms] train: 0.134848\n",
            "#154 : [18 ms] train: 0.134066\n",
            "#155 : [18 ms] train: 0.133125\n",
            "#156 : [19 ms] train: 0.132303\n",
            "#157 : [19 ms] train: 0.130488\n",
            "#158 : [24 ms] train: 0.129255\n"
          ],
          "name": "stdout"
        },
        {
          "output_type": "stream",
          "text": [
            "\r                                                                               \r\r                                                                               \r"
          ],
          "name": "stderr"
        },
        {
          "output_type": "stream",
          "text": [
            "#159 : [27 ms] train: 0.128141\n",
            "#160 : [19 ms] train: 0.127290\n"
          ],
          "name": "stdout"
        },
        {
          "output_type": "stream",
          "text": [
            "\r                                                                               \r\r                                                                               \r\r                                                                               \r\r                                                                               \r\r                                                                               \r\r                                                                               \r\r                                                                               \r\r                                                                               \r"
          ],
          "name": "stderr"
        },
        {
          "output_type": "stream",
          "text": [
            "#161 : [21 ms] train: 0.126514\n",
            "#162 : [25 ms] train: 0.125512\n",
            "#163 : [19 ms] train: 0.124736\n",
            "#164 : [22 ms] train: 0.123318\n",
            "#165 : [20 ms] train: 0.122499\n",
            "#166 : [19 ms] train: 0.121606\n",
            "#167 : [19 ms] train: 0.120795\n",
            "#168 : [19 ms] train: 0.119793\n"
          ],
          "name": "stdout"
        },
        {
          "output_type": "stream",
          "text": [
            "\r                                                                               \r\r                                                                               \r"
          ],
          "name": "stderr"
        },
        {
          "output_type": "stream",
          "text": [
            "#169 : [25 ms] train: 0.118384\n",
            "#170 : [21 ms] train: 0.116863\n"
          ],
          "name": "stdout"
        },
        {
          "output_type": "stream",
          "text": [
            "\r                                                                               \r\r                                                                               \r\r                                                                               \r\r                                                                               \r\r                                                                               \r\r                                                                               \r\r                                                                               \r\r                                                                               \r"
          ],
          "name": "stderr"
        },
        {
          "output_type": "stream",
          "text": [
            "#171 : [23 ms] train: 0.115592\n",
            "#172 : [23 ms] train: 0.114226\n",
            "#173 : [20 ms] train: 0.113245\n",
            "#174 : [20 ms] train: 0.112225\n",
            "#175 : [24 ms] train: 0.111207\n",
            "#176 : [20 ms] train: 0.110324\n",
            "#177 : [21 ms] train: 0.109493\n",
            "#178 : [20 ms] train: 0.108687\n"
          ],
          "name": "stdout"
        },
        {
          "output_type": "stream",
          "text": [
            "\r                                                                               \r\r                                                                               \r"
          ],
          "name": "stderr"
        },
        {
          "output_type": "stream",
          "text": [
            "#179 : [29 ms] train: 0.107961\n",
            "#180 : [21 ms] train: 0.107294\n"
          ],
          "name": "stdout"
        },
        {
          "output_type": "stream",
          "text": [
            "\r                                                                               \r\r                                                                               \r\r                                                                               \r\r                                                                               \r\r                                                                               \r\r                                                                               \r\r                                                                               \r"
          ],
          "name": "stderr"
        },
        {
          "output_type": "stream",
          "text": [
            "#181 : [28 ms] train: 0.106470\n",
            "#182 : [20 ms] train: 0.105910\n",
            "#183 : [22 ms] train: 0.105364\n",
            "#184 : [23 ms] train: 0.104531\n",
            "#185 : [22 ms] train: 0.103403\n",
            "#186 : [22 ms] train: 0.102550\n",
            "#187 : [21 ms] train: 0.101529\n"
          ],
          "name": "stdout"
        },
        {
          "output_type": "stream",
          "text": [
            "\r                                                                               \r\r                                                                               \r"
          ],
          "name": "stderr"
        },
        {
          "output_type": "stream",
          "text": [
            "#188 : [27 ms] train: 0.100736\n",
            "#189 : [27 ms] train: 0.100016\n"
          ],
          "name": "stdout"
        },
        {
          "output_type": "stream",
          "text": [
            "\r                                                                               \r\r                                                                               \r\r                                                                               \r\r                                                                               \r\r                                                                               \r\r                                                                               \r"
          ],
          "name": "stderr"
        },
        {
          "output_type": "stream",
          "text": [
            "#190 : [33 ms] train: 0.099411\n",
            "#191 : [27 ms] train: 0.098676\n",
            "#192 : [27 ms] train: 0.098090\n",
            "#193 : [23 ms] train: 0.097334\n",
            "#194 : [23 ms] train: 0.096709\n",
            "#195 : [22 ms] train: 0.096176\n"
          ],
          "name": "stdout"
        },
        {
          "output_type": "stream",
          "text": [
            "\r                                                                               \r\r                                                                               \r"
          ],
          "name": "stderr"
        },
        {
          "output_type": "stream",
          "text": [
            "#196 : [25 ms] train: 0.095738\n",
            "#197 : [30 ms] train: 0.095200\n"
          ],
          "name": "stdout"
        },
        {
          "output_type": "stream",
          "text": [
            "\r                                                                               \r\r                                                                               \r\r                                                                               \r\r                                                                               \r\r                                                                               \r\r                                                                               \r"
          ],
          "name": "stderr"
        },
        {
          "output_type": "stream",
          "text": [
            "#198 : [24 ms] train: 0.094689\n",
            "#199 : [29 ms] train: 0.094317\n",
            "#200 : [22 ms] train: 0.093864\n",
            "#201 : [28 ms] train: 0.093255\n",
            "#202 : [31 ms] train: 0.092642\n",
            "#203 : [26 ms] train: 0.092000\n"
          ],
          "name": "stdout"
        },
        {
          "output_type": "stream",
          "text": [
            "\r                                                                               \r\r                                                                               \r"
          ],
          "name": "stderr"
        },
        {
          "output_type": "stream",
          "text": [
            "#204 : [32 ms] train: 0.090897\n",
            "#205 : [22 ms] train: 0.089855\n"
          ],
          "name": "stdout"
        },
        {
          "output_type": "stream",
          "text": [
            "\r                                                                               \r\r                                                                               \r\r                                                                               \r\r                                                                               \r\r                                                                               \r\r                                                                               \r\r                                                                               \r"
          ],
          "name": "stderr"
        },
        {
          "output_type": "stream",
          "text": [
            "#206 : [28 ms] train: 0.089079\n",
            "#207 : [22 ms] train: 0.088346\n",
            "#208 : [22 ms] train: 0.087522\n",
            "#209 : [22 ms] train: 0.086942\n",
            "#210 : [22 ms] train: 0.086116\n",
            "#211 : [22 ms] train: 0.085442\n",
            "#212 : [25 ms] train: 0.084835\n"
          ],
          "name": "stdout"
        },
        {
          "output_type": "stream",
          "text": [
            "\r                                                                               \r\r                                                                               \r"
          ],
          "name": "stderr"
        },
        {
          "output_type": "stream",
          "text": [
            "#213 : [31 ms] train: 0.084167\n",
            "#214 : [23 ms] train: 0.083192\n"
          ],
          "name": "stdout"
        },
        {
          "output_type": "stream",
          "text": [
            "\r                                                                               \r\r                                                                               \r\r                                                                               \r\r                                                                               \r\r                                                                               \r\r                                                                               \r"
          ],
          "name": "stderr"
        },
        {
          "output_type": "stream",
          "text": [
            "#215 : [32 ms] train: 0.082218\n",
            "#216 : [24 ms] train: 0.081196\n",
            "#217 : [24 ms] train: 0.080353\n",
            "#218 : [24 ms] train: 0.079396\n",
            "#219 : [24 ms] train: 0.078290\n",
            "#220 : [24 ms] train: 0.077414\n"
          ],
          "name": "stdout"
        },
        {
          "output_type": "stream",
          "text": [
            "\r                                                                               \r\r                                                                               \r\r                                                                               \r"
          ],
          "name": "stderr"
        },
        {
          "output_type": "stream",
          "text": [
            "#221 : [25 ms] train: 0.076494\n",
            "#222 : [30 ms] train: 0.075764\n",
            "#223 : [24 ms] train: 0.074926\n"
          ],
          "name": "stdout"
        },
        {
          "output_type": "stream",
          "text": [
            "\r                                                                               \r\r                                                                               \r\r                                                                               \r\r                                                                               \r\r                                                                               \r"
          ],
          "name": "stderr"
        },
        {
          "output_type": "stream",
          "text": [
            "#224 : [33 ms] train: 0.074181\n",
            "#225 : [26 ms] train: 0.073457\n",
            "#226 : [24 ms] train: 0.072670\n",
            "#227 : [23 ms] train: 0.072026\n",
            "#228 : [24 ms] train: 0.071395\n"
          ],
          "name": "stdout"
        },
        {
          "output_type": "stream",
          "text": [
            "\r                                                                               \r\r                                                                               \r\r                                                                               \r\r                                                                               \r"
          ],
          "name": "stderr"
        },
        {
          "output_type": "stream",
          "text": [
            "#229 : [27 ms] train: 0.070888\n",
            "#230 : [25 ms] train: 0.070355\n",
            "#231 : [23 ms] train: 0.069835\n",
            "#232 : [25 ms] train: 0.069266\n"
          ],
          "name": "stdout"
        },
        {
          "output_type": "stream",
          "text": [
            "\r                                                                               \r\r                                                                               \r\r                                                                               \r\r                                                                               \r"
          ],
          "name": "stderr"
        },
        {
          "output_type": "stream",
          "text": [
            "#233 : [31 ms] train: 0.068695\n",
            "#234 : [24 ms] train: 0.067907\n",
            "#235 : [25 ms] train: 0.067276\n",
            "#236 : [27 ms] train: 0.066764\n"
          ],
          "name": "stdout"
        },
        {
          "output_type": "stream",
          "text": [
            "\r                                                                               \r\r                                                                               \r\r                                                                               \r\r                                                                               \r"
          ],
          "name": "stderr"
        },
        {
          "output_type": "stream",
          "text": [
            "#237 : [32 ms] train: 0.066222\n",
            "#238 : [25 ms] train: 0.065691\n",
            "#239 : [32 ms] train: 0.065173\n",
            "#240 : [31 ms] train: 0.064639\n"
          ],
          "name": "stdout"
        },
        {
          "output_type": "stream",
          "text": [
            "\r                                                                               \r\r                                                                               \r\r                                                                               \r\r                                                                               \r"
          ],
          "name": "stderr"
        },
        {
          "output_type": "stream",
          "text": [
            "#241 : [30 ms] train: 0.064140\n",
            "#242 : [24 ms] train: 0.063625\n",
            "#243 : [24 ms] train: 0.063195\n",
            "#244 : [24 ms] train: 0.062703\n"
          ],
          "name": "stdout"
        },
        {
          "output_type": "stream",
          "text": [
            "\r                                                                               \r\r                                                                               \r\r                                                                               \r\r                                                                               \r"
          ],
          "name": "stderr"
        },
        {
          "output_type": "stream",
          "text": [
            "#245 : [30 ms] train: 0.062261\n",
            "#246 : [24 ms] train: 0.061878\n",
            "#247 : [24 ms] train: 0.061457\n",
            "#248 : [26 ms] train: 0.060614\n"
          ],
          "name": "stdout"
        },
        {
          "output_type": "stream",
          "text": [
            "\r                                                                               \r\r                                                                               \r\r                                                                               \r\r                                                                               \r"
          ],
          "name": "stderr"
        },
        {
          "output_type": "stream",
          "text": [
            "#249 : [42 ms] train: 0.060252\n",
            "#250 : [31 ms] train: 0.059871\n",
            "#251 : [26 ms] train: 0.059493\n",
            "#252 : [25 ms] train: 0.059130"
          ],
          "name": "stdout"
        },
        {
          "output_type": "stream",
          "text": [
            "\r                                                                               \r\r                                                                               \r\r                                                                               \r\r                                                                               \r"
          ],
          "name": "stderr"
        },
        {
          "output_type": "stream",
          "text": [
            "\n",
            "#253 : [31 ms] train: 0.058704\n",
            "#254 : [25 ms] train: 0.058201\n",
            "#255 : [25 ms] train: 0.057807\n",
            "#256 : [24 ms] train: 0.057295\n",
            "#257 : [31 ms] train: 0.056909\n",
            "#258 : [26 ms] train: 0.056466\n",
            "#259 : [28 ms] train: 0.056144\n"
          ],
          "name": "stdout"
        },
        {
          "output_type": "stream",
          "text": [
            ""
          ],
          "name": "stderr"
        },
        {
          "output_type": "stream",
          "text": [
            "#260 : [31 ms] train: 0.055702\n",
            "#261 : [29 ms] train: 0.055341\n",
            "#262 : [26 ms] train: 0.055035\n",
            "#263 : [25 ms] train: 0.054702\n",
            "#264 : [25 ms] train: 0.054451\n",
            "#265 : [31 ms] train: 0.054178\n",
            "#266 : [26 ms] train: 0.053905\n",
            "#267 : [25 ms] train: 0.053648\n"
          ],
          "name": "stdout"
        },
        {
          "output_type": "stream",
          "text": [
            ""
          ],
          "name": "stderr"
        },
        {
          "output_type": "stream",
          "text": [
            "#268 : [30 ms] train: 0.053415\n",
            "#269 : [30 ms] train: 0.053197\n",
            "#270 : [25 ms] train: 0.052882\n",
            "#271 : [25 ms] train: 0.052597\n",
            "#272 : [25 ms] train: 0.052295\n",
            "#273 : [31 ms] train: 0.052090\n",
            "#274 : [27 ms] train: 0.051693\n",
            "#275 : [26 ms] train: 0.051315\n"
          ],
          "name": "stdout"
        },
        {
          "output_type": "stream",
          "text": [
            ""
          ],
          "name": "stderr"
        },
        {
          "output_type": "stream",
          "text": [
            "#276 : [33 ms] train: 0.050571\n",
            "#277 : [32 ms] train: 0.049929\n",
            "#278 : [28 ms] train: 0.049361\n",
            "#279 : [27 ms] train: 0.048749\n",
            "#280 : [27 ms] train: 0.048074\n",
            "#281 : [32 ms] train: 0.047640\n",
            "#282 : [26 ms] train: 0.047051\n",
            "#283 : [25 ms] train: 0.046551\n"
          ],
          "name": "stdout"
        },
        {
          "output_type": "stream",
          "text": [
            ""
          ],
          "name": "stderr"
        },
        {
          "output_type": "stream",
          "text": [
            "#284 : [30 ms] train: 0.046036\n",
            "#285 : [33 ms] train: 0.045415\n",
            "#286 : [25 ms] train: 0.044958\n",
            "#287 : [28 ms] train: 0.044252\n",
            "#288 : [26 ms] train: 0.043826\n",
            "#289 : [31 ms] train: 0.042333\n",
            "#290 : [32 ms] train: 0.041731\n"
          ],
          "name": "stdout"
        },
        {
          "output_type": "stream",
          "text": [
            ""
          ],
          "name": "stderr"
        },
        {
          "output_type": "stream",
          "text": [
            "#291 : [33 ms] train: 0.041104\n",
            "#292 : [29 ms] train: 0.040579\n",
            "#293 : [26 ms] train: 0.039995\n",
            "#294 : [27 ms] train: 0.039553\n",
            "#295 : [25 ms] train: 0.039058\n",
            "#296 : [25 ms] train: 0.038585\n",
            "#297 : [31 ms] train: 0.038016\n",
            "#298 : [28 ms] train: 0.037564\n"
          ],
          "name": "stdout"
        },
        {
          "output_type": "stream",
          "text": [
            ""
          ],
          "name": "stderr"
        },
        {
          "output_type": "stream",
          "text": [
            "#299 : [31 ms] train: 0.036986\n",
            "#300 : [31 ms] train: 0.036537\n",
            "#301 : [26 ms] train: 0.036056\n",
            "#302 : [25 ms] train: 0.035440\n",
            "#303 : [26 ms] train: 0.034850\n",
            "#304 : [25 ms] train: 0.034172\n",
            "#305 : [32 ms] train: 0.033573\n",
            "#306 : [27 ms] train: 0.032925\n"
          ],
          "name": "stdout"
        },
        {
          "output_type": "stream",
          "text": [
            ""
          ],
          "name": "stderr"
        },
        {
          "output_type": "stream",
          "text": [
            "#307 : [29 ms] train: 0.032282\n",
            "#308 : [29 ms] train: 0.031669\n",
            "#309 : [26 ms] train: 0.031060\n",
            "#310 : [27 ms] train: 0.030484\n",
            "#311 : [31 ms] train: 0.030022\n",
            "#312 : [43 ms] train: 0.029526\n",
            "#313 : [27 ms] train: 0.028994\n"
          ],
          "name": "stdout"
        },
        {
          "output_type": "stream",
          "text": [
            ""
          ],
          "name": "stderr"
        },
        {
          "output_type": "stream",
          "text": [
            "#314 : [29 ms] train: 0.028600\n",
            "#315 : [29 ms] train: 0.028160\n",
            "#316 : [26 ms] train: 0.027732\n",
            "#317 : [26 ms] train: 0.027374\n",
            "#318 : [27 ms] train: 0.027035\n",
            "#319 : [28 ms] train: 0.026670\n",
            "#320 : [31 ms] train: 0.026358\n",
            "#321 : [27 ms] train: 0.026028\n"
          ],
          "name": "stdout"
        },
        {
          "output_type": "stream",
          "text": [
            ""
          ],
          "name": "stderr"
        },
        {
          "output_type": "stream",
          "text": [
            "#322 : [29 ms] train: 0.025767\n",
            "#323 : [29 ms] train: 0.025514\n",
            "#324 : [26 ms] train: 0.025207\n",
            "#325 : [26 ms] train: 0.024850\n",
            "#326 : [26 ms] train: 0.024671\n",
            "#327 : [27 ms] train: 0.024478\n",
            "#328 : [32 ms] train: 0.024099\n",
            "#329 : [30 ms] train: 0.023960\n"
          ],
          "name": "stdout"
        },
        {
          "output_type": "stream",
          "text": [
            ""
          ],
          "name": "stderr"
        },
        {
          "output_type": "stream",
          "text": [
            "#330 : [36 ms] train: 0.023628\n",
            "#331 : [30 ms] train: 0.023463\n",
            "#332 : [28 ms] train: 0.023228\n",
            "#333 : [27 ms] train: 0.023012\n",
            "#334 : [27 ms] train: 0.022894\n"
          ],
          "name": "stdout"
        },
        {
          "output_type": "stream",
          "text": [
            "\r                                                                               \r\r                                                                               \r"
          ],
          "name": "stderr"
        },
        {
          "output_type": "stream",
          "text": [
            "#335 : [34 ms] train: 0.022662\n",
            "#336 : [27 ms] train: 0.022558\n"
          ],
          "name": "stdout"
        },
        {
          "output_type": "stream",
          "text": [
            "\r                                                                               \r\r                                                                               \r\r                                                                               \r\r                                                                               \r\r                                                                               \r\r                                                                               \r"
          ],
          "name": "stderr"
        },
        {
          "output_type": "stream",
          "text": [
            "#337 : [34 ms] train: 0.022339\n",
            "#338 : [26 ms] train: 0.022098\n",
            "#339 : [26 ms] train: 0.022029\n",
            "#340 : [26 ms] train: 0.021906\n",
            "#341 : [28 ms] train: 0.021726\n",
            "#342 : [28 ms] train: 0.021504\n"
          ],
          "name": "stdout"
        },
        {
          "output_type": "stream",
          "text": [
            "\r                                                                               \r\r                                                                               \r"
          ],
          "name": "stderr"
        },
        {
          "output_type": "stream",
          "text": [
            "#343 : [30 ms] train: 0.021088\n",
            "#344 : [27 ms] train: 0.020843\n"
          ],
          "name": "stdout"
        },
        {
          "output_type": "stream",
          "text": [
            "\r                                                                               \r\r                                                                               \r\r                                                                               \r\r                                                                               \r\r                                                                               \r\r                                                                               \r"
          ],
          "name": "stderr"
        },
        {
          "output_type": "stream",
          "text": [
            "#345 : [31 ms] train: 0.020471\n",
            "#346 : [26 ms] train: 0.020221\n",
            "#347 : [33 ms] train: 0.019898\n",
            "#348 : [25 ms] train: 0.019596\n",
            "#349 : [25 ms] train: 0.019327\n",
            "#350 : [25 ms] train: 0.019191\n"
          ],
          "name": "stdout"
        },
        {
          "output_type": "stream",
          "text": [
            "\r                                                                               \r\r                                                                               \r"
          ],
          "name": "stderr"
        },
        {
          "output_type": "stream",
          "text": [
            "#351 : [32 ms] train: 0.018925\n",
            "#352 : [30 ms] train: 0.018678\n"
          ],
          "name": "stdout"
        },
        {
          "output_type": "stream",
          "text": [
            "\r                                                                               \r\r                                                                               \r\r                                                                               \r\r                                                                               \r\r                                                                               \r\r                                                                               \r"
          ],
          "name": "stderr"
        },
        {
          "output_type": "stream",
          "text": [
            "#353 : [31 ms] train: 0.018462\n",
            "#354 : [25 ms] train: 0.018118\n",
            "#355 : [25 ms] train: 0.017868\n",
            "#356 : [25 ms] train: 0.017633\n",
            "#357 : [25 ms] train: 0.017484\n",
            "#358 : [26 ms] train: 0.017274\n"
          ],
          "name": "stdout"
        },
        {
          "output_type": "stream",
          "text": [
            "\r                                                                               \r\r                                                                               \r"
          ],
          "name": "stderr"
        },
        {
          "output_type": "stream",
          "text": [
            "#359 : [31 ms] train: 0.017056\n",
            "#360 : [29 ms] train: 0.016908\n"
          ],
          "name": "stdout"
        },
        {
          "output_type": "stream",
          "text": [
            "\r                                                                               \r\r                                                                               \r\r                                                                               \r\r                                                                               \r\r                                                                               \r\r                                                                               \r"
          ],
          "name": "stderr"
        },
        {
          "output_type": "stream",
          "text": [
            "#361 : [33 ms] train: 0.016699\n",
            "#362 : [26 ms] train: 0.016445\n",
            "#363 : [25 ms] train: 0.016445\n",
            "#364 : [26 ms] train: 0.016207\n",
            "#365 : [25 ms] train: 0.015937\n",
            "#366 : [25 ms] train: 0.015812\n"
          ],
          "name": "stdout"
        },
        {
          "output_type": "stream",
          "text": [
            "\r                                                                               \r\r                                                                               \r"
          ],
          "name": "stderr"
        },
        {
          "output_type": "stream",
          "text": [
            "#367 : [31 ms] train: 0.015549\n",
            "#368 : [26 ms] train: 0.015420\n"
          ],
          "name": "stdout"
        },
        {
          "output_type": "stream",
          "text": [
            "\r                                                                               \r\r                                                                               \r\r                                                                               \r\r                                                                               \r\r                                                                               \r"
          ],
          "name": "stderr"
        },
        {
          "output_type": "stream",
          "text": [
            "#369 : [31 ms] train: 0.015221\n",
            "#370 : [32 ms] train: 0.014900\n",
            "#371 : [29 ms] train: 0.014478\n",
            "#372 : [29 ms] train: 0.014123\n",
            "#373 : [27 ms] train: 0.013732\n"
          ],
          "name": "stdout"
        },
        {
          "output_type": "stream",
          "text": [
            "\r                                                                               \r\r                                                                               \r\r                                                                               \r"
          ],
          "name": "stderr"
        },
        {
          "output_type": "stream",
          "text": [
            "#374 : [26 ms] train: 0.013384\n",
            "#375 : [29 ms] train: 0.013132\n",
            "#376 : [25 ms] train: 0.012764"
          ],
          "name": "stdout"
        },
        {
          "output_type": "stream",
          "text": [
            "\r                                                                               \r\r                                                                               \r\r                                                                               \r\r                                                                               \r\r                                                                               \r"
          ],
          "name": "stderr"
        },
        {
          "output_type": "stream",
          "text": [
            "\n",
            "#377 : [30 ms] train: 0.012499\n",
            "#378 : [28 ms] train: 0.012276\n",
            "#379 : [27 ms] train: 0.012085\n",
            "#380 : [26 ms] train: 0.011878\n",
            "#381 : [25 ms] train: 0.011645\n",
            "#382 : [30 ms] train: 0.011459\n"
          ],
          "name": "stdout"
        },
        {
          "output_type": "stream",
          "text": [
            ""
          ],
          "name": "stderr"
        },
        {
          "output_type": "stream",
          "text": [
            "#383 : [34 ms] train: 0.011242\n",
            "#384 : [27 ms] train: 0.010938\n",
            "#385 : [29 ms] train: 0.010646\n",
            "#386 : [25 ms] train: 0.010390\n",
            "#387 : [33 ms] train: 0.010133\n",
            "#388 : [27 ms] train: 0.009897\n",
            "#389 : [27 ms] train: 0.009618\n",
            "#390 : [30 ms] train: 0.009375\n"
          ],
          "name": "stdout"
        },
        {
          "output_type": "stream",
          "text": [
            ""
          ],
          "name": "stderr"
        },
        {
          "output_type": "stream",
          "text": [
            "#391 : [30 ms] train: 0.009130\n",
            "#392 : [26 ms] train: 0.008892\n",
            "#393 : [30 ms] train: 0.008686\n",
            "#394 : [25 ms] train: 0.008495\n",
            "#395 : [25 ms] train: 0.008300\n",
            "#396 : [26 ms] train: 0.008124\n",
            "#397 : [34 ms] train: 0.007947\n",
            "#398 : [27 ms] train: 0.007791\n"
          ],
          "name": "stdout"
        },
        {
          "output_type": "stream",
          "text": [
            ""
          ],
          "name": "stderr"
        },
        {
          "output_type": "stream",
          "text": [
            "#399 : [30 ms] train: 0.007639\n",
            "#400 : [27 ms] train: 0.007492\n",
            "#401 : [29 ms] train: 0.007361\n",
            "#402 : [25 ms] train: 0.007232\n",
            "#403 : [27 ms] train: 0.007073\n",
            "#404 : [25 ms] train: 0.006916\n",
            "#405 : [36 ms] train: 0.006768\n",
            "#406 : [27 ms] train: 0.006620\n"
          ],
          "name": "stdout"
        },
        {
          "output_type": "stream",
          "text": [
            ""
          ],
          "name": "stderr"
        },
        {
          "output_type": "stream",
          "text": [
            "#407 : [29 ms] train: 0.006486\n",
            "#408 : [26 ms] train: 0.006356\n",
            "#409 : [29 ms] train: 0.006235\n",
            "#410 : [26 ms] train: 0.006119\n",
            "#411 : [25 ms] train: 0.006008\n",
            "#412 : [25 ms] train: 0.005903\n",
            "#413 : [31 ms] train: 0.005804\n",
            "#414 : [26 ms] train: 0.005707\n"
          ],
          "name": "stdout"
        },
        {
          "output_type": "stream",
          "text": [
            ""
          ],
          "name": "stderr"
        },
        {
          "output_type": "stream",
          "text": [
            "#415 : [30 ms] train: 0.005618\n",
            "#416 : [28 ms] train: 0.005529\n",
            "#417 : [31 ms] train: 0.005442\n",
            "#418 : [31 ms] train: 0.005360\n",
            "#419 : [34 ms] train: 0.005281\n",
            "#420 : [32 ms] train: 0.005205\n",
            "#421 : [26 ms] train: 0.005131\n"
          ],
          "name": "stdout"
        },
        {
          "output_type": "stream",
          "text": [
            ""
          ],
          "name": "stderr"
        },
        {
          "output_type": "stream",
          "text": [
            "#422 : [29 ms] train: 0.005064\n",
            "#423 : [25 ms] train: 0.005003\n",
            "#424 : [27 ms] train: 0.004942\n",
            "#425 : [26 ms] train: 0.004884\n",
            "#426 : [25 ms] train: 0.004830\n",
            "#427 : [25 ms] train: 0.004777\n",
            "#428 : [31 ms] train: 0.004728\n",
            "#429 : [25 ms] train: 0.004682\n"
          ],
          "name": "stdout"
        },
        {
          "output_type": "stream",
          "text": [
            ""
          ],
          "name": "stderr"
        },
        {
          "output_type": "stream",
          "text": [
            "#430 : [29 ms] train: 0.004637\n",
            "#431 : [25 ms] train: 0.004595\n",
            "#432 : [35 ms] train: 0.004556\n",
            "#433 : [31 ms] train: 0.004517\n",
            "#434 : [28 ms] train: 0.004480\n",
            "#435 : [26 ms] train: 0.004442\n",
            "#436 : [30 ms] train: 0.004408\n"
          ],
          "name": "stdout"
        },
        {
          "output_type": "stream",
          "text": [
            ""
          ],
          "name": "stderr"
        },
        {
          "output_type": "stream",
          "text": [
            "#437 : [33 ms] train: 0.004376\n",
            "#438 : [26 ms] train: 0.004345\n",
            "#439 : [25 ms] train: 0.004315\n",
            "#440 : [30 ms] train: 0.004287\n",
            "#441 : [26 ms] train: 0.004260\n",
            "#442 : [26 ms] train: 0.004235\n",
            "#443 : [25 ms] train: 0.004211\n",
            "#444 : [30 ms] train: 0.004186\n"
          ],
          "name": "stdout"
        },
        {
          "output_type": "stream",
          "text": [
            ""
          ],
          "name": "stderr"
        },
        {
          "output_type": "stream",
          "text": [
            "#445 : [29 ms] train: 0.004166\n",
            "#446 : [25 ms] train: 0.004145\n",
            "#447 : [25 ms] train: 0.004124\n",
            "#448 : [28 ms] train: 0.004106\n",
            "#449 : [24 ms] train: 0.004088\n",
            "#450 : [24 ms] train: 0.004072\n",
            "#451 : [25 ms] train: 0.004056\n",
            "#452 : [31 ms] train: 0.004041\n"
          ],
          "name": "stdout"
        },
        {
          "output_type": "stream",
          "text": [
            ""
          ],
          "name": "stderr"
        },
        {
          "output_type": "stream",
          "text": [
            "#453 : [31 ms] train: 0.004026\n",
            "#454 : [25 ms] train: 0.004013\n",
            "#455 : [32 ms] train: 0.004000\n",
            "#456 : [28 ms] train: 0.003987\n",
            "#457 : [25 ms] train: 0.003930\n",
            "#458 : [25 ms] train: 0.003875\n",
            "#459 : [25 ms] train: 0.003823\n",
            "#460 : [31 ms] train: 0.003775\n"
          ],
          "name": "stdout"
        },
        {
          "output_type": "stream",
          "text": [
            ""
          ],
          "name": "stderr"
        },
        {
          "output_type": "stream",
          "text": [
            "#461 : [31 ms] train: 0.003725\n",
            "#462 : [25 ms] train: 0.003678\n",
            "#463 : [25 ms] train: 0.003633\n",
            "#464 : [29 ms] train: 0.003591\n",
            "#465 : [25 ms] train: 0.003550\n",
            "#466 : [25 ms] train: 0.003512\n",
            "#467 : [26 ms] train: 0.003476\n",
            "#468 : [32 ms] train: 0.003442\n"
          ],
          "name": "stdout"
        },
        {
          "output_type": "stream",
          "text": [
            ""
          ],
          "name": "stderr"
        },
        {
          "output_type": "stream",
          "text": [
            "#469 : [30 ms] train: 0.003409\n",
            "#470 : [24 ms] train: 0.003378\n",
            "#471 : [29 ms] train: 0.003349\n",
            "#472 : [29 ms] train: 0.003320\n",
            "#473 : [25 ms] train: 0.003294\n",
            "#474 : [26 ms] train: 0.003268\n",
            "#475 : [26 ms] train: 0.003244\n",
            "#476 : [32 ms] train: 0.003221\n"
          ],
          "name": "stdout"
        },
        {
          "output_type": "stream",
          "text": [
            ""
          ],
          "name": "stderr"
        },
        {
          "output_type": "stream",
          "text": [
            "#477 : [29 ms] train: 0.003200\n",
            "#478 : [26 ms] train: 0.003179\n",
            "#479 : [27 ms] train: 0.003159\n",
            "#480 : [29 ms] train: 0.003140\n",
            "#481 : [26 ms] train: 0.003121\n",
            "#482 : [25 ms] train: 0.003105\n",
            "#483 : [26 ms] train: 0.003088\n",
            "#484 : [30 ms] train: 0.003072\n"
          ],
          "name": "stdout"
        },
        {
          "output_type": "stream",
          "text": [
            ""
          ],
          "name": "stderr"
        },
        {
          "output_type": "stream",
          "text": [
            "#485 : [29 ms] train: 0.003058\n",
            "#486 : [27 ms] train: 0.003045\n",
            "#487 : [24 ms] train: 0.003029\n",
            "#488 : [29 ms] train: 0.003015\n",
            "#489 : [25 ms] train: 0.003002\n",
            "#490 : [25 ms] train: 0.002989\n",
            "#491 : [24 ms] train: 0.002976\n",
            "#492 : [37 ms] train: 0.002965\n"
          ],
          "name": "stdout"
        },
        {
          "output_type": "stream",
          "text": [
            ""
          ],
          "name": "stderr"
        },
        {
          "output_type": "stream",
          "text": [
            "#493 : [31 ms] train: 0.002954\n",
            "#494 : [26 ms] train: 0.002944\n",
            "#495 : [25 ms] train: 0.002933\n",
            "#496 : [28 ms] train: 0.002923\n",
            "#497 : [25 ms] train: 0.002913\n",
            "#498 : [24 ms] train: 0.002905\n",
            "#499 : [24 ms] train: 0.002540\n",
            "#500 : [31 ms] train: 0.002501\n"
          ],
          "name": "stdout"
        },
        {
          "output_type": "stream",
          "text": [
            "\r                                                                               \r"
          ],
          "name": "stderr"
        }
      ]
    },
    {
      "cell_type": "code",
      "metadata": {
        "colab": {
          "base_uri": "https://localhost:8080/"
        },
        "id": "jDIVU1UTkcHS",
        "outputId": "d368bcee-b7ec-406a-8add-09570bb38f4f"
      },
      "source": [
        "# Modelo 04\r\n",
        "gng_model4 = create_gng(n_features=len(iris_x.columns),\r\n",
        "                           n_start_nodes=2,\r\n",
        "                           epsilon_b=0.05,\r\n",
        "                           epsilon_n=0.0006,\r\n",
        "                           max_age=50,\r\n",
        "                           lambda_=50,\r\n",
        "                           beta=0.05,\r\n",
        "                           alpha=0.5,\r\n",
        "                           max_nodes=400,\r\n",
        "                           verbose=True)\r\n",
        "\r\n",
        "gng_model4.train(iris_x, epochs=500)"
      ],
      "execution_count": 48,
      "outputs": [
        {
          "output_type": "stream",
          "text": [
            "\n",
            "Main information\n",
            "\n",
            "[ALGORITHM] GrowingNeuralGas\n",
            "\r\n",
            "[OPTION] after_split_error_decay_rate = 0.5\n",
            "[OPTION] error_decay_rate = 0.05\n",
            "[OPTION] max_edge_age = 50\n",
            "[OPTION] max_nodes = 400\n",
            "[OPTION] min_distance_for_update = 0.01\n",
            "[OPTION] n_inputs = 4\n",
            "[OPTION] n_iter_before_neuron_added = 50\n",
            "[OPTION] n_start_nodes = 2\n",
            "[OPTION] neighbour_step = 0.0006\n",
            "[OPTION] show_epoch = 1\n",
            "[OPTION] shuffle_data = True\n",
            "[OPTION] signals = None\n",
            "[OPTION] step = 0.05\n",
            "[OPTION] verbose = True\n",
            "\r\n"
          ],
          "name": "stdout"
        },
        {
          "output_type": "stream",
          "text": [
            ""
          ],
          "name": "stderr"
        },
        {
          "output_type": "stream",
          "text": [
            "#1 : [18 ms] train: 1.177122\n",
            "#2 : [16 ms] train: 0.806007\n",
            "#3 : [25 ms] train: 0.722496\n",
            "#4 : [19 ms] train: 0.657900\n",
            "#5 : [21 ms] train: 0.576281\n",
            "#6 : [17 ms] train: 0.525225\n",
            "#7 : [10 ms] train: 0.476885\n",
            "#8 : [12 ms] train: 0.451519\n",
            "#9 : [13 ms] train: 0.429599\n",
            "#10 : [12 ms] train: 0.403585\n",
            "#11 : [16 ms] train: 0.385927\n",
            "#12 : [21 ms] train: 0.368660\n"
          ],
          "name": "stdout"
        },
        {
          "output_type": "stream",
          "text": [
            "\r                                                                               \r\r                                                                               \r"
          ],
          "name": "stderr"
        },
        {
          "output_type": "stream",
          "text": [
            "#13 : [18 ms] train: 0.351260\n"
          ],
          "name": "stdout"
        },
        {
          "output_type": "stream",
          "text": [
            ""
          ],
          "name": "stderr"
        },
        {
          "output_type": "stream",
          "text": [
            "#14 : [21 ms] train: 0.338694\n",
            "#15 : [16 ms] train: 0.328112\n",
            "#16 : [13 ms] train: 0.319294\n",
            "#17 : [13 ms] train: 0.311013\n",
            "#18 : [14 ms] train: 0.303736\n",
            "#19 : [16 ms] train: 0.296236\n",
            "#20 : [15 ms] train: 0.289916\n",
            "#21 : [14 ms] train: 0.281410\n",
            "#22 : [15 ms] train: 0.274114\n",
            "#23 : [15 ms] train: 0.265991\n",
            "#24 : [15 ms] train: 0.259614\n",
            "#25 : [19 ms] train: 0.253865\n"
          ],
          "name": "stdout"
        },
        {
          "output_type": "stream",
          "text": [
            "\r                                                                               \r\r                                                                               \r\r                                                                               \r"
          ],
          "name": "stderr"
        },
        {
          "output_type": "stream",
          "text": [
            "#26 : [21 ms] train: 0.248753\n",
            "#27 : [16 ms] train: 0.243881\n"
          ],
          "name": "stdout"
        },
        {
          "output_type": "stream",
          "text": [
            ""
          ],
          "name": "stderr"
        },
        {
          "output_type": "stream",
          "text": [
            "#28 : [22 ms] train: 0.237701\n",
            "#29 : [16 ms] train: 0.232843\n",
            "#30 : [17 ms] train: 0.227602\n",
            "#31 : [20 ms] train: 0.222799\n",
            "#32 : [17 ms] train: 0.217365\n",
            "#33 : [17 ms] train: 0.212985\n",
            "#34 : [18 ms] train: 0.209723\n",
            "#35 : [18 ms] train: 0.206551\n",
            "#36 : [18 ms] train: 0.202884\n"
          ],
          "name": "stdout"
        },
        {
          "output_type": "stream",
          "text": [
            "\r                                                                               \r\r                                                                               \r"
          ],
          "name": "stderr"
        },
        {
          "output_type": "stream",
          "text": [
            "#37 : [25 ms] train: 0.199324\n",
            "#38 : [19 ms] train: 0.195212\n"
          ],
          "name": "stdout"
        },
        {
          "output_type": "stream",
          "text": [
            ""
          ],
          "name": "stderr"
        },
        {
          "output_type": "stream",
          "text": [
            "#39 : [25 ms] train: 0.191169\n",
            "#40 : [20 ms] train: 0.188149\n",
            "#41 : [19 ms] train: 0.184442\n",
            "#42 : [23 ms] train: 0.180841\n",
            "#43 : [28 ms] train: 0.177452\n",
            "#44 : [20 ms] train: 0.174309\n",
            "#45 : [20 ms] train: 0.169400\n",
            "#46 : [21 ms] train: 0.165756\n"
          ],
          "name": "stdout"
        },
        {
          "output_type": "stream",
          "text": [
            "\r                                                                               \r"
          ],
          "name": "stderr"
        },
        {
          "output_type": "stream",
          "text": [
            "#47 : [31 ms] train: 0.161843\n"
          ],
          "name": "stdout"
        },
        {
          "output_type": "stream",
          "text": [
            ""
          ],
          "name": "stderr"
        },
        {
          "output_type": "stream",
          "text": [
            "#48 : [30 ms] train: 0.157786\n",
            "#49 : [24 ms] train: 0.154659\n",
            "#50 : [24 ms] train: 0.151600\n",
            "#51 : [26 ms] train: 0.148613\n",
            "#52 : [23 ms] train: 0.145486\n",
            "#53 : [22 ms] train: 0.141891\n",
            "#54 : [23 ms] train: 0.139235\n",
            "#55 : [23 ms] train: 0.136494\n"
          ],
          "name": "stdout"
        },
        {
          "output_type": "stream",
          "text": [
            "\r                                                                               \r"
          ],
          "name": "stderr"
        },
        {
          "output_type": "stream",
          "text": [
            "#56 : [29 ms] train: 0.133885\n"
          ],
          "name": "stdout"
        },
        {
          "output_type": "stream",
          "text": [
            ""
          ],
          "name": "stderr"
        },
        {
          "output_type": "stream",
          "text": [
            "#57 : [31 ms] train: 0.131520\n",
            "#58 : [24 ms] train: 0.128606\n",
            "#59 : [27 ms] train: 0.125904\n",
            "#60 : [27 ms] train: 0.123380\n",
            "#61 : [25 ms] train: 0.121215\n",
            "#62 : [26 ms] train: 0.118393\n",
            "#63 : [28 ms] train: 0.115535\n"
          ],
          "name": "stdout"
        },
        {
          "output_type": "stream",
          "text": [
            "\r                                                                               \r"
          ],
          "name": "stderr"
        },
        {
          "output_type": "stream",
          "text": [
            "#64 : [34 ms] train: 0.112771\n"
          ],
          "name": "stdout"
        },
        {
          "output_type": "stream",
          "text": [
            ""
          ],
          "name": "stderr"
        },
        {
          "output_type": "stream",
          "text": [
            "#65 : [34 ms] train: 0.110211\n",
            "#66 : [28 ms] train: 0.107132\n",
            "#67 : [30 ms] train: 0.104522\n",
            "#68 : [27 ms] train: 0.101964\n",
            "#69 : [27 ms] train: 0.099571\n",
            "#70 : [27 ms] train: 0.097364\n"
          ],
          "name": "stdout"
        },
        {
          "output_type": "stream",
          "text": [
            "\r                                                                               \r"
          ],
          "name": "stderr"
        },
        {
          "output_type": "stream",
          "text": [
            "#71 : [32 ms] train: 0.095108\n"
          ],
          "name": "stdout"
        },
        {
          "output_type": "stream",
          "text": [
            ""
          ],
          "name": "stderr"
        },
        {
          "output_type": "stream",
          "text": [
            "#72 : [32 ms] train: 0.093050\n",
            "#73 : [32 ms] train: 0.090983\n",
            "#74 : [32 ms] train: 0.088932\n",
            "#75 : [30 ms] train: 0.086752\n",
            "#76 : [29 ms] train: 0.084811\n",
            "#77 : [30 ms] train: 0.082548\n"
          ],
          "name": "stdout"
        },
        {
          "output_type": "stream",
          "text": [
            "\r                                                                               \r"
          ],
          "name": "stderr"
        },
        {
          "output_type": "stream",
          "text": [
            "#78 : [35 ms] train: 0.080414\n"
          ],
          "name": "stdout"
        },
        {
          "output_type": "stream",
          "text": [
            ""
          ],
          "name": "stderr"
        },
        {
          "output_type": "stream",
          "text": [
            "#79 : [43 ms] train: 0.078002\n",
            "#80 : [30 ms] train: 0.075797\n",
            "#81 : [35 ms] train: 0.073548\n",
            "#82 : [30 ms] train: 0.071241\n",
            "#83 : [30 ms] train: 0.069059\n",
            "#84 : [31 ms] train: 0.066852\n"
          ],
          "name": "stdout"
        },
        {
          "output_type": "stream",
          "text": [
            "\r                                                                               \r"
          ],
          "name": "stderr"
        },
        {
          "output_type": "stream",
          "text": [
            "#85 : [38 ms] train: 0.064722\n"
          ],
          "name": "stdout"
        },
        {
          "output_type": "stream",
          "text": [
            ""
          ],
          "name": "stderr"
        },
        {
          "output_type": "stream",
          "text": [
            "#86 : [36 ms] train: 0.062719\n",
            "#87 : [32 ms] train: 0.060856\n",
            "#88 : [35 ms] train: 0.059029\n",
            "#89 : [32 ms] train: 0.057178\n",
            "#90 : [31 ms] train: 0.055459\n",
            "#91 : [33 ms] train: 0.053794\n"
          ],
          "name": "stdout"
        },
        {
          "output_type": "stream",
          "text": [
            ""
          ],
          "name": "stderr"
        },
        {
          "output_type": "stream",
          "text": [
            "#92 : [41 ms] train: 0.052224\n",
            "#93 : [33 ms] train: 0.050756\n",
            "#94 : [37 ms] train: 0.049318\n",
            "#95 : [39 ms] train: 0.047941\n",
            "#96 : [35 ms] train: 0.046678\n",
            "#97 : [35 ms] train: 0.045421\n"
          ],
          "name": "stdout"
        },
        {
          "output_type": "stream",
          "text": [
            ""
          ],
          "name": "stderr"
        },
        {
          "output_type": "stream",
          "text": [
            "#98 : [40 ms] train: 0.044219\n",
            "#99 : [34 ms] train: 0.043042\n",
            "#100 : [38 ms] train: 0.041841\n",
            "#101 : [34 ms] train: 0.040712\n",
            "#102 : [35 ms] train: 0.039640\n",
            "#103 : [35 ms] train: 0.038622\n"
          ],
          "name": "stdout"
        },
        {
          "output_type": "stream",
          "text": [
            ""
          ],
          "name": "stderr"
        },
        {
          "output_type": "stream",
          "text": [
            "#104 : [42 ms] train: 0.037585\n",
            "#105 : [36 ms] train: 0.036618\n",
            "#106 : [39 ms] train: 0.035653\n",
            "#107 : [36 ms] train: 0.034739\n",
            "#108 : [43 ms] train: 0.033856\n",
            "#109 : [36 ms] train: 0.033034\n"
          ],
          "name": "stdout"
        },
        {
          "output_type": "stream",
          "text": [
            ""
          ],
          "name": "stderr"
        },
        {
          "output_type": "stream",
          "text": [
            "#110 : [43 ms] train: 0.032250\n",
            "#111 : [37 ms] train: 0.031497\n",
            "#112 : [41 ms] train: 0.030786\n",
            "#113 : [37 ms] train: 0.029844\n",
            "#114 : [37 ms] train: 0.028974\n",
            "#115 : [37 ms] train: 0.028135\n"
          ],
          "name": "stdout"
        },
        {
          "output_type": "stream",
          "text": [
            "\r                                                                               \r\r                                                                               \r\r                                                                               \r\r                                                                               \r\r                                                                               \r\r                                                                               \r"
          ],
          "name": "stderr"
        },
        {
          "output_type": "stream",
          "text": [
            "#116 : [44 ms] train: 0.027352\n",
            "#117 : [41 ms] train: 0.026598\n",
            "#118 : [41 ms] train: 0.025887\n",
            "#119 : [39 ms] train: 0.025212\n",
            "#120 : [39 ms] train: 0.024474\n",
            "#121 : [39 ms] train: 0.023585\n"
          ],
          "name": "stdout"
        },
        {
          "output_type": "stream",
          "text": [
            "\r                                                                               \r\r                                                                               \r\r                                                                               \r\r                                                                               \r\r                                                                               \r"
          ],
          "name": "stderr"
        },
        {
          "output_type": "stream",
          "text": [
            "#122 : [45 ms] train: 0.022819\n",
            "#123 : [40 ms] train: 0.022091\n",
            "#124 : [40 ms] train: 0.021401\n",
            "#125 : [40 ms] train: 0.020743\n",
            "#126 : [40 ms] train: 0.020120\n"
          ],
          "name": "stdout"
        },
        {
          "output_type": "stream",
          "text": [
            "\r                                                                               \r\r                                                                               \r\r                                                                               \r\r                                                                               \r\r                                                                               \r"
          ],
          "name": "stderr"
        },
        {
          "output_type": "stream",
          "text": [
            "#127 : [42 ms] train: 0.019387\n",
            "#128 : [46 ms] train: 0.018726\n",
            "#129 : [49 ms] train: 0.018035\n",
            "#130 : [42 ms] train: 0.017395\n",
            "#131 : [43 ms] train: 0.016785\n"
          ],
          "name": "stdout"
        },
        {
          "output_type": "stream",
          "text": [
            "\r                                                                               \r\r                                                                               \r\r                                                                               \r\r                                                                               \r\r                                                                               \r"
          ],
          "name": "stderr"
        },
        {
          "output_type": "stream",
          "text": [
            "#132 : [48 ms] train: 0.016194\n",
            "#133 : [43 ms] train: 0.015590\n",
            "#134 : [44 ms] train: 0.015016\n",
            "#135 : [44 ms] train: 0.014469\n",
            "#136 : [42 ms] train: 0.013950\n"
          ],
          "name": "stdout"
        },
        {
          "output_type": "stream",
          "text": [
            "\r                                                                               \r\r                                                                               \r\r                                                                               \r\r                                                                               \r\r                                                                               \r"
          ],
          "name": "stderr"
        },
        {
          "output_type": "stream",
          "text": [
            "#137 : [49 ms] train: 0.013455\n",
            "#138 : [44 ms] train: 0.012987\n",
            "#139 : [43 ms] train: 0.012542\n",
            "#140 : [43 ms] train: 0.012120\n",
            "#141 : [44 ms] train: 0.011718\n"
          ],
          "name": "stdout"
        },
        {
          "output_type": "stream",
          "text": [
            "\r                                                                               \r\r                                                                               \r\r                                                                               \r\r                                                                               \r\r                                                                               \r"
          ],
          "name": "stderr"
        },
        {
          "output_type": "stream",
          "text": [
            "#142 : [50 ms] train: 0.011336\n",
            "#143 : [48 ms] train: 0.010970\n",
            "#144 : [44 ms] train: 0.010625\n",
            "#145 : [42 ms] train: 0.010296\n",
            "#146 : [42 ms] train: 0.009984\n"
          ],
          "name": "stdout"
        },
        {
          "output_type": "stream",
          "text": [
            "\r                                                                               \r\r                                                                               \r\r                                                                               \r\r                                                                               \r\r                                                                               \r"
          ],
          "name": "stderr"
        },
        {
          "output_type": "stream",
          "text": [
            "#147 : [48 ms] train: 0.009686\n",
            "#148 : [45 ms] train: 0.009404\n",
            "#149 : [47 ms] train: 0.009136\n",
            "#150 : [53 ms] train: 0.008881\n",
            "#151 : [53 ms] train: 0.008639\n"
          ],
          "name": "stdout"
        },
        {
          "output_type": "stream",
          "text": [
            "\r                                                                               \r\r                                                                               \r\r                                                                               \r\r                                                                               \r\r                                                                               \r"
          ],
          "name": "stderr"
        },
        {
          "output_type": "stream",
          "text": [
            "#152 : [56 ms] train: 0.008407\n",
            "#153 : [44 ms] train: 0.008189\n",
            "#154 : [43 ms] train: 0.007982\n",
            "#155 : [44 ms] train: 0.007784\n",
            "#156 : [45 ms] train: 0.007598\n"
          ],
          "name": "stdout"
        },
        {
          "output_type": "stream",
          "text": [
            "\r                                                                               \r\r                                                                               \r\r                                                                               \r\r                                                                               \r\r                                                                               \r"
          ],
          "name": "stderr"
        },
        {
          "output_type": "stream",
          "text": [
            "#157 : [49 ms] train: 0.007419\n",
            "#158 : [43 ms] train: 0.007251\n",
            "#159 : [44 ms] train: 0.007091\n",
            "#160 : [44 ms] train: 0.006938\n",
            "#161 : [42 ms] train: 0.006793\n"
          ],
          "name": "stdout"
        },
        {
          "output_type": "stream",
          "text": [
            "\r                                                                               \r\r                                                                               \r\r                                                                               \r\r                                                                               \r\r                                                                               \r"
          ],
          "name": "stderr"
        },
        {
          "output_type": "stream",
          "text": [
            "#162 : [47 ms] train: 0.006655\n",
            "#163 : [42 ms] train: 0.006521\n",
            "#164 : [47 ms] train: 0.006397\n",
            "#165 : [44 ms] train: 0.006279\n",
            "#166 : [43 ms] train: 0.006165\n"
          ],
          "name": "stdout"
        },
        {
          "output_type": "stream",
          "text": [
            "\r                                                                               \r\r                                                                               \r\r                                                                               \r\r                                                                               \r\r                                                                               \r"
          ],
          "name": "stderr"
        },
        {
          "output_type": "stream",
          "text": [
            "#167 : [49 ms] train: 0.006056\n",
            "#168 : [43 ms] train: 0.005953\n",
            "#169 : [41 ms] train: 0.005855\n",
            "#170 : [43 ms] train: 0.005763\n",
            "#171 : [44 ms] train: 0.005675\n"
          ],
          "name": "stdout"
        },
        {
          "output_type": "stream",
          "text": [
            "\r                                                                               \r\r                                                                               \r\r                                                                               \r\r                                                                               \r\r                                                                               \r"
          ],
          "name": "stderr"
        },
        {
          "output_type": "stream",
          "text": [
            "#172 : [51 ms] train: 0.005590\n",
            "#173 : [48 ms] train: 0.005512\n",
            "#174 : [42 ms] train: 0.005434\n",
            "#175 : [43 ms] train: 0.005364\n",
            "#176 : [42 ms] train: 0.005295\n"
          ],
          "name": "stdout"
        },
        {
          "output_type": "stream",
          "text": [
            "\r                                                                               \r\r                                                                               \r\r                                                                               \r\r                                                                               \r\r                                                                               \r"
          ],
          "name": "stderr"
        },
        {
          "output_type": "stream",
          "text": [
            "#177 : [48 ms] train: 0.005231\n",
            "#178 : [45 ms] train: 0.005170\n",
            "#179 : [42 ms] train: 0.005112\n",
            "#180 : [41 ms] train: 0.005057\n",
            "#181 : [42 ms] train: 0.005004\n"
          ],
          "name": "stdout"
        },
        {
          "output_type": "stream",
          "text": [
            "\r                                                                               \r\r                                                                               \r\r                                                                               \r\r                                                                               \r\r                                                                               \r"
          ],
          "name": "stderr"
        },
        {
          "output_type": "stream",
          "text": [
            "#182 : [46 ms] train: 0.004955\n",
            "#183 : [53 ms] train: 0.004907\n",
            "#184 : [47 ms] train: 0.004863\n",
            "#185 : [41 ms] train: 0.004820\n",
            "#186 : [40 ms] train: 0.004778\n"
          ],
          "name": "stdout"
        },
        {
          "output_type": "stream",
          "text": [
            "\r                                                                               \r\r                                                                               \r\r                                                                               \r\r                                                                               \r\r                                                                               \r"
          ],
          "name": "stderr"
        },
        {
          "output_type": "stream",
          "text": [
            "#187 : [46 ms] train: 0.004740\n",
            "#188 : [40 ms] train: 0.004704\n",
            "#189 : [39 ms] train: 0.004670\n",
            "#190 : [43 ms] train: 0.004638\n",
            "#191 : [40 ms] train: 0.004607\n"
          ],
          "name": "stdout"
        },
        {
          "output_type": "stream",
          "text": [
            "\r                                                                               \r\r                                                                               \r\r                                                                               \r\r                                                                               \r\r                                                                               \r"
          ],
          "name": "stderr"
        },
        {
          "output_type": "stream",
          "text": [
            "#192 : [43 ms] train: 0.004577\n",
            "#193 : [43 ms] train: 0.004550\n",
            "#194 : [39 ms] train: 0.004524\n",
            "#195 : [39 ms] train: 0.004498\n",
            "#196 : [40 ms] train: 0.004474\n"
          ],
          "name": "stdout"
        },
        {
          "output_type": "stream",
          "text": [
            "\r                                                                               \r\r                                                                               \r\r                                                                               \r\r                                                                               \r\r                                                                               \r\r                                                                               \r"
          ],
          "name": "stderr"
        },
        {
          "output_type": "stream",
          "text": [
            "#197 : [50 ms] train: 0.004450\n",
            "#198 : [46 ms] train: 0.004429\n",
            "#199 : [37 ms] train: 0.004407\n",
            "#200 : [37 ms] train: 0.004388\n",
            "#201 : [37 ms] train: 0.004369\n",
            "#202 : [37 ms] train: 0.004352\n"
          ],
          "name": "stdout"
        },
        {
          "output_type": "stream",
          "text": [
            "\r                                                                               \r\r                                                                               \r\r                                                                               \r\r                                                                               \r\r                                                                               \r\r                                                                               \r"
          ],
          "name": "stderr"
        },
        {
          "output_type": "stream",
          "text": [
            "#203 : [43 ms] train: 0.004335\n",
            "#204 : [41 ms] train: 0.004319\n",
            "#205 : [39 ms] train: 0.004305\n",
            "#206 : [35 ms] train: 0.004290\n",
            "#207 : [35 ms] train: 0.004277\n",
            "#208 : [35 ms] train: 0.004264\n"
          ],
          "name": "stdout"
        },
        {
          "output_type": "stream",
          "text": [
            "\r                                                                               \r\r                                                                               \r\r                                                                               \r\r                                                                               \r\r                                                                               \r\r                                                                               \r"
          ],
          "name": "stderr"
        },
        {
          "output_type": "stream",
          "text": [
            "#209 : [41 ms] train: 0.004253\n",
            "#210 : [36 ms] train: 0.004242\n",
            "#211 : [35 ms] train: 0.004231\n",
            "#212 : [36 ms] train: 0.004221\n",
            "#213 : [37 ms] train: 0.004212\n",
            "#214 : [35 ms] train: 0.004203\n"
          ],
          "name": "stdout"
        },
        {
          "output_type": "stream",
          "text": [
            "\r                                                                               \r\r                                                                               \r\r                                                                               \r\r                                                                               \r\r                                                                               \r\r                                                                               \r"
          ],
          "name": "stderr"
        },
        {
          "output_type": "stream",
          "text": [
            "#215 : [40 ms] train: 0.004194\n",
            "#216 : [35 ms] train: 0.004186\n",
            "#217 : [34 ms] train: 0.004180\n",
            "#218 : [35 ms] train: 0.004172\n",
            "#219 : [34 ms] train: 0.004166\n",
            "#220 : [35 ms] train: 0.004160\n"
          ],
          "name": "stdout"
        },
        {
          "output_type": "stream",
          "text": [
            "\r                                                                               \r\r                                                                               \r\r                                                                               \r\r                                                                               \r\r                                                                               \r\r                                                                               \r"
          ],
          "name": "stderr"
        },
        {
          "output_type": "stream",
          "text": [
            "#221 : [45 ms] train: 0.004153\n",
            "#222 : [40 ms] train: 0.004148\n",
            "#223 : [42 ms] train: 0.004142\n",
            "#224 : [33 ms] train: 0.004000\n",
            "#225 : [33 ms] train: 0.003865\n",
            "#226 : [35 ms] train: 0.003737\n"
          ],
          "name": "stdout"
        },
        {
          "output_type": "stream",
          "text": [
            "\r                                                                               \r\r                                                                               \r\r                                                                               \r\r                                                                               \r\r                                                                               \r\r                                                                               \r"
          ],
          "name": "stderr"
        },
        {
          "output_type": "stream",
          "text": [
            "#227 : [41 ms] train: 0.003614\n",
            "#228 : [35 ms] train: 0.003499\n",
            "#229 : [34 ms] train: 0.003390\n",
            "#230 : [33 ms] train: 0.003285\n",
            "#231 : [34 ms] train: 0.003187\n",
            "#232 : [34 ms] train: 0.003093\n"
          ],
          "name": "stdout"
        },
        {
          "output_type": "stream",
          "text": [
            "\r                                                                               \r\r                                                                               \r\r                                                                               \r\r                                                                               \r\r                                                                               \r\r                                                                               \r\r                                                                               \r"
          ],
          "name": "stderr"
        },
        {
          "output_type": "stream",
          "text": [
            "#233 : [35 ms] train: 0.003004\n",
            "#234 : [35 ms] train: 0.002919\n",
            "#235 : [36 ms] train: 0.002839\n",
            "#236 : [32 ms] train: 0.002764\n",
            "#237 : [32 ms] train: 0.002691\n",
            "#238 : [32 ms] train: 0.002623\n",
            "#239 : [31 ms] train: 0.002558\n"
          ],
          "name": "stdout"
        },
        {
          "output_type": "stream",
          "text": [
            "\r                                                                               \r\r                                                                               \r\r                                                                               \r\r                                                                               \r\r                                                                               \r\r                                                                               \r\r                                                                               \r"
          ],
          "name": "stderr"
        },
        {
          "output_type": "stream",
          "text": [
            "#240 : [38 ms] train: 0.002496\n",
            "#241 : [31 ms] train: 0.002438\n",
            "#242 : [32 ms] train: 0.002382\n",
            "#243 : [35 ms] train: 0.002330\n",
            "#244 : [32 ms] train: 0.002279\n",
            "#245 : [33 ms] train: 0.002232\n",
            "#246 : [32 ms] train: 0.002187\n"
          ],
          "name": "stdout"
        },
        {
          "output_type": "stream",
          "text": [
            "\r                                                                               \r\r                                                                               \r\r                                                                               \r\r                                                                               \r\r                                                                               \r\r                                                                               \r"
          ],
          "name": "stderr"
        },
        {
          "output_type": "stream",
          "text": [
            "#247 : [39 ms] train: 0.002144\n",
            "#248 : [31 ms] train: 0.002103\n",
            "#249 : [33 ms] train: 0.002065\n",
            "#250 : [32 ms] train: 0.002028\n",
            "#251 : [37 ms] train: 0.001994\n",
            "#252 : [32 ms] train: 0.001961\n"
          ],
          "name": "stdout"
        },
        {
          "output_type": "stream",
          "text": [
            "\r                                                                               \r\r                                                                               \r\r                                                                               \r\r                                                                               \r\r                                                                               \r\r                                                                               \r\r                                                                               \r"
          ],
          "name": "stderr"
        },
        {
          "output_type": "stream",
          "text": [
            "#253 : [46 ms] train: 0.001930\n",
            "#254 : [32 ms] train: 0.001900\n",
            "#255 : [33 ms] train: 0.001871\n",
            "#256 : [32 ms] train: 0.001845\n",
            "#257 : [31 ms] train: 0.001819\n",
            "#258 : [31 ms] train: 0.001795\n",
            "#259 : [32 ms] train: 0.001772\n"
          ],
          "name": "stdout"
        },
        {
          "output_type": "stream",
          "text": [
            "\r                                                                               \r\r                                                                               \r\r                                                                               \r\r                                                                               \r\r                                                                               \r\r                                                                               \r\r                                                                               \r"
          ],
          "name": "stderr"
        },
        {
          "output_type": "stream",
          "text": [
            "#260 : [40 ms] train: 0.001751\n",
            "#261 : [31 ms] train: 0.001731\n",
            "#262 : [33 ms] train: 0.001711\n",
            "#263 : [31 ms] train: 0.001692\n",
            "#264 : [31 ms] train: 0.001675\n",
            "#265 : [30 ms] train: 0.001658\n",
            "#266 : [30 ms] train: 0.001643\n"
          ],
          "name": "stdout"
        },
        {
          "output_type": "stream",
          "text": [
            "\r                                                                               \r\r                                                                               \r\r                                                                               \r\r                                                                               \r\r                                                                               \r\r                                                                               \r"
          ],
          "name": "stderr"
        },
        {
          "output_type": "stream",
          "text": [
            "#267 : [36 ms] train: 0.001629\n",
            "#268 : [30 ms] train: 0.001614\n",
            "#269 : [38 ms] train: 0.001601\n",
            "#270 : [36 ms] train: 0.001588\n",
            "#271 : [34 ms] train: 0.001577\n",
            "#272 : [29 ms] train: 0.001566\n"
          ],
          "name": "stdout"
        },
        {
          "output_type": "stream",
          "text": [
            "\r                                                                               \r\r                                                                               \r\r                                                                               \r\r                                                                               \r\r                                                                               \r\r                                                                               \r\r                                                                               \r"
          ],
          "name": "stderr"
        },
        {
          "output_type": "stream",
          "text": [
            "#273 : [37 ms] train: 0.001555\n",
            "#274 : [32 ms] train: 0.001545\n",
            "#275 : [30 ms] train: 0.001534\n",
            "#276 : [30 ms] train: 0.001525\n",
            "#277 : [31 ms] train: 0.001517\n",
            "#278 : [30 ms] train: 0.001509\n",
            "#279 : [30 ms] train: 0.001501\n"
          ],
          "name": "stdout"
        },
        {
          "output_type": "stream",
          "text": [
            "\r                                                                               \r\r                                                                               \r\r                                                                               \r\r                                                                               \r\r                                                                               \r\r                                                                               \r\r                                                                               \r"
          ],
          "name": "stderr"
        },
        {
          "output_type": "stream",
          "text": [
            "#280 : [36 ms] train: 0.001493\n",
            "#281 : [29 ms] train: 0.001486\n",
            "#282 : [30 ms] train: 0.001479\n",
            "#283 : [32 ms] train: 0.001473\n",
            "#284 : [35 ms] train: 0.001467\n",
            "#285 : [34 ms] train: 0.001462\n",
            "#286 : [31 ms] train: 0.001456\n"
          ],
          "name": "stdout"
        },
        {
          "output_type": "stream",
          "text": [
            "\r                                                                               \r\r                                                                               \r\r                                                                               \r\r                                                                               \r\r                                                                               \r\r                                                                               \r\r                                                                               \r"
          ],
          "name": "stderr"
        },
        {
          "output_type": "stream",
          "text": [
            "#287 : [38 ms] train: 0.001451\n",
            "#288 : [32 ms] train: 0.001446\n",
            "#289 : [30 ms] train: 0.001442\n",
            "#290 : [30 ms] train: 0.001437\n",
            "#291 : [30 ms] train: 0.001433\n",
            "#292 : [29 ms] train: 0.001429\n",
            "#293 : [33 ms] train: 0.001426\n"
          ],
          "name": "stdout"
        },
        {
          "output_type": "stream",
          "text": [
            "\r                                                                               \r\r                                                                               \r\r                                                                               \r\r                                                                               \r\r                                                                               \r\r                                                                               \r\r                                                                               \r"
          ],
          "name": "stderr"
        },
        {
          "output_type": "stream",
          "text": [
            "#294 : [39 ms] train: 0.001422\n",
            "#295 : [30 ms] train: 0.001415\n",
            "#296 : [30 ms] train: 0.001357\n",
            "#297 : [30 ms] train: 0.001300\n",
            "#298 : [30 ms] train: 0.001246\n",
            "#299 : [30 ms] train: 0.001195\n",
            "#300 : [30 ms] train: 0.001148\n"
          ],
          "name": "stdout"
        },
        {
          "output_type": "stream",
          "text": [
            "\r                                                                               \r\r                                                                               \r\r                                                                               \r\r                                                                               \r\r                                                                               \r\r                                                                               \r\r                                                                               \r"
          ],
          "name": "stderr"
        },
        {
          "output_type": "stream",
          "text": [
            "#301 : [37 ms] train: 0.001103\n",
            "#302 : [36 ms] train: 0.001059\n",
            "#303 : [31 ms] train: 0.001018\n",
            "#304 : [31 ms] train: 0.000979\n",
            "#305 : [32 ms] train: 0.000941\n",
            "#306 : [31 ms] train: 0.000907\n",
            "#307 : [30 ms] train: 0.000874\n"
          ],
          "name": "stdout"
        },
        {
          "output_type": "stream",
          "text": [
            "\r                                                                               \r\r                                                                               \r\r                                                                               \r\r                                                                               \r\r                                                                               \r\r                                                                               \r\r                                                                               \r"
          ],
          "name": "stderr"
        },
        {
          "output_type": "stream",
          "text": [
            "#308 : [38 ms] train: 0.000842\n",
            "#309 : [33 ms] train: 0.000812\n",
            "#310 : [33 ms] train: 0.000783\n",
            "#311 : [31 ms] train: 0.000756\n",
            "#312 : [30 ms] train: 0.000731\n",
            "#313 : [30 ms] train: 0.000706\n",
            "#314 : [29 ms] train: 0.000682\n"
          ],
          "name": "stdout"
        },
        {
          "output_type": "stream",
          "text": [
            "\r                                                                               \r\r                                                                               \r\r                                                                               \r\r                                                                               \r\r                                                                               \r\r                                                                               \r\r                                                                               \r"
          ],
          "name": "stderr"
        },
        {
          "output_type": "stream",
          "text": [
            "#315 : [43 ms] train: 0.000660\n",
            "#316 : [31 ms] train: 0.000640\n",
            "#317 : [31 ms] train: 0.000621\n",
            "#318 : [36 ms] train: 0.000602\n",
            "#319 : [35 ms] train: 0.000584\n",
            "#320 : [33 ms] train: 0.000567\n",
            "#321 : [30 ms] train: 0.000551\n"
          ],
          "name": "stdout"
        },
        {
          "output_type": "stream",
          "text": [
            "\r                                                                               \r\r                                                                               \r\r                                                                               \r\r                                                                               \r\r                                                                               \r\r                                                                               \r\r                                                                               \r"
          ],
          "name": "stderr"
        },
        {
          "output_type": "stream",
          "text": [
            "#322 : [37 ms] train: 0.000535\n",
            "#323 : [31 ms] train: 0.000521\n",
            "#324 : [31 ms] train: 0.000507\n",
            "#325 : [30 ms] train: 0.000495\n",
            "#326 : [33 ms] train: 0.000482\n",
            "#327 : [29 ms] train: 0.000470\n",
            "#328 : [30 ms] train: 0.000459\n"
          ],
          "name": "stdout"
        },
        {
          "output_type": "stream",
          "text": [
            "\r                                                                               \r\r                                                                               \r\r                                                                               \r\r                                                                               \r\r                                                                               \r\r                                                                               \r\r                                                                               \r"
          ],
          "name": "stderr"
        },
        {
          "output_type": "stream",
          "text": [
            "#329 : [35 ms] train: 0.000449\n",
            "#330 : [31 ms] train: 0.000439\n",
            "#331 : [30 ms] train: 0.000429\n",
            "#332 : [29 ms] train: 0.000421\n",
            "#333 : [30 ms] train: 0.000412\n",
            "#334 : [30 ms] train: 0.000403\n",
            "#335 : [33 ms] train: 0.000396\n"
          ],
          "name": "stdout"
        },
        {
          "output_type": "stream",
          "text": [
            "\r                                                                               \r\r                                                                               \r\r                                                                               \r\r                                                                               \r\r                                                                               \r\r                                                                               \r\r                                                                               \r"
          ],
          "name": "stderr"
        },
        {
          "output_type": "stream",
          "text": [
            "#336 : [36 ms] train: 0.000389\n",
            "#337 : [29 ms] train: 0.000381\n",
            "#338 : [30 ms] train: 0.000375\n",
            "#339 : [30 ms] train: 0.000369\n",
            "#340 : [30 ms] train: 0.000363\n",
            "#341 : [30 ms] train: 0.000358\n",
            "#342 : [30 ms] train: 0.000352\n"
          ],
          "name": "stdout"
        },
        {
          "output_type": "stream",
          "text": [
            "\r                                                                               \r\r                                                                               \r\r                                                                               \r\r                                                                               \r\r                                                                               \r\r                                                                               \r\r                                                                               \r"
          ],
          "name": "stderr"
        },
        {
          "output_type": "stream",
          "text": [
            "#343 : [36 ms] train: 0.000347\n",
            "#344 : [30 ms] train: 0.000342\n",
            "#345 : [30 ms] train: 0.000338\n",
            "#346 : [37 ms] train: 0.000334\n",
            "#347 : [30 ms] train: 0.000329\n",
            "#348 : [34 ms] train: 0.000325\n",
            "#349 : [30 ms] train: 0.000322\n"
          ],
          "name": "stdout"
        },
        {
          "output_type": "stream",
          "text": [
            "\r                                                                               \r\r                                                                               \r\r                                                                               \r\r                                                                               \r\r                                                                               \r\r                                                                               \r\r                                                                               \r"
          ],
          "name": "stderr"
        },
        {
          "output_type": "stream",
          "text": [
            "#350 : [37 ms] train: 0.000318\n",
            "#351 : [30 ms] train: 0.000315\n",
            "#352 : [31 ms] train: 0.000311\n",
            "#353 : [30 ms] train: 0.000308\n",
            "#354 : [30 ms] train: 0.000306\n",
            "#355 : [33 ms] train: 0.000303\n",
            "#356 : [32 ms] train: 0.000300\n"
          ],
          "name": "stdout"
        },
        {
          "output_type": "stream",
          "text": [
            "\r                                                                               \r\r                                                                               \r\r                                                                               \r\r                                                                               \r\r                                                                               \r\r                                                                               \r\r                                                                               \r"
          ],
          "name": "stderr"
        },
        {
          "output_type": "stream",
          "text": [
            "#357 : [39 ms] train: 0.000298\n",
            "#358 : [30 ms] train: 0.000295\n",
            "#359 : [30 ms] train: 0.000294\n",
            "#360 : [30 ms] train: 0.000292\n",
            "#361 : [30 ms] train: 0.000290\n",
            "#362 : [30 ms] train: 0.000287\n",
            "#363 : [30 ms] train: 0.000285\n"
          ],
          "name": "stdout"
        },
        {
          "output_type": "stream",
          "text": [
            "\r                                                                               \r\r                                                                               \r\r                                                                               \r\r                                                                               \r\r                                                                               \r\r                                                                               \r\r                                                                               \r"
          ],
          "name": "stderr"
        },
        {
          "output_type": "stream",
          "text": [
            "#364 : [36 ms] train: 0.000284\n",
            "#365 : [31 ms] train: 0.000283\n",
            "#366 : [34 ms] train: 0.000280\n",
            "#367 : [33 ms] train: 0.000279\n",
            "#368 : [35 ms] train: 0.000278\n",
            "#369 : [31 ms] train: 0.000277\n",
            "#370 : [30 ms] train: 0.000275\n"
          ],
          "name": "stdout"
        },
        {
          "output_type": "stream",
          "text": [
            "\r                                                                               \r\r                                                                               \r\r                                                                               \r\r                                                                               \r\r                                                                               \r\r                                                                               \r\r                                                                               \r"
          ],
          "name": "stderr"
        },
        {
          "output_type": "stream",
          "text": [
            "#371 : [36 ms] train: 0.000274\n",
            "#372 : [30 ms] train: 0.000274\n",
            "#373 : [30 ms] train: 0.000272\n",
            "#374 : [30 ms] train: 0.000271\n",
            "#375 : [30 ms] train: 0.000271\n",
            "#376 : [30 ms] train: 0.000269\n",
            "#377 : [31 ms] train: 0.000268\n"
          ],
          "name": "stdout"
        },
        {
          "output_type": "stream",
          "text": [
            "\r                                                                               \r\r                                                                               \r\r                                                                               \r\r                                                                               \r\r                                                                               \r\r                                                                               \r\r                                                                               \r"
          ],
          "name": "stderr"
        },
        {
          "output_type": "stream",
          "text": [
            "#378 : [46 ms] train: 0.000268\n",
            "#379 : [30 ms] train: 0.000267\n",
            "#380 : [30 ms] train: 0.000266\n",
            "#381 : [30 ms] train: 0.000265\n",
            "#382 : [31 ms] train: 0.000265\n",
            "#383 : [30 ms] train: 0.000264\n",
            "#384 : [32 ms] train: 0.000264\n"
          ],
          "name": "stdout"
        },
        {
          "output_type": "stream",
          "text": [
            "\r                                                                               \r\r                                                                               \r\r                                                                               \r\r                                                                               \r\r                                                                               \r\r                                                                               \r\r                                                                               \r"
          ],
          "name": "stderr"
        },
        {
          "output_type": "stream",
          "text": [
            "#385 : [39 ms] train: 0.000263\n",
            "#386 : [32 ms] train: 0.000262\n",
            "#387 : [32 ms] train: 0.000262\n",
            "#388 : [30 ms] train: 0.000262\n",
            "#389 : [30 ms] train: 0.000260\n",
            "#390 : [31 ms] train: 0.000260\n",
            "#391 : [31 ms] train: 0.000260\n"
          ],
          "name": "stdout"
        },
        {
          "output_type": "stream",
          "text": [
            "\r                                                                               \r\r                                                                               \r\r                                                                               \r\r                                                                               \r\r                                                                               \r\r                                                                               \r"
          ],
          "name": "stderr"
        },
        {
          "output_type": "stream",
          "text": [
            "#392 : [38 ms] train: 0.000260\n",
            "#393 : [31 ms] train: 0.000259\n",
            "#394 : [34 ms] train: 0.000259\n",
            "#395 : [40 ms] train: 0.000259\n",
            "#396 : [33 ms] train: 0.000258\n",
            "#397 : [32 ms] train: 0.000258\n"
          ],
          "name": "stdout"
        },
        {
          "output_type": "stream",
          "text": [
            "\r                                                                               \r\r                                                                               \r\r                                                                               \r\r                                                                               \r\r                                                                               \r\r                                                                               \r\r                                                                               \r"
          ],
          "name": "stderr"
        },
        {
          "output_type": "stream",
          "text": [
            "#398 : [35 ms] train: 0.000258\n",
            "#399 : [33 ms] train: 0.000257\n",
            "#400 : [31 ms] train: 0.000257\n",
            "#401 : [31 ms] train: 0.000257\n",
            "#402 : [33 ms] train: 0.000257\n",
            "#403 : [31 ms] train: 0.000256\n",
            "#404 : [31 ms] train: 0.000257\n"
          ],
          "name": "stdout"
        },
        {
          "output_type": "stream",
          "text": [
            "\r                                                                               \r\r                                                                               \r\r                                                                               \r\r                                                                               \r\r                                                                               \r\r                                                                               \r\r                                                                               \r"
          ],
          "name": "stderr"
        },
        {
          "output_type": "stream",
          "text": [
            "#405 : [37 ms] train: 0.000256\n",
            "#406 : [29 ms] train: 0.000256\n",
            "#407 : [30 ms] train: 0.000256\n",
            "#408 : [31 ms] train: 0.000256\n",
            "#409 : [38 ms] train: 0.000256\n",
            "#410 : [33 ms] train: 0.000255\n",
            "#411 : [36 ms] train: 0.000255\n"
          ],
          "name": "stdout"
        },
        {
          "output_type": "stream",
          "text": [
            "\r                                                                               \r\r                                                                               \r\r                                                                               \r\r                                                                               \r\r                                                                               \r\r                                                                               \r\r                                                                               \r"
          ],
          "name": "stderr"
        },
        {
          "output_type": "stream",
          "text": [
            "#412 : [40 ms] train: 0.000255\n",
            "#413 : [31 ms] train: 0.000255\n",
            "#414 : [31 ms] train: 0.000254\n",
            "#415 : [32 ms] train: 0.000254\n",
            "#416 : [33 ms] train: 0.000255\n",
            "#417 : [33 ms] train: 0.000254\n",
            "#418 : [32 ms] train: 0.000254\n"
          ],
          "name": "stdout"
        },
        {
          "output_type": "stream",
          "text": [
            "\r                                                                               \r\r                                                                               \r\r                                                                               \r\r                                                                               \r\r                                                                               \r\r                                                                               \r\r                                                                               \r"
          ],
          "name": "stderr"
        },
        {
          "output_type": "stream",
          "text": [
            "#419 : [37 ms] train: 0.000254\n",
            "#420 : [29 ms] train: 0.000254\n",
            "#421 : [31 ms] train: 0.000254\n",
            "#422 : [36 ms] train: 0.000254\n",
            "#423 : [33 ms] train: 0.000254\n",
            "#424 : [30 ms] train: 0.000253\n",
            "#425 : [32 ms] train: 0.000254\n"
          ],
          "name": "stdout"
        },
        {
          "output_type": "stream",
          "text": [
            "\r                                                                               \r\r                                                                               \r\r                                                                               \r\r                                                                               \r\r                                                                               \r\r                                                                               \r\r                                                                               \r"
          ],
          "name": "stderr"
        },
        {
          "output_type": "stream",
          "text": [
            "#426 : [40 ms] train: 0.000253\n",
            "#427 : [33 ms] train: 0.000253\n",
            "#428 : [31 ms] train: 0.000254\n",
            "#429 : [30 ms] train: 0.000254\n",
            "#430 : [30 ms] train: 0.000254\n",
            "#431 : [31 ms] train: 0.000253\n",
            "#432 : [31 ms] train: 0.000253\n"
          ],
          "name": "stdout"
        },
        {
          "output_type": "stream",
          "text": [
            "\r                                                                               \r\r                                                                               \r\r                                                                               \r\r                                                                               \r\r                                                                               \r\r                                                                               \r\r                                                                               \r"
          ],
          "name": "stderr"
        },
        {
          "output_type": "stream",
          "text": [
            "#433 : [36 ms] train: 0.000253\n",
            "#434 : [31 ms] train: 0.000253\n",
            "#435 : [30 ms] train: 0.000253\n",
            "#436 : [32 ms] train: 0.000253\n",
            "#437 : [32 ms] train: 0.000253\n",
            "#438 : [30 ms] train: 0.000253\n",
            "#439 : [30 ms] train: 0.000253\n"
          ],
          "name": "stdout"
        },
        {
          "output_type": "stream",
          "text": [
            "\r                                                                               \r\r                                                                               \r\r                                                                               \r\r                                                                               \r\r                                                                               \r\r                                                                               \r\r                                                                               \r"
          ],
          "name": "stderr"
        },
        {
          "output_type": "stream",
          "text": [
            "#440 : [43 ms] train: 0.000253\n",
            "#441 : [30 ms] train: 0.000253\n",
            "#442 : [30 ms] train: 0.000252\n",
            "#443 : [30 ms] train: 0.000252\n",
            "#444 : [32 ms] train: 0.000252\n",
            "#445 : [33 ms] train: 0.000253\n",
            "#446 : [30 ms] train: 0.000253\n"
          ],
          "name": "stdout"
        },
        {
          "output_type": "stream",
          "text": [
            "\r                                                                               \r\r                                                                               \r\r                                                                               \r\r                                                                               \r\r                                                                               \r\r                                                                               \r\r                                                                               \r"
          ],
          "name": "stderr"
        },
        {
          "output_type": "stream",
          "text": [
            "#447 : [38 ms] train: 0.000252\n",
            "#448 : [30 ms] train: 0.000253\n",
            "#449 : [29 ms] train: 0.000253\n",
            "#450 : [29 ms] train: 0.000253\n",
            "#451 : [29 ms] train: 0.000252\n",
            "#452 : [33 ms] train: 0.000253\n",
            "#453 : [37 ms] train: 0.000253\n"
          ],
          "name": "stdout"
        },
        {
          "output_type": "stream",
          "text": [
            "\r                                                                               \r\r                                                                               \r\r                                                                               \r\r                                                                               \r\r                                                                               \r\r                                                                               \r\r                                                                               \r"
          ],
          "name": "stderr"
        },
        {
          "output_type": "stream",
          "text": [
            "#454 : [39 ms] train: 0.000252\n",
            "#455 : [29 ms] train: 0.000253\n",
            "#456 : [30 ms] train: 0.000252\n",
            "#457 : [29 ms] train: 0.000252\n",
            "#458 : [30 ms] train: 0.000252\n",
            "#459 : [30 ms] train: 0.000253\n",
            "#460 : [31 ms] train: 0.000253\n"
          ],
          "name": "stdout"
        },
        {
          "output_type": "stream",
          "text": [
            "\r                                                                               \r\r                                                                               \r\r                                                                               \r\r                                                                               \r\r                                                                               \r\r                                                                               \r\r                                                                               \r"
          ],
          "name": "stderr"
        },
        {
          "output_type": "stream",
          "text": [
            "#461 : [39 ms] train: 0.000253\n",
            "#462 : [31 ms] train: 0.000252\n",
            "#463 : [30 ms] train: 0.000252\n",
            "#464 : [30 ms] train: 0.000252\n",
            "#465 : [30 ms] train: 0.000253\n",
            "#466 : [30 ms] train: 0.000252\n",
            "#467 : [31 ms] train: 0.000253\n"
          ],
          "name": "stdout"
        },
        {
          "output_type": "stream",
          "text": [
            "\r                                                                               \r\r                                                                               \r\r                                                                               \r\r                                                                               \r\r                                                                               \r\r                                                                               \r\r                                                                               \r"
          ],
          "name": "stderr"
        },
        {
          "output_type": "stream",
          "text": [
            "#468 : [38 ms] train: 0.000252\n",
            "#469 : [34 ms] train: 0.000253\n",
            "#470 : [32 ms] train: 0.000252\n",
            "#471 : [38 ms] train: 0.000252\n",
            "#472 : [30 ms] train: 0.000252\n",
            "#473 : [29 ms] train: 0.000252\n",
            "#474 : [32 ms] train: 0.000252\n"
          ],
          "name": "stdout"
        },
        {
          "output_type": "stream",
          "text": [
            "\r                                                                               \r\r                                                                               \r\r                                                                               \r\r                                                                               \r\r                                                                               \r\r                                                                               \r\r                                                                               \r"
          ],
          "name": "stderr"
        },
        {
          "output_type": "stream",
          "text": [
            "#475 : [37 ms] train: 0.000253\n",
            "#476 : [35 ms] train: 0.000252\n",
            "#477 : [32 ms] train: 0.000252\n",
            "#478 : [32 ms] train: 0.000252\n",
            "#479 : [30 ms] train: 0.000253\n",
            "#480 : [30 ms] train: 0.000253\n",
            "#481 : [30 ms] train: 0.000252\n"
          ],
          "name": "stdout"
        },
        {
          "output_type": "stream",
          "text": [
            "\r                                                                               \r\r                                                                               \r\r                                                                               \r\r                                                                               \r\r                                                                               \r\r                                                                               \r\r                                                                               \r"
          ],
          "name": "stderr"
        },
        {
          "output_type": "stream",
          "text": [
            "#482 : [36 ms] train: 0.000252\n",
            "#483 : [31 ms] train: 0.000253\n",
            "#484 : [34 ms] train: 0.000252\n",
            "#485 : [30 ms] train: 0.000252\n",
            "#486 : [30 ms] train: 0.000253\n",
            "#487 : [30 ms] train: 0.000253\n",
            "#488 : [30 ms] train: 0.000252\n"
          ],
          "name": "stdout"
        },
        {
          "output_type": "stream",
          "text": [
            "\r                                                                               \r\r                                                                               \r\r                                                                               \r\r                                                                               \r\r                                                                               \r\r                                                                               \r\r                                                                               \r"
          ],
          "name": "stderr"
        },
        {
          "output_type": "stream",
          "text": [
            "#489 : [37 ms] train: 0.000252\n",
            "#490 : [31 ms] train: 0.000253\n",
            "#491 : [31 ms] train: 0.000253\n",
            "#492 : [40 ms] train: 0.000252\n",
            "#493 : [35 ms] train: 0.000252\n",
            "#494 : [30 ms] train: 0.000253\n",
            "#495 : [30 ms] train: 0.000253\n",
            "#496 : [36 ms] train: 0.000253\n",
            "#497 : [30 ms] train: 0.000252\n",
            "#498 : [30 ms] train: 0.000253\n",
            "#499 : [32 ms] train: 0.000252\n",
            "#500 : [32 ms] train: 0.000253\n"
          ],
          "name": "stdout"
        },
        {
          "output_type": "stream",
          "text": [
            "\r                                                                               \r\r                                                                               \r\r                                                                               \r\r                                                                               \r\r                                                                               \r"
          ],
          "name": "stderr"
        }
      ]
    },
    {
      "cell_type": "code",
      "metadata": {
        "colab": {
          "base_uri": "https://localhost:8080/"
        },
        "id": "X03av7bVk6WO",
        "outputId": "b66b1ab7-cc26-42f6-b3b9-a6112d1cf816"
      },
      "source": [
        "# Modelo 05\r\n",
        "gng_model5 = create_gng(n_features=len(iris_x.columns),\r\n",
        "                           n_start_nodes=2,\r\n",
        "                           epsilon_b=0.05,\r\n",
        "                           epsilon_n=0.0006,\r\n",
        "                           max_age=400,\r\n",
        "                           lambda_=500,\r\n",
        "                           beta=0.05,\r\n",
        "                           alpha=0.5,\r\n",
        "                           max_nodes=400,\r\n",
        "                           verbose=True)\r\n",
        "\r\n",
        "gng_model5.train(iris_x, epochs=500)"
      ],
      "execution_count": 49,
      "outputs": [
        {
          "output_type": "stream",
          "text": [
            "\r                                                                               \r\r                                                                               \r\r                                                                               \r\r                                                                               \r\r                                                                               \r"
          ],
          "name": "stderr"
        },
        {
          "output_type": "stream",
          "text": [
            "\n",
            "Main information\n",
            "\n",
            "[ALGORITHM] GrowingNeuralGas\n",
            "\r\n",
            "[OPTION] after_split_error_decay_rate = 0.5\n",
            "[OPTION] error_decay_rate = 0.05\n",
            "[OPTION] max_edge_age = 400\n",
            "[OPTION] max_nodes = 400\n",
            "[OPTION] min_distance_for_update = 0.01\n",
            "[OPTION] n_inputs = 4\n",
            "[OPTION] n_iter_before_neuron_added = 500\n",
            "[OPTION] n_start_nodes = 2\n",
            "[OPTION] neighbour_step = 0.0006\n",
            "[OPTION] show_epoch = 1\n",
            "[OPTION] shuffle_data = True\n",
            "[OPTION] signals = None\n",
            "[OPTION] step = 0.05\n",
            "[OPTION] verbose = True\n",
            "\r\n",
            "#1 : [15 ms] train: 1.484376\n",
            "#2 : [13 ms] train: 1.104143\n",
            "#3 : [10 ms] train: 1.085747\n",
            "#4 : [12 ms] train: 1.010617\n",
            "#5 : [13 ms] train: 0.892778\n",
            "#6 : [17 ms] train: 0.877450\n",
            "#7 : [17 ms] train: 0.874903\n",
            "#8 : [18 ms] train: 0.869825\n",
            "#9 : [18 ms] train: 0.849179\n",
            "#10 : [15 ms] train: 0.821259\n",
            "#11 : [19 ms] train: 0.793512\n",
            "#12 : [18 ms] train: 0.791516\n",
            "#13 : [17 ms] train: 0.791724\n",
            "#14 : [21 ms] train: 0.766955\n",
            "#15 : [18 ms] train: 0.755101\n"
          ],
          "name": "stdout"
        },
        {
          "output_type": "stream",
          "text": [
            "\r                                                                               \r\r                                                                               \r\r                                                                               \r\r                                                                               \r\r                                                                               \r\r                                                                               \r\r                                                                               \r\r                                                                               \r\r                                                                               \r\r                                                                               \r\r                                                                               \r\r                                                                               \r\r                                                                               \r\r                                                                               \r\r                                                                               \r"
          ],
          "name": "stderr"
        },
        {
          "output_type": "stream",
          "text": [
            "#16 : [21 ms] train: 0.752541\n",
            "#17 : [17 ms] train: 0.747394\n",
            "#18 : [19 ms] train: 0.723736\n",
            "#19 : [20 ms] train: 0.706650\n",
            "#20 : [16 ms] train: 0.697081\n",
            "#21 : [19 ms] train: 0.678651\n",
            "#22 : [17 ms] train: 0.673665\n",
            "#23 : [18 ms] train: 0.667515\n",
            "#24 : [21 ms] train: 0.665060\n",
            "#25 : [19 ms] train: 0.653560\n",
            "#26 : [20 ms] train: 0.650560\n",
            "#27 : [20 ms] train: 0.648316\n",
            "#28 : [20 ms] train: 0.640823\n",
            "#29 : [21 ms] train: 0.642196\n"
          ],
          "name": "stdout"
        },
        {
          "output_type": "stream",
          "text": [
            "\r                                                                               \r\r                                                                               \r\r                                                                               \r\r                                                                               \r\r                                                                               \r\r                                                                               \r\r                                                                               \r\r                                                                               \r\r                                                                               \r\r                                                                               \r\r                                                                               \r"
          ],
          "name": "stderr"
        },
        {
          "output_type": "stream",
          "text": [
            "#30 : [24 ms] train: 0.639061\n",
            "#31 : [23 ms] train: 0.612023\n",
            "#32 : [25 ms] train: 0.565432\n",
            "#33 : [21 ms] train: 0.549265\n",
            "#34 : [19 ms] train: 0.544827\n",
            "#35 : [18 ms] train: 0.542048\n",
            "#36 : [18 ms] train: 0.541873\n",
            "#37 : [14 ms] train: 0.534977\n",
            "#38 : [13 ms] train: 0.530440\n",
            "#39 : [16 ms] train: 0.524488\n",
            "#40 : [17 ms] train: 0.513017\n",
            "#41 : [12 ms] train: 0.517443\n"
          ],
          "name": "stdout"
        },
        {
          "output_type": "stream",
          "text": [
            "\r                                                                               \r\r                                                                               \r\r                                                                               \r\r                                                                               \r\r                                                                               \r\r                                                                               \r\r                                                                               \r\r                                                                               \r\r                                                                               \r\r                                                                               \r\r                                                                               \r\r                                                                               \r\r                                                                               \r\r                                                                               \r\r                                                                               \r\r                                                                               \r\r                                                                               \r\r                                                                               \r\r                                                                               \r"
          ],
          "name": "stderr"
        },
        {
          "output_type": "stream",
          "text": [
            "#42 : [21 ms] train: 0.513592\n",
            "#43 : [10 ms] train: 0.509441\n",
            "#44 : [11 ms] train: 0.506128\n",
            "#45 : [11 ms] train: 0.503170\n",
            "#46 : [9 ms] train: 0.501651\n",
            "#47 : [9 ms] train: 0.498454\n",
            "#48 : [10 ms] train: 0.485564\n",
            "#49 : [10 ms] train: 0.483888\n",
            "#50 : [10 ms] train: 0.478614\n",
            "#51 : [16 ms] train: 0.475439\n",
            "#52 : [15 ms] train: 0.471526\n",
            "#53 : [14 ms] train: 0.471549\n",
            "#54 : [12 ms] train: 0.467362\n",
            "#55 : [10 ms] train: 0.462401\n",
            "#56 : [13 ms] train: 0.461838\n",
            "#57 : [18 ms] train: 0.447390\n",
            "#58 : [14 ms] train: 0.415049\n"
          ],
          "name": "stdout"
        },
        {
          "output_type": "stream",
          "text": [
            "\r                                                                               \r\r                                                                               \r\r                                                                               \r\r                                                                               \r\r                                                                               \r\r                                                                               \r\r                                                                               \r\r                                                                               \r\r                                                                               \r\r                                                                               \r\r                                                                               \r\r                                                                               \r\r                                                                               \r\r                                                                               \r\r                                                                               \r\r                                                                               \r"
          ],
          "name": "stderr"
        },
        {
          "output_type": "stream",
          "text": [
            "#59 : [14 ms] train: 0.411311\n",
            "#60 : [10 ms] train: 0.408296\n",
            "#61 : [10 ms] train: 0.406584\n",
            "#62 : [10 ms] train: 0.404974\n",
            "#63 : [10 ms] train: 0.403603\n",
            "#64 : [16 ms] train: 0.403642\n",
            "#65 : [12 ms] train: 0.402372\n",
            "#66 : [19 ms] train: 0.401061\n",
            "#67 : [19 ms] train: 0.396325\n",
            "#68 : [13 ms] train: 0.389324\n",
            "#69 : [14 ms] train: 0.386780\n",
            "#70 : [14 ms] train: 0.384906\n",
            "#71 : [11 ms] train: 0.381953\n",
            "#72 : [11 ms] train: 0.379185\n",
            "#73 : [13 ms] train: 0.376711\n",
            "#74 : [10 ms] train: 0.373082\n"
          ],
          "name": "stdout"
        },
        {
          "output_type": "stream",
          "text": [
            "\r                                                                               \r\r                                                                               \r\r                                                                               \r\r                                                                               \r\r                                                                               \r\r                                                                               \r\r                                                                               \r\r                                                                               \r\r                                                                               \r\r                                                                               \r\r                                                                               \r\r                                                                               \r\r                                                                               \r\r                                                                               \r\r                                                                               \r\r                                                                               \r\r                                                                               \r"
          ],
          "name": "stderr"
        },
        {
          "output_type": "stream",
          "text": [
            "#75 : [15 ms] train: 0.370499\n",
            "#76 : [11 ms] train: 0.370984\n",
            "#77 : [10 ms] train: 0.366967\n",
            "#78 : [10 ms] train: 0.365629\n",
            "#79 : [11 ms] train: 0.365077\n",
            "#80 : [11 ms] train: 0.363169\n",
            "#81 : [11 ms] train: 0.357269\n",
            "#82 : [11 ms] train: 0.353925\n",
            "#83 : [12 ms] train: 0.353509\n",
            "#84 : [13 ms] train: 0.353126\n",
            "#85 : [16 ms] train: 0.351567\n",
            "#86 : [13 ms] train: 0.351212\n",
            "#87 : [15 ms] train: 0.349845\n",
            "#88 : [19 ms] train: 0.345662\n",
            "#89 : [11 ms] train: 0.344391\n",
            "#90 : [16 ms] train: 0.343653\n"
          ],
          "name": "stdout"
        },
        {
          "output_type": "stream",
          "text": [
            "\r                                                                               \r\r                                                                               \r\r                                                                               \r\r                                                                               \r\r                                                                               \r\r                                                                               \r\r                                                                               \r\r                                                                               \r\r                                                                               \r\r                                                                               \r\r                                                                               \r\r                                                                               \r\r                                                                               \r\r                                                                               \r\r                                                                               \r"
          ],
          "name": "stderr"
        },
        {
          "output_type": "stream",
          "text": [
            "#91 : [18 ms] train: 0.339626\n",
            "#92 : [11 ms] train: 0.337168\n",
            "#93 : [12 ms] train: 0.336249\n",
            "#94 : [12 ms] train: 0.334422\n",
            "#95 : [12 ms] train: 0.335296\n",
            "#96 : [14 ms] train: 0.334434\n",
            "#97 : [12 ms] train: 0.334155\n",
            "#98 : [14 ms] train: 0.332113\n",
            "#99 : [21 ms] train: 0.332504\n",
            "#100 : [19 ms] train: 0.332873\n",
            "#101 : [13 ms] train: 0.332083\n",
            "#102 : [13 ms] train: 0.331425\n",
            "#103 : [16 ms] train: 0.331717\n",
            "#104 : [12 ms] train: 0.331139\n",
            "#105 : [14 ms] train: 0.331228\n"
          ],
          "name": "stdout"
        },
        {
          "output_type": "stream",
          "text": [
            "\r                                                                               \r\r                                                                               \r\r                                                                               \r\r                                                                               \r\r                                                                               \r\r                                                                               \r\r                                                                               \r\r                                                                               \r\r                                                                               \r\r                                                                               \r\r                                                                               \r\r                                                                               \r\r                                                                               \r\r                                                                               \r\r                                                                               \r\r                                                                               \r"
          ],
          "name": "stderr"
        },
        {
          "output_type": "stream",
          "text": [
            "#106 : [15 ms] train: 0.329671\n",
            "#107 : [12 ms] train: 0.328959\n",
            "#108 : [11 ms] train: 0.327548\n",
            "#109 : [11 ms] train: 0.326679\n",
            "#110 : [11 ms] train: 0.324977\n",
            "#111 : [11 ms] train: 0.322502\n",
            "#112 : [11 ms] train: 0.320603\n",
            "#113 : [12 ms] train: 0.320164\n",
            "#114 : [11 ms] train: 0.317331\n",
            "#115 : [17 ms] train: 0.316978\n",
            "#116 : [14 ms] train: 0.315780\n",
            "#117 : [16 ms] train: 0.314573\n",
            "#118 : [15 ms] train: 0.313901\n",
            "#119 : [17 ms] train: 0.313934\n",
            "#120 : [14 ms] train: 0.312816\n",
            "#121 : [12 ms] train: 0.309015\n"
          ],
          "name": "stdout"
        },
        {
          "output_type": "stream",
          "text": [
            "\r                                                                               \r\r                                                                               \r\r                                                                               \r\r                                                                               \r\r                                                                               \r\r                                                                               \r\r                                                                               \r\r                                                                               \r\r                                                                               \r\r                                                                               \r\r                                                                               \r\r                                                                               \r\r                                                                               \r\r                                                                               \r\r                                                                               \r"
          ],
          "name": "stderr"
        },
        {
          "output_type": "stream",
          "text": [
            "#122 : [16 ms] train: 0.307994\n",
            "#123 : [14 ms] train: 0.307056\n",
            "#124 : [12 ms] train: 0.304888\n",
            "#125 : [12 ms] train: 0.303453\n",
            "#126 : [14 ms] train: 0.303259\n",
            "#127 : [12 ms] train: 0.302131\n",
            "#128 : [17 ms] train: 0.300672\n",
            "#129 : [12 ms] train: 0.300143\n",
            "#130 : [15 ms] train: 0.298520\n",
            "#131 : [12 ms] train: 0.297195\n",
            "#132 : [15 ms] train: 0.297433\n",
            "#133 : [13 ms] train: 0.296507\n",
            "#134 : [18 ms] train: 0.295834\n",
            "#135 : [12 ms] train: 0.293319\n",
            "#136 : [14 ms] train: 0.293866\n"
          ],
          "name": "stdout"
        },
        {
          "output_type": "stream",
          "text": [
            "\r                                                                               \r\r                                                                               \r\r                                                                               \r\r                                                                               \r\r                                                                               \r\r                                                                               \r\r                                                                               \r\r                                                                               \r\r                                                                               \r\r                                                                               \r\r                                                                               \r\r                                                                               \r\r                                                                               \r\r                                                                               \r"
          ],
          "name": "stderr"
        },
        {
          "output_type": "stream",
          "text": [
            "#137 : [16 ms] train: 0.293317\n",
            "#138 : [13 ms] train: 0.292830\n",
            "#139 : [19 ms] train: 0.292850\n",
            "#140 : [17 ms] train: 0.291996\n",
            "#141 : [14 ms] train: 0.291791\n",
            "#142 : [14 ms] train: 0.291599\n",
            "#143 : [14 ms] train: 0.290757\n",
            "#144 : [17 ms] train: 0.290073\n",
            "#145 : [13 ms] train: 0.288966\n",
            "#146 : [13 ms] train: 0.288273\n",
            "#147 : [13 ms] train: 0.287914\n",
            "#148 : [17 ms] train: 0.286205\n",
            "#149 : [13 ms] train: 0.285760\n",
            "#150 : [14 ms] train: 0.284935\n"
          ],
          "name": "stdout"
        },
        {
          "output_type": "stream",
          "text": [
            "\r                                                                               \r\r                                                                               \r\r                                                                               \r\r                                                                               \r\r                                                                               \r\r                                                                               \r\r                                                                               \r\r                                                                               \r\r                                                                               \r\r                                                                               \r\r                                                                               \r\r                                                                               \r\r                                                                               \r\r                                                                               \r\r                                                                               \r"
          ],
          "name": "stderr"
        },
        {
          "output_type": "stream",
          "text": [
            "#151 : [19 ms] train: 0.282461\n",
            "#152 : [13 ms] train: 0.282300\n",
            "#153 : [12 ms] train: 0.281007\n",
            "#154 : [14 ms] train: 0.279478\n",
            "#155 : [13 ms] train: 0.277462\n",
            "#156 : [14 ms] train: 0.275611\n",
            "#157 : [14 ms] train: 0.275011\n",
            "#158 : [12 ms] train: 0.271520\n",
            "#159 : [16 ms] train: 0.270315\n",
            "#160 : [13 ms] train: 0.269530\n",
            "#161 : [15 ms] train: 0.267843\n",
            "#162 : [13 ms] train: 0.266392\n",
            "#163 : [17 ms] train: 0.266181\n",
            "#164 : [13 ms] train: 0.264685\n",
            "#165 : [14 ms] train: 0.263697\n"
          ],
          "name": "stdout"
        },
        {
          "output_type": "stream",
          "text": [
            "\r                                                                               \r\r                                                                               \r\r                                                                               \r\r                                                                               \r\r                                                                               \r\r                                                                               \r\r                                                                               \r\r                                                                               \r\r                                                                               \r\r                                                                               \r\r                                                                               \r\r                                                                               \r\r                                                                               \r\r                                                                               \r"
          ],
          "name": "stderr"
        },
        {
          "output_type": "stream",
          "text": [
            "#166 : [18 ms] train: 0.262873\n",
            "#167 : [15 ms] train: 0.261714\n",
            "#168 : [14 ms] train: 0.261278\n",
            "#169 : [13 ms] train: 0.260335\n",
            "#170 : [14 ms] train: 0.260490\n",
            "#171 : [17 ms] train: 0.259481\n",
            "#172 : [18 ms] train: 0.260133\n",
            "#173 : [19 ms] train: 0.260239\n",
            "#174 : [16 ms] train: 0.258365\n",
            "#175 : [15 ms] train: 0.257962\n",
            "#176 : [17 ms] train: 0.257333\n",
            "#177 : [14 ms] train: 0.256802\n",
            "#178 : [14 ms] train: 0.255744\n"
          ],
          "name": "stdout"
        },
        {
          "output_type": "stream",
          "text": [
            "\r                                                                               \r\r                                                                               \r\r                                                                               \r\r                                                                               \r\r                                                                               \r\r                                                                               \r\r                                                                               \r\r                                                                               \r\r                                                                               \r\r                                                                               \r\r                                                                               \r\r                                                                               \r\r                                                                               \r\r                                                                               \r"
          ],
          "name": "stderr"
        },
        {
          "output_type": "stream",
          "text": [
            "#179 : [15 ms] train: 0.255699\n",
            "#180 : [16 ms] train: 0.255409\n",
            "#181 : [14 ms] train: 0.253613\n",
            "#182 : [15 ms] train: 0.251062\n",
            "#183 : [14 ms] train: 0.248555\n",
            "#184 : [14 ms] train: 0.247739\n",
            "#185 : [14 ms] train: 0.246093\n",
            "#186 : [13 ms] train: 0.244405\n",
            "#187 : [18 ms] train: 0.243828\n",
            "#188 : [16 ms] train: 0.242259\n",
            "#189 : [18 ms] train: 0.241043\n",
            "#190 : [18 ms] train: 0.241293\n",
            "#191 : [14 ms] train: 0.240083\n",
            "#192 : [14 ms] train: 0.239050\n"
          ],
          "name": "stdout"
        },
        {
          "output_type": "stream",
          "text": [
            "\r                                                                               \r\r                                                                               \r\r                                                                               \r\r                                                                               \r\r                                                                               \r\r                                                                               \r\r                                                                               \r\r                                                                               \r\r                                                                               \r\r                                                                               \r\r                                                                               \r\r                                                                               \r\r                                                                               \r"
          ],
          "name": "stderr"
        },
        {
          "output_type": "stream",
          "text": [
            "#193 : [18 ms] train: 0.238787\n",
            "#194 : [14 ms] train: 0.237623\n",
            "#195 : [14 ms] train: 0.236069\n",
            "#196 : [14 ms] train: 0.235010\n",
            "#197 : [15 ms] train: 0.233972\n",
            "#198 : [14 ms] train: 0.232896\n",
            "#199 : [16 ms] train: 0.231783\n",
            "#200 : [17 ms] train: 0.232041\n",
            "#201 : [16 ms] train: 0.230257\n",
            "#202 : [15 ms] train: 0.228951\n",
            "#203 : [20 ms] train: 0.228684\n",
            "#204 : [19 ms] train: 0.228578\n"
          ],
          "name": "stdout"
        },
        {
          "output_type": "stream",
          "text": [
            "\r                                                                               \r\r                                                                               \r\r                                                                               \r\r                                                                               \r\r                                                                               \r\r                                                                               \r\r                                                                               \r\r                                                                               \r\r                                                                               \r\r                                                                               \r\r                                                                               \r"
          ],
          "name": "stderr"
        },
        {
          "output_type": "stream",
          "text": [
            "#205 : [26 ms] train: 0.227941\n",
            "#206 : [21 ms] train: 0.228001\n",
            "#207 : [16 ms] train: 0.227065\n",
            "#208 : [17 ms] train: 0.226265\n",
            "#209 : [17 ms] train: 0.226160\n",
            "#210 : [17 ms] train: 0.225177\n",
            "#211 : [18 ms] train: 0.225766\n",
            "#212 : [19 ms] train: 0.225224\n",
            "#213 : [15 ms] train: 0.224992\n",
            "#214 : [16 ms] train: 0.224410\n",
            "#215 : [19 ms] train: 0.223953\n",
            "#216 : [15 ms] train: 0.223701\n",
            "#217 : [15 ms] train: 0.223163\n"
          ],
          "name": "stdout"
        },
        {
          "output_type": "stream",
          "text": [
            "\r                                                                               \r\r                                                                               \r\r                                                                               \r\r                                                                               \r\r                                                                               \r\r                                                                               \r\r                                                                               \r\r                                                                               \r\r                                                                               \r\r                                                                               \r\r                                                                               \r\r                                                                               \r\r                                                                               \r"
          ],
          "name": "stderr"
        },
        {
          "output_type": "stream",
          "text": [
            "#218 : [17 ms] train: 0.223161\n",
            "#219 : [16 ms] train: 0.222764\n",
            "#220 : [15 ms] train: 0.222636\n",
            "#221 : [16 ms] train: 0.221870\n",
            "#222 : [16 ms] train: 0.220775\n",
            "#223 : [17 ms] train: 0.219864\n",
            "#224 : [19 ms] train: 0.218773\n",
            "#225 : [15 ms] train: 0.218369\n",
            "#226 : [15 ms] train: 0.217662\n",
            "#227 : [15 ms] train: 0.216849\n",
            "#228 : [19 ms] train: 0.216047\n",
            "#229 : [15 ms] train: 0.215486\n",
            "#230 : [15 ms] train: 0.214901\n"
          ],
          "name": "stdout"
        },
        {
          "output_type": "stream",
          "text": [
            "\r                                                                               \r\r                                                                               \r\r                                                                               \r\r                                                                               \r\r                                                                               \r\r                                                                               \r\r                                                                               \r\r                                                                               \r\r                                                                               \r\r                                                                               \r\r                                                                               \r\r                                                                               \r\r                                                                               \r"
          ],
          "name": "stderr"
        },
        {
          "output_type": "stream",
          "text": [
            "#231 : [19 ms] train: 0.212949\n",
            "#232 : [15 ms] train: 0.212905\n",
            "#233 : [15 ms] train: 0.211400\n",
            "#234 : [15 ms] train: 0.210283\n",
            "#235 : [15 ms] train: 0.208058\n",
            "#236 : [16 ms] train: 0.206942\n",
            "#237 : [21 ms] train: 0.205671\n",
            "#238 : [15 ms] train: 0.204566\n",
            "#239 : [16 ms] train: 0.203204\n",
            "#240 : [16 ms] train: 0.202685\n",
            "#241 : [20 ms] train: 0.199255\n",
            "#242 : [15 ms] train: 0.197419\n",
            "#243 : [16 ms] train: 0.196099\n"
          ],
          "name": "stdout"
        },
        {
          "output_type": "stream",
          "text": [
            "\r                                                                               \r\r                                                                               \r\r                                                                               \r\r                                                                               \r\r                                                                               \r\r                                                                               \r\r                                                                               \r\r                                                                               \r\r                                                                               \r\r                                                                               \r\r                                                                               \r\r                                                                               \r\r                                                                               \r"
          ],
          "name": "stderr"
        },
        {
          "output_type": "stream",
          "text": [
            "#244 : [20 ms] train: 0.194549\n",
            "#245 : [15 ms] train: 0.193309\n",
            "#246 : [16 ms] train: 0.192015\n",
            "#247 : [16 ms] train: 0.191605\n",
            "#248 : [16 ms] train: 0.190555\n",
            "#249 : [16 ms] train: 0.189573\n",
            "#250 : [21 ms] train: 0.188980\n",
            "#251 : [19 ms] train: 0.187951\n",
            "#252 : [22 ms] train: 0.186697\n",
            "#253 : [24 ms] train: 0.186202\n",
            "#254 : [20 ms] train: 0.185743\n"
          ],
          "name": "stdout"
        },
        {
          "output_type": "stream",
          "text": [
            "\r                                                                               \r\r                                                                               \r\r                                                                               \r\r                                                                               \r\r                                                                               \r\r                                                                               \r\r                                                                               \r\r                                                                               \r\r                                                                               \r\r                                                                               \r\r                                                                               \r"
          ],
          "name": "stderr"
        },
        {
          "output_type": "stream",
          "text": [
            "#255 : [21 ms] train: 0.185113\n",
            "#256 : [18 ms] train: 0.184450\n",
            "#257 : [16 ms] train: 0.183681\n",
            "#258 : [16 ms] train: 0.183043\n",
            "#259 : [16 ms] train: 0.182233\n",
            "#260 : [16 ms] train: 0.181965\n",
            "#261 : [20 ms] train: 0.181215\n",
            "#262 : [16 ms] train: 0.180712\n",
            "#263 : [19 ms] train: 0.180076\n",
            "#264 : [23 ms] train: 0.180046\n",
            "#265 : [18 ms] train: 0.179462\n",
            "#266 : [16 ms] train: 0.179178\n"
          ],
          "name": "stdout"
        },
        {
          "output_type": "stream",
          "text": [
            "\r                                                                               \r\r                                                                               \r\r                                                                               \r\r                                                                               \r\r                                                                               \r\r                                                                               \r\r                                                                               \r\r                                                                               \r\r                                                                               \r\r                                                                               \r\r                                                                               \r"
          ],
          "name": "stderr"
        },
        {
          "output_type": "stream",
          "text": [
            "#267 : [21 ms] train: 0.178552\n",
            "#268 : [18 ms] train: 0.177965\n",
            "#269 : [17 ms] train: 0.177541\n",
            "#270 : [19 ms] train: 0.177436\n",
            "#271 : [18 ms] train: 0.177386\n",
            "#272 : [22 ms] train: 0.176606\n",
            "#273 : [17 ms] train: 0.176469\n",
            "#274 : [16 ms] train: 0.176077\n",
            "#275 : [16 ms] train: 0.175815\n",
            "#276 : [20 ms] train: 0.175399\n",
            "#277 : [16 ms] train: 0.174754\n",
            "#278 : [17 ms] train: 0.174411\n"
          ],
          "name": "stdout"
        },
        {
          "output_type": "stream",
          "text": [
            "\r                                                                               \r\r                                                                               \r\r                                                                               \r\r                                                                               \r\r                                                                               \r\r                                                                               \r\r                                                                               \r\r                                                                               \r\r                                                                               \r\r                                                                               \r\r                                                                               \r\r                                                                               \r"
          ],
          "name": "stderr"
        },
        {
          "output_type": "stream",
          "text": [
            "#279 : [20 ms] train: 0.174410\n",
            "#280 : [17 ms] train: 0.173878\n",
            "#281 : [16 ms] train: 0.172860\n",
            "#282 : [18 ms] train: 0.172008\n",
            "#283 : [16 ms] train: 0.171621\n",
            "#284 : [22 ms] train: 0.171317\n",
            "#285 : [16 ms] train: 0.170759\n",
            "#286 : [17 ms] train: 0.169851\n",
            "#287 : [16 ms] train: 0.169877\n",
            "#288 : [21 ms] train: 0.169508\n",
            "#289 : [17 ms] train: 0.169024\n",
            "#290 : [17 ms] train: 0.168817\n"
          ],
          "name": "stdout"
        },
        {
          "output_type": "stream",
          "text": [
            "\r                                                                               \r\r                                                                               \r\r                                                                               \r\r                                                                               \r\r                                                                               \r\r                                                                               \r\r                                                                               \r\r                                                                               \r\r                                                                               \r\r                                                                               \r\r                                                                               \r\r                                                                               \r"
          ],
          "name": "stderr"
        },
        {
          "output_type": "stream",
          "text": [
            "#291 : [21 ms] train: 0.168211\n",
            "#292 : [16 ms] train: 0.168031\n",
            "#293 : [17 ms] train: 0.167742\n",
            "#294 : [17 ms] train: 0.167435\n",
            "#295 : [17 ms] train: 0.167603\n",
            "#296 : [21 ms] train: 0.166997\n",
            "#297 : [19 ms] train: 0.166952\n",
            "#298 : [17 ms] train: 0.166531\n",
            "#299 : [21 ms] train: 0.166402\n",
            "#300 : [19 ms] train: 0.166012\n",
            "#301 : [17 ms] train: 0.165863\n"
          ],
          "name": "stdout"
        },
        {
          "output_type": "stream",
          "text": [
            "\r                                                                               \r\r                                                                               \r\r                                                                               \r\r                                                                               \r\r                                                                               \r\r                                                                               \r\r                                                                               \r\r                                                                               \r\r                                                                               \r\r                                                                               \r\r                                                                               \r"
          ],
          "name": "stderr"
        },
        {
          "output_type": "stream",
          "text": [
            "#302 : [20 ms] train: 0.165838\n",
            "#303 : [19 ms] train: 0.165526\n",
            "#304 : [18 ms] train: 0.165758\n",
            "#305 : [18 ms] train: 0.165654\n",
            "#306 : [17 ms] train: 0.165200\n",
            "#307 : [21 ms] train: 0.165273\n",
            "#308 : [18 ms] train: 0.164933\n",
            "#309 : [18 ms] train: 0.164304\n",
            "#310 : [20 ms] train: 0.163957\n",
            "#311 : [20 ms] train: 0.163312\n",
            "#312 : [20 ms] train: 0.162997\n"
          ],
          "name": "stdout"
        },
        {
          "output_type": "stream",
          "text": [
            "\r                                                                               \r\r                                                                               \r\r                                                                               \r\r                                                                               \r\r                                                                               \r\r                                                                               \r\r                                                                               \r\r                                                                               \r\r                                                                               \r\r                                                                               \r\r                                                                               \r"
          ],
          "name": "stderr"
        },
        {
          "output_type": "stream",
          "text": [
            "#313 : [23 ms] train: 0.162641\n",
            "#314 : [18 ms] train: 0.160566\n",
            "#315 : [17 ms] train: 0.159994\n",
            "#316 : [17 ms] train: 0.159883\n",
            "#317 : [18 ms] train: 0.159263\n",
            "#318 : [27 ms] train: 0.158773\n",
            "#319 : [18 ms] train: 0.157450\n",
            "#320 : [17 ms] train: 0.156719\n",
            "#321 : [22 ms] train: 0.155583\n",
            "#322 : [17 ms] train: 0.154828\n",
            "#323 : [17 ms] train: 0.154113\n"
          ],
          "name": "stdout"
        },
        {
          "output_type": "stream",
          "text": [
            "\r                                                                               \r\r                                                                               \r\r                                                                               \r\r                                                                               \r\r                                                                               \r\r                                                                               \r\r                                                                               \r\r                                                                               \r\r                                                                               \r\r                                                                               \r\r                                                                               \r"
          ],
          "name": "stderr"
        },
        {
          "output_type": "stream",
          "text": [
            "#324 : [28 ms] train: 0.153360\n",
            "#325 : [18 ms] train: 0.152101\n",
            "#326 : [18 ms] train: 0.151445\n",
            "#327 : [19 ms] train: 0.150107\n",
            "#328 : [18 ms] train: 0.149469\n",
            "#329 : [23 ms] train: 0.148683\n",
            "#330 : [18 ms] train: 0.148221\n",
            "#331 : [19 ms] train: 0.147452\n",
            "#332 : [22 ms] train: 0.147068\n",
            "#333 : [17 ms] train: 0.146754\n",
            "#334 : [18 ms] train: 0.146007\n"
          ],
          "name": "stdout"
        },
        {
          "output_type": "stream",
          "text": [
            "\r                                                                               \r\r                                                                               \r\r                                                                               \r\r                                                                               \r\r                                                                               \r\r                                                                               \r\r                                                                               \r\r                                                                               \r\r                                                                               \r\r                                                                               \r\r                                                                               \r"
          ],
          "name": "stderr"
        },
        {
          "output_type": "stream",
          "text": [
            "#335 : [20 ms] train: 0.144677\n",
            "#336 : [18 ms] train: 0.143980\n",
            "#337 : [21 ms] train: 0.143139\n",
            "#338 : [24 ms] train: 0.142171\n",
            "#339 : [21 ms] train: 0.141683\n",
            "#340 : [24 ms] train: 0.140844\n",
            "#341 : [18 ms] train: 0.140288\n",
            "#342 : [19 ms] train: 0.139584\n",
            "#343 : [20 ms] train: 0.139097\n",
            "#344 : [18 ms] train: 0.138448\n"
          ],
          "name": "stdout"
        },
        {
          "output_type": "stream",
          "text": [
            "\r                                                                               \r\r                                                                               \r\r                                                                               \r\r                                                                               \r\r                                                                               \r\r                                                                               \r\r                                                                               \r\r                                                                               \r\r                                                                               \r\r                                                                               \r"
          ],
          "name": "stderr"
        },
        {
          "output_type": "stream",
          "text": [
            "#345 : [22 ms] train: 0.138159\n",
            "#346 : [24 ms] train: 0.137669\n",
            "#347 : [18 ms] train: 0.137138\n",
            "#348 : [18 ms] train: 0.136909\n",
            "#349 : [20 ms] train: 0.136452\n",
            "#350 : [21 ms] train: 0.136068\n",
            "#351 : [22 ms] train: 0.135936\n",
            "#352 : [23 ms] train: 0.135542\n",
            "#353 : [19 ms] train: 0.135200\n",
            "#354 : [19 ms] train: 0.134474\n"
          ],
          "name": "stdout"
        },
        {
          "output_type": "stream",
          "text": [
            "\r                                                                               \r\r                                                                               \r\r                                                                               \r\r                                                                               \r\r                                                                               \r\r                                                                               \r\r                                                                               \r\r                                                                               \r\r                                                                               \r\r                                                                               \r\r                                                                               \r"
          ],
          "name": "stderr"
        },
        {
          "output_type": "stream",
          "text": [
            "#355 : [22 ms] train: 0.133832\n",
            "#356 : [19 ms] train: 0.133505\n",
            "#357 : [19 ms] train: 0.132890\n",
            "#358 : [20 ms] train: 0.131981\n",
            "#359 : [20 ms] train: 0.131509\n",
            "#360 : [18 ms] train: 0.130872\n",
            "#361 : [21 ms] train: 0.130363\n",
            "#362 : [26 ms] train: 0.129664\n",
            "#363 : [20 ms] train: 0.129383\n",
            "#364 : [20 ms] train: 0.128787\n"
          ],
          "name": "stdout"
        },
        {
          "output_type": "stream",
          "text": [
            "\r                                                                               \r\r                                                                               \r\r                                                                               \r\r                                                                               \r\r                                                                               \r\r                                                                               \r\r                                                                               \r\r                                                                               \r\r                                                                               \r\r                                                                               \r"
          ],
          "name": "stderr"
        },
        {
          "output_type": "stream",
          "text": [
            "#365 : [23 ms] train: 0.127962\n",
            "#366 : [19 ms] train: 0.127383\n",
            "#367 : [25 ms] train: 0.127038\n",
            "#368 : [21 ms] train: 0.126678\n",
            "#369 : [19 ms] train: 0.126330\n",
            "#370 : [20 ms] train: 0.125995\n",
            "#371 : [26 ms] train: 0.125727\n",
            "#372 : [27 ms] train: 0.124744\n",
            "#373 : [23 ms] train: 0.124372\n"
          ],
          "name": "stdout"
        },
        {
          "output_type": "stream",
          "text": [
            "\r                                                                               \r\r                                                                               \r\r                                                                               \r\r                                                                               \r\r                                                                               \r\r                                                                               \r\r                                                                               \r\r                                                                               \r\r                                                                               \r\r                                                                               \r"
          ],
          "name": "stderr"
        },
        {
          "output_type": "stream",
          "text": [
            "#374 : [23 ms] train: 0.123865\n",
            "#375 : [21 ms] train: 0.123565\n",
            "#376 : [20 ms] train: 0.123062\n",
            "#377 : [20 ms] train: 0.122878\n",
            "#378 : [20 ms] train: 0.122594\n",
            "#379 : [20 ms] train: 0.122311\n",
            "#380 : [20 ms] train: 0.121726\n",
            "#381 : [24 ms] train: 0.121284\n",
            "#382 : [24 ms] train: 0.120716\n",
            "#383 : [20 ms] train: 0.120024\n"
          ],
          "name": "stdout"
        },
        {
          "output_type": "stream",
          "text": [
            "\r                                                                               \r\r                                                                               \r\r                                                                               \r\r                                                                               \r\r                                                                               \r\r                                                                               \r\r                                                                               \r\r                                                                               \r\r                                                                               \r\r                                                                               \r"
          ],
          "name": "stderr"
        },
        {
          "output_type": "stream",
          "text": [
            "#384 : [24 ms] train: 0.119371\n",
            "#385 : [19 ms] train: 0.118869\n",
            "#386 : [20 ms] train: 0.118394\n",
            "#387 : [20 ms] train: 0.117974\n",
            "#388 : [22 ms] train: 0.117430\n",
            "#389 : [23 ms] train: 0.116995\n",
            "#390 : [19 ms] train: 0.116625\n",
            "#391 : [24 ms] train: 0.116427\n",
            "#392 : [23 ms] train: 0.116018\n",
            "#393 : [19 ms] train: 0.115723\n"
          ],
          "name": "stdout"
        },
        {
          "output_type": "stream",
          "text": [
            "\r                                                                               \r\r                                                                               \r\r                                                                               \r\r                                                                               \r\r                                                                               \r\r                                                                               \r\r                                                                               \r\r                                                                               \r\r                                                                               \r\r                                                                               \r"
          ],
          "name": "stderr"
        },
        {
          "output_type": "stream",
          "text": [
            "#394 : [24 ms] train: 0.115524\n",
            "#395 : [20 ms] train: 0.115292\n",
            "#396 : [20 ms] train: 0.114970\n",
            "#397 : [21 ms] train: 0.114654\n",
            "#398 : [21 ms] train: 0.114592\n",
            "#399 : [19 ms] train: 0.114478\n",
            "#400 : [20 ms] train: 0.114203\n",
            "#401 : [25 ms] train: 0.113996\n",
            "#402 : [26 ms] train: 0.113534\n",
            "#403 : [25 ms] train: 0.113197\n"
          ],
          "name": "stdout"
        },
        {
          "output_type": "stream",
          "text": [
            "\r                                                                               \r\r                                                                               \r\r                                                                               \r\r                                                                               \r\r                                                                               \r\r                                                                               \r\r                                                                               \r\r                                                                               \r\r                                                                               \r"
          ],
          "name": "stderr"
        },
        {
          "output_type": "stream",
          "text": [
            "#404 : [31 ms] train: 0.112815\n",
            "#405 : [24 ms] train: 0.112506\n",
            "#406 : [23 ms] train: 0.112308\n",
            "#407 : [20 ms] train: 0.112014\n",
            "#408 : [20 ms] train: 0.111582\n",
            "#409 : [20 ms] train: 0.111254\n",
            "#410 : [24 ms] train: 0.110853\n",
            "#411 : [26 ms] train: 0.110425\n",
            "#412 : [20 ms] train: 0.109956\n"
          ],
          "name": "stdout"
        },
        {
          "output_type": "stream",
          "text": [
            "\r                                                                               \r\r                                                                               \r\r                                                                               \r\r                                                                               \r\r                                                                               \r\r                                                                               \r\r                                                                               \r\r                                                                               \r\r                                                                               \r"
          ],
          "name": "stderr"
        },
        {
          "output_type": "stream",
          "text": [
            "#413 : [32 ms] train: 0.109782\n",
            "#414 : [23 ms] train: 0.109465\n",
            "#415 : [20 ms] train: 0.109153\n",
            "#416 : [23 ms] train: 0.108989\n",
            "#417 : [22 ms] train: 0.108622\n",
            "#418 : [21 ms] train: 0.108401\n",
            "#419 : [24 ms] train: 0.108271\n",
            "#420 : [24 ms] train: 0.107971\n",
            "#421 : [20 ms] train: 0.107843\n",
            "#422 : [21 ms] train: 0.106951\n"
          ],
          "name": "stdout"
        },
        {
          "output_type": "stream",
          "text": [
            "\r                                                                               \r\r                                                                               \r\r                                                                               \r\r                                                                               \r\r                                                                               \r\r                                                                               \r\r                                                                               \r\r                                                                               \r\r                                                                               \r"
          ],
          "name": "stderr"
        },
        {
          "output_type": "stream",
          "text": [
            "#423 : [24 ms] train: 0.106176\n",
            "#424 : [21 ms] train: 0.105473\n",
            "#425 : [23 ms] train: 0.104810\n",
            "#426 : [24 ms] train: 0.104127\n",
            "#427 : [22 ms] train: 0.103645\n",
            "#428 : [25 ms] train: 0.103052\n",
            "#429 : [25 ms] train: 0.102642\n",
            "#430 : [23 ms] train: 0.102150\n",
            "#431 : [22 ms] train: 0.101770\n"
          ],
          "name": "stdout"
        },
        {
          "output_type": "stream",
          "text": [
            "\r                                                                               \r\r                                                                               \r\r                                                                               \r\r                                                                               \r\r                                                                               \r\r                                                                               \r\r                                                                               \r\r                                                                               \r\r                                                                               \r"
          ],
          "name": "stderr"
        },
        {
          "output_type": "stream",
          "text": [
            "#432 : [27 ms] train: 0.101456\n",
            "#433 : [22 ms] train: 0.100402\n",
            "#434 : [22 ms] train: 0.100015\n",
            "#435 : [22 ms] train: 0.099596\n",
            "#436 : [22 ms] train: 0.098997\n",
            "#437 : [29 ms] train: 0.098385\n",
            "#438 : [29 ms] train: 0.097957\n",
            "#439 : [24 ms] train: 0.097420\n",
            "#440 : [23 ms] train: 0.097034\n"
          ],
          "name": "stdout"
        },
        {
          "output_type": "stream",
          "text": [
            "\r                                                                               \r\r                                                                               \r\r                                                                               \r\r                                                                               \r\r                                                                               \r\r                                                                               \r\r                                                                               \r\r                                                                               \r\r                                                                               \r"
          ],
          "name": "stderr"
        },
        {
          "output_type": "stream",
          "text": [
            "#441 : [26 ms] train: 0.096619\n",
            "#442 : [22 ms] train: 0.096249\n",
            "#443 : [21 ms] train: 0.095927\n",
            "#444 : [21 ms] train: 0.095590\n",
            "#445 : [21 ms] train: 0.095175\n",
            "#446 : [26 ms] train: 0.094903\n",
            "#447 : [23 ms] train: 0.094577\n",
            "#448 : [21 ms] train: 0.094307\n",
            "#449 : [24 ms] train: 0.094066\n"
          ],
          "name": "stdout"
        },
        {
          "output_type": "stream",
          "text": [
            "\r                                                                               \r\r                                                                               \r\r                                                                               \r\r                                                                               \r\r                                                                               \r\r                                                                               \r\r                                                                               \r\r                                                                               \r\r                                                                               \r"
          ],
          "name": "stderr"
        },
        {
          "output_type": "stream",
          "text": [
            "#450 : [25 ms] train: 0.093798\n",
            "#451 : [22 ms] train: 0.093405\n",
            "#452 : [21 ms] train: 0.093151\n",
            "#453 : [20 ms] train: 0.092880\n",
            "#454 : [22 ms] train: 0.092627\n",
            "#455 : [24 ms] train: 0.092357\n",
            "#456 : [36 ms] train: 0.092116\n",
            "#457 : [23 ms] train: 0.091891\n",
            "#458 : [21 ms] train: 0.091703\n"
          ],
          "name": "stdout"
        },
        {
          "output_type": "stream",
          "text": [
            "\r                                                                               \r\r                                                                               \r\r                                                                               \r\r                                                                               \r\r                                                                               \r\r                                                                               \r\r                                                                               \r\r                                                                               \r"
          ],
          "name": "stderr"
        },
        {
          "output_type": "stream",
          "text": [
            "#459 : [32 ms] train: 0.091515\n",
            "#460 : [23 ms] train: 0.091297\n",
            "#461 : [26 ms] train: 0.091046\n",
            "#462 : [25 ms] train: 0.090944\n",
            "#463 : [26 ms] train: 0.090733\n",
            "#464 : [21 ms] train: 0.090538\n",
            "#465 : [25 ms] train: 0.090405\n",
            "#466 : [21 ms] train: 0.090267\n",
            "#467 : [21 ms] train: 0.090122\n"
          ],
          "name": "stdout"
        },
        {
          "output_type": "stream",
          "text": [
            "\r                                                                               \r\r                                                                               \r\r                                                                               \r\r                                                                               \r\r                                                                               \r\r                                                                               \r\r                                                                               \r\r                                                                               \r\r                                                                               \r\r                                                                               \r"
          ],
          "name": "stderr"
        },
        {
          "output_type": "stream",
          "text": [
            "#468 : [25 ms] train: 0.089960\n",
            "#469 : [21 ms] train: 0.089820\n",
            "#470 : [21 ms] train: 0.089658\n",
            "#471 : [21 ms] train: 0.089478\n",
            "#472 : [22 ms] train: 0.089421\n",
            "#473 : [25 ms] train: 0.089325\n",
            "#474 : [23 ms] train: 0.089107\n",
            "#475 : [23 ms] train: 0.088941\n",
            "#476 : [22 ms] train: 0.088833\n"
          ],
          "name": "stdout"
        },
        {
          "output_type": "stream",
          "text": [
            "\r                                                                               \r\r                                                                               \r\r                                                                               \r\r                                                                               \r\r                                                                               \r\r                                                                               \r\r                                                                               \r\r                                                                               \r\r                                                                               \r"
          ],
          "name": "stderr"
        },
        {
          "output_type": "stream",
          "text": [
            "#477 : [23 ms] train: 0.088625\n",
            "#478 : [25 ms] train: 0.088276\n",
            "#479 : [24 ms] train: 0.088028\n",
            "#480 : [22 ms] train: 0.087734\n",
            "#481 : [22 ms] train: 0.087486\n",
            "#482 : [26 ms] train: 0.087189\n",
            "#483 : [26 ms] train: 0.087041\n",
            "#484 : [22 ms] train: 0.086854\n",
            "#485 : [22 ms] train: 0.086598\n"
          ],
          "name": "stdout"
        },
        {
          "output_type": "stream",
          "text": [
            "\r                                                                               \r\r                                                                               \r\r                                                                               \r\r                                                                               \r\r                                                                               \r\r                                                                               \r\r                                                                               \r\r                                                                               \r\r                                                                               \r"
          ],
          "name": "stderr"
        },
        {
          "output_type": "stream",
          "text": [
            "#486 : [26 ms] train: 0.086405\n",
            "#487 : [22 ms] train: 0.086234\n",
            "#488 : [22 ms] train: 0.086061\n",
            "#489 : [22 ms] train: 0.085890\n",
            "#490 : [28 ms] train: 0.085676\n",
            "#491 : [26 ms] train: 0.085558\n",
            "#492 : [29 ms] train: 0.085345\n",
            "#493 : [23 ms] train: 0.085268\n",
            "#494 : [24 ms] train: 0.085098\n"
          ],
          "name": "stdout"
        },
        {
          "output_type": "stream",
          "text": [
            "\r                                                                               \r\r                                                                               \r\r                                                                               \r\r                                                                               \r\r                                                                               \r\r                                                                               \r\r                                                                               \r\r                                                                               \r"
          ],
          "name": "stderr"
        },
        {
          "output_type": "stream",
          "text": [
            "#495 : [28 ms] train: 0.084820\n",
            "#496 : [24 ms] train: 0.084669\n",
            "#497 : [22 ms] train: 0.084516\n",
            "#498 : [29 ms] train: 0.084312\n",
            "#499 : [27 ms] train: 0.084134\n",
            "#500 : [29 ms] train: 0.084060\n"
          ],
          "name": "stdout"
        },
        {
          "output_type": "stream",
          "text": [
            "\r                                                                               \r\r                                                                               \r"
          ],
          "name": "stderr"
        }
      ]
    },
    {
      "cell_type": "code",
      "metadata": {
        "id": "lbevNzoLtuKp"
      },
      "source": [
        "iris_model = pd.DataFrame(columns = ['quantisation_error', 'iterations', 'mode', 'error_min'])\r\n",
        "iris_model = create_model(model_df = iris_model, list_gng_models = [gng_model1, gng_model2, gng_model3, gng_model4, gng_model5], \r\n",
        "                          list_modes = [\"gng_model1\", \"gng_model2\", \"gng_model3\", \"gng_model4\", \"gng_model5\"] )"
      ],
      "execution_count": 50,
      "outputs": []
    },
    {
      "cell_type": "code",
      "metadata": {
        "colab": {
          "base_uri": "https://localhost:8080/",
          "height": 467
        },
        "id": "44vCKRDfty7s",
        "outputId": "9c920780-5ebf-4ba0-a8e2-28c919a46dc9"
      },
      "source": [
        "g = sns.FacetGrid(iris_model, col=\"mode\")\r\n",
        "g.map(sns.lineplot, \"iterations\", \"quantisation_error\")\r\n",
        "g.fig.set_figwidth(22)\r\n",
        "g.fig.set_figheight(8)\r\n",
        "\r\n",
        "\r\n",
        "ax1, ax2, ax3, ax4, ax5 = g.axes[0]\r\n",
        "\r\n",
        "ax1.axhline(iris_model.query('mode == \"gng_model1\"')['error_min'][0], ls='--')\r\n",
        "ax2.axhline(iris_model.query('mode == \"gng_model2\"')['error_min'][0], ls='--')\r\n",
        "ax3.axhline(iris_model.query('mode == \"gng_model3\"')['error_min'][0], ls='--')\r\n",
        "ax4.axhline(iris_model.query('mode == \"gng_model4\"')['error_min'][0], ls='--')\r\n",
        "ax5.axhline(iris_model.query('mode == \"gng_model5\"')['error_min'][0], ls='--')\r\n",
        "\r\n",
        "\r\n",
        "ax1.set(ylim=(0.00, 0.075))\r\n",
        "ax2.set(ylim=(0.00, 0.075))\r\n",
        "ax3.set(ylim=(0.00, 0.075))\r\n",
        "ax4.set(ylim=(0.00, 0.075))\r\n",
        "ax5.set(ylim=(0.00, 0.075))\r\n",
        "\r\n",
        "ax1.text(1500,0.03, \"min error:\" + str(round(iris_model.query('mode == \"gng_model1\"')['error_min'][0], 5)))\r\n",
        "ax2.text(1500,0.03, \"min error:\" + str(round(iris_model.query('mode == \"gng_model2\"')['error_min'][0], 5)))\r\n",
        "ax3.text(1500,0.03, \"min error:\" + str(round(iris_model.query('mode == \"gng_model3\"')['error_min'][0], 5)))\r\n",
        "ax4.text(1500,0.03, \"min error:\" + str(round(iris_model.query('mode == \"gng_model4\"')['error_min'][0], 5)))\r\n",
        "ax5.text(1500,0.03, \"min error:\" + str(round(iris_model.query('mode == \"gng_model5\"')['error_min'][0], 5)))"
      ],
      "execution_count": 51,
      "outputs": [
        {
          "output_type": "execute_result",
          "data": {
            "text/plain": [
              "Text(1500, 0.03, 'min error:0.08406')"
            ]
          },
          "metadata": {
            "tags": []
          },
          "execution_count": 51
        },
        {
          "output_type": "display_data",
          "data": {
            "image/png": "[encoded data removed]",
            "text/plain": [
              "<Figure size 1584x576 with 5 Axes>"
            ]
          },
          "metadata": {
            "tags": []
          }
        }
      ]
    }
  ]
}